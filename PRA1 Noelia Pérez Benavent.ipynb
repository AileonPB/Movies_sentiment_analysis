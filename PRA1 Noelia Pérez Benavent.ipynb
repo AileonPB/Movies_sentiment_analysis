{
 "cells": [
  {
   "cell_type": "markdown",
   "id": "1894f082",
   "metadata": {
    "id": "1894f082"
   },
   "source": [
    "<div style=\"width: 100%; clear: both;\">\n",
    "<div style=\"float: left; width: 50%;\">\n",
    "<img src=\"https://www.uoc.edu/content/dam/news/images/noticies/2016/202-nova-marca-uoc.jpg\", align=\"left\" width=\"380\" height=\"120\">\n",
    "</div>\n",
    "</div>\n",
    "<div style=\"float: right; width: 50%;\">\n",
    "<p style=\"margin: 0; padding-top: 22px; text-align:right;\">M2.893 - Análisis de textos</p>\n",
    "<p style=\"margin: 0; text-align:right;\">Máster en Ciencia de Datos </p>\n",
    "<p style=\"margin: 0; text-align:right; padding-button: 100px;\">Estudios de Informática, Multimedia y Telecomunicaciones</p>\n",
    "</div>\n",
    "</div>\n",
    "<div style=\"width: 100%; clear: both;\">\n",
    "<div style=\"width:100%;\">&nbsp;</div>\n",
    "\n",
    "\n",
    "# Procesamiento y análisis de información textual (PRA1)\n",
    "\n",
    "En la PRA1 trabajaremos con un dataset de reseñas (opiniones o reviews) y lo analizaremos siguiendo un conjunto de tareas: pasando por la preparación y limpieza de los datos, hasta la evaluación de modelos de clasificación de sentimientos. Por lo tanto, los objetivos de esta actividad son:\n",
    "\n",
    "- Aplicar técnicas de procesamiento de lenguaje natural para limpiar y preprocesar los datos del dataset elegido.\n",
    "- Implementar algoritmos de aprendizaje automático, como LDA y clasificación supervisada, para analizar los textos de las reseñas.\n",
    "- Evaluar el rendimiento de los modelos creados, utilizando las métricas adecuadas\n",
    "\n",
    "Entonces, en esta primera práctica, revisaremos y aplicaremos los conocimientos aprendidos en los primeros módulos de la asignatura. Concretamente trataremos los siguientes temas.\n",
    "\n",
    "<ul>\n",
    "<li>1. Elección y preparación del dataset (10%).\n",
    "<li>2. Obtención de datos (30%).\n",
    "<li>3. Detección de temas (30%).\n",
    "<li>4. Clasificación automática de opiniones positivas y negativas (20%).\n",
    "<li>5. Evaluación (10%).\n",
    "</ul>\n",
    "  \n",
    "A continuación, se describe la estructura de la práctica a realizar. Considerar que por cada apartado, se han planteado varios ejercicios a resolver; y en algunos pocos casos, se deja la solución para orientar un poco mejor el desarrollo."
   ]
  },
  {
   "cell_type": "code",
   "execution_count": 1,
   "id": "02783e52-8d17-47ea-aa0b-8d32613cac63",
   "metadata": {
    "id": "02783e52-8d17-47ea-aa0b-8d32613cac63"
   },
   "outputs": [],
   "source": [
    "import warnings\n",
    "warnings.filterwarnings('ignore', category=DeprecationWarning)"
   ]
  },
  {
   "cell_type": "markdown",
   "id": "1ce11941-7b11-4a49-8a18-6fe3bdd9e3dc",
   "metadata": {
    "id": "1ce11941-7b11-4a49-8a18-6fe3bdd9e3dc"
   },
   "source": [
    "# 1. Elección y preparación del dataset\n"
   ]
  },
  {
   "cell_type": "markdown",
   "id": "bb0bf012",
   "metadata": {
    "id": "bb0bf012"
   },
   "source": [
    "## 1.1. Descripción y carga del dataset\n",
    "\n",
    "<div style=\"background-color: #EDF7FF; border-color: #7C9DBF; border-left: 5px solid #7C9DBF; padding: 1em;\">\n",
    "\n",
    "<strong>Ejercicio 1.1.1:</strong> En palabras, describir el título del dataset seleccionado, la dirección original (fuente), y una descripción del mismo.\n",
    "\n",
    "</div>"
   ]
  },
  {
   "cell_type": "markdown",
   "id": "usrsRuOTa-BA",
   "metadata": {
    "id": "usrsRuOTa-BA"
   },
   "source": [
    "El dataset utilizado para esta práctica es IMDB Dataset of 50K Movie Reviews.\n",
    "\n",
    "Fuente original: https://www.kaggle.com/datasets/lakshmi25npathi/imdb-dataset-of-50k-movie-reviews\n",
    "\n",
    "Este dataset contiene un total de 50,000 reseñas de películas obtenidas de IMDb cada reseña está clasificada según si la opinión que indica es positiva o negativa.\n"
   ]
  },
  {
   "cell_type": "markdown",
   "id": "vJpqjBndVvFT",
   "metadata": {
    "id": "vJpqjBndVvFT"
   },
   "source": [
    "<div style=\"background-color: #EDF7FF; border-color: #7C9DBF; border-left: 5px solid #7C9DBF; padding: 1em;\">\n",
    "\n",
    "<strong>Ejercicio 1.1.2:</strong> Carga del dataset y descripción de sus principales características: tamaño, estructura, distribución de clase/rating, distribución de longitudes de texto, exploración preliminar del texto de las opiniones (orientada a descubrir potenciales tareas de limpieza a realizar).\n",
    "\n",
    "</div>\n",
    "\n",
    "<b>Importante</b>: En caso de haber elegido un dataset sin una columna que denote el sentimiento de cada texto, pero, sí el rating, en este ejercicio, agregar una nueva columna de sentimiento. Por ejemplo, si tenemos los valores 1 a 5 para rating, podríamos considerar a los valores de 1 y 2, como sentimiento negativo (0), y a los valores 4 y 5 como positivo (1). Por ahora, nos vamos a centrar en la clasificación binaria, por tanto, no es necesario considerar a los valores de sentimiento “neutral” o rating=3\n",
    "\n",
    "\n"
   ]
  },
  {
   "cell_type": "code",
   "execution_count": 2,
   "id": "bbf74bac",
   "metadata": {
    "id": "bbf74bac"
   },
   "outputs": [
    {
     "name": "stdout",
     "output_type": "stream",
     "text": [
      "Tamaño del dataset (50000, 2)\n"
     ]
    }
   ],
   "source": [
    "import pandas as pd\n",
    "\n",
    "df = pd.read_csv('./IMDB.csv')\n",
    "\n",
    "df = pd.DataFrame(df)\n",
    "print('Tamaño del dataset', df.shape)\n",
    "\n",
    "df.sample(10, random_state=14)\n",
    "\n",
    "df = df.sample(n=5000, random_state=42).reset_index(drop=True)\n"
   ]
  },
  {
   "cell_type": "markdown",
   "id": "282dcbe0-0956-467a-95cb-77f0e305aa8f",
   "metadata": {},
   "source": [
    "Podemos observar como el dataset escogido contiene 50.000 instancias (reseñas de películas).\n",
    "\n",
    "Respecto a su estructura, éste tiene 2 atributos:\n",
    "\n",
    "review: reseña sobre la película.\n",
    "sentiment:variable que indica el sentimiento asociado a reseña (positiva o negativa).\n",
    "\n",
    "A continuación se realizaran varias exploraciones y visualizaciones para ir comprendiendo el dataset y detectar las posibles tareas de limpieza a realizar.\n"
   ]
  },
  {
   "cell_type": "markdown",
   "id": "gmUCKPB5xGjC",
   "metadata": {
    "id": "gmUCKPB5xGjC"
   },
   "source": [
    "## 1.2 Limpieza de texto\n",
    "\n",
    "Antes de trabajar con los textos de las reseñas, hay que limpiarlos. En general, dependiendo del dataset podría ser necesario:\n",
    "\n",
    "1. Eliminar menciones (@), hashtags (#), o código HTML.\n",
    "2. Eliminar páginas web.\n",
    "3. Corregir palabras mal escritas (las que resalten en el corpus).\n",
    "4. Eliminar duplicados.\n",
    "5. Convertir contracciones, (por ejemplo, en lugar de wouldn't, se cambiaría a would not).\n",
    "6. Filtrar tokens no alfabéticos.\n",
    "7. Filtrar signos de puntuación (!) y quitar espacios doble. Se recomienda no quitar el \".\" porque luego se usará este signo para crear la lista de sentencias. Como referencia ver el ejemplo de PRA proporcionado (*Ejemplo_PRA1.ipynb*).\n",
    "9. Convertir texto a minúsculas.\n",
    "\n",
    "Por cada punto, realizar las verificaciones necesarias para determinar la existencia de cada elemento mencionado en el punto anterior (menciones, hashtags, código HTML, páginas web, etc.) e implementar las acciones de limpieza (según se requiera).\n",
    "\n",
    "<b>IMPORTANTE</b>:\n",
    "- Antes de implementar cualquier acción, se sugiere crear una columna, llamada *text*, a partir del contenido de la columna de texto original del datset elegido; y sobre la nueva columna aplicar las tareas de limpieza.\n",
    "- Por cada acción de limpieza realizada, enlistar al menos una reseña que muestre que la función implementada funciona. Es decir, presentar el texto original y el texto transformado (*text*).\n",
    "- Agregar las celdas de texto y código necesarias, de tal manera que se realice las verificaciones sugeridas, y se dé solución a los problemas de calidad de datos encontrados. Como orientación, se recomienda revisar el archivo <b>Ejemplo_PRA1.ipynb</b> para ver la mejor forma de organanizar la solución."
   ]
  },
  {
   "cell_type": "code",
   "execution_count": 3,
   "id": "14f55c4a-d217-4b77-800b-e03ce9913f1f",
   "metadata": {
    "id": "14f55c4a-d217-4b77-800b-e03ce9913f1f"
   },
   "outputs": [
    {
     "data": {
      "text/plain": [
       "positive    50.38\n",
       "negative    49.62\n",
       "Name: sentiment, dtype: float64"
      ]
     },
     "execution_count": 3,
     "metadata": {},
     "output_type": "execute_result"
    },
    {
     "data": {
      "image/png": "[encoded data removed]",
      "text/plain": [
       "<Figure size 432x288 with 1 Axes>"
      ]
     },
     "metadata": {
      "needs_background": "light"
     },
     "output_type": "display_data"
    }
   ],
   "source": [
    "#Graficamos un histograma para tener una idea de la distribución de las reseñas y ver el poncentaje de cada clase.\n",
    "\n",
    "df.sentiment.hist()\n",
    "\n",
    "# Distribución de calificaciones por sentimiento:\n",
    "df['sentiment'].value_counts(normalize=True) * 100 # valor porcentual\n"
   ]
  },
  {
   "cell_type": "markdown",
   "id": "5ed58290-b5a3-43d1-8922-a96a95036ece",
   "metadata": {},
   "source": [
    "Como observamos en el histograma, el conjunto está balanceado, incluyendo 25,000 reseñas positivas y 25,000 negativas, lo cual lo convierte en una excelente fuente de datos para tareas de clasificación binaria de sentimientos."
   ]
  },
  {
   "cell_type": "markdown",
   "id": "0fd14ff8-01d2-482a-9f70-a8c1d5c4dca6",
   "metadata": {},
   "source": [
    "Ahora exploremos un poco más el texto de las reseñas para ver qué tareas de limpieza se deben realizar."
   ]
  },
  {
   "cell_type": "code",
   "execution_count": 4,
   "id": "84206f5e",
   "metadata": {},
   "outputs": [
    {
     "data": {
      "text/plain": [
       "<AxesSubplot:>"
      ]
     },
     "execution_count": 4,
     "metadata": {},
     "output_type": "execute_result"
    },
    {
     "data": {
      "image/png": "[encoded data removed]",
      "text/plain": [
       "<Figure size 432x288 with 1 Axes>"
      ]
     },
     "metadata": {
      "needs_background": "light"
     },
     "output_type": "display_data"
    }
   ],
   "source": [
    "def words_counter(text):\n",
    "    if type(text) != float:\n",
    "      return len(text.split()) # contar palabras de cada reseña\n",
    "    else:\n",
    "      return None\n",
    "\n",
    "df['length'] =  df['review'].apply(words_counter)\n",
    "# Graficar histograma de longitud de textos:\n",
    "df.length.hist()"
   ]
  },
  {
   "cell_type": "markdown",
   "id": "e2b3d6e1",
   "metadata": {},
   "source": [
    "Ahora vamos a revisar si existen reseñas cortas que no aporten demasiada información."
   ]
  },
  {
   "cell_type": "code",
   "execution_count": 5,
   "id": "688475a0",
   "metadata": {
    "scrolled": true
   },
   "outputs": [
    {
     "data": {
      "text/html": [
       "<div>\n",
       "<style scoped>\n",
       "    .dataframe tbody tr th:only-of-type {\n",
       "        vertical-align: middle;\n",
       "    }\n",
       "\n",
       "    .dataframe tbody tr th {\n",
       "        vertical-align: top;\n",
       "    }\n",
       "\n",
       "    .dataframe thead th {\n",
       "        text-align: right;\n",
       "    }\n",
       "</style>\n",
       "<table border=\"1\" class=\"dataframe\">\n",
       "  <thead>\n",
       "    <tr style=\"text-align: right;\">\n",
       "      <th></th>\n",
       "      <th>review</th>\n",
       "      <th>sentiment</th>\n",
       "      <th>length</th>\n",
       "    </tr>\n",
       "  </thead>\n",
       "  <tbody>\n",
       "    <tr>\n",
       "      <th>1328</th>\n",
       "      <td>The characters are unlikeable and the script i...</td>\n",
       "      <td>negative</td>\n",
       "      <td>19</td>\n",
       "    </tr>\n",
       "    <tr>\n",
       "      <th>4899</th>\n",
       "      <td>Absolutely fantastic! Whatever I say wouldn't ...</td>\n",
       "      <td>positive</td>\n",
       "      <td>18</td>\n",
       "    </tr>\n",
       "  </tbody>\n",
       "</table>\n",
       "</div>"
      ],
      "text/plain": [
       "                                                 review sentiment  length\n",
       "1328  The characters are unlikeable and the script i...  negative      19\n",
       "4899  Absolutely fantastic! Whatever I say wouldn't ...  positive      18"
      ]
     },
     "execution_count": 5,
     "metadata": {},
     "output_type": "execute_result"
    }
   ],
   "source": [
    "df[df.length<20]\n"
   ]
  },
  {
   "cell_type": "markdown",
   "id": "ab641f0f",
   "metadata": {},
   "source": [
    "Como se pueden observar, aunque sean cortas, las reseñas muestran bien el sentimiento negativo o positivo y aportan razones que justifican la elección de dicho sentimiento, así que de momento se van a mantener las reseñas más cortas y se procede con la limpieza del dataset."
   ]
  },
  {
   "cell_type": "code",
   "execution_count": 6,
   "id": "8a189cd6-5df7-43df-a0e2-d370943aeedf",
   "metadata": {
    "scrolled": true
   },
   "outputs": [
    {
     "data": {
      "text/html": [
       "<div>\n",
       "<style scoped>\n",
       "    .dataframe tbody tr th:only-of-type {\n",
       "        vertical-align: middle;\n",
       "    }\n",
       "\n",
       "    .dataframe tbody tr th {\n",
       "        vertical-align: top;\n",
       "    }\n",
       "\n",
       "    .dataframe thead th {\n",
       "        text-align: right;\n",
       "    }\n",
       "</style>\n",
       "<table border=\"1\" class=\"dataframe\">\n",
       "  <thead>\n",
       "    <tr style=\"text-align: right;\">\n",
       "      <th></th>\n",
       "      <th>review</th>\n",
       "      <th>sentiment</th>\n",
       "      <th>length</th>\n",
       "    </tr>\n",
       "  </thead>\n",
       "  <tbody>\n",
       "    <tr>\n",
       "      <th>4643</th>\n",
       "      <td>This small John Ford western with no 'stars' but a cast of character actors is one of his masterpieces. It has a documentary-like feel to it as it traces the journey West of a party of Mormons and it may be the most authentic looking of all Ford's films, (it's on par with \"The Sun Shines Bright\" which he made a couple of years later).&lt;br /&gt;&lt;br /&gt;There is a plot of sorts, (a group of bank robbers join the wagon train at one point), but the film's dramatic highlights are almost incidental. The splendid performances of Ford's stock company, (Ben Johnson, Harry Carey Jr, Ward Bond, Jane Darwell etc), adds considerably to the film's authenticity while the nearest the film gets to a full-bodied star performance is Joanne Dru's Denver. Dru was a much finer actress than she was ever given credit for as were Bond and Johnson, who at least was finally awarded with the recognition of an Oscar for his work in \"The Last Picture Show\". As he said himself, 'It couldn't have happened to a nicer fella'. Add Bert Glennon's superb location photography and you have a genuine piece of Americana that couldn't have some from anyone other than Ford. This is a film that truly honors America's pioneers and is full of sentiment and feeling.</td>\n",
       "      <td>positive</td>\n",
       "      <td>219</td>\n",
       "    </tr>\n",
       "    <tr>\n",
       "      <th>1630</th>\n",
       "      <td>The Eternal Jew (Der Ewige Jude) does not have what we today would call the markings of a scholarly document: rather than naming experts or sources to support what it says, it simply says, without opposition, what it wants us to believe (one will concede that American newsreels of that period were also much less regulated than would seem ethical to a modern audience, often inserting dramatized scenes and passing them off as actual news footage). Add to this directed propaganda the fact that filmmaker Hippler was \"preaching to the converted,\" not so much asking gentile Europeans to hate the Jews as validating the feelings so many of them must have held already, in order to have allowed the holocaust that followed. The weakest link in the film's logic shows in its \"rat\" analogy, wherein it goes on to explain the behavior of rats, and then adds something to the effect of \"Well, Jewish people are like that too.\" Similarly it characterizes Jewish people as ugly by showing ugly Jewish people in comparison to attractive gentiles; the accompanying leap of faith is that ugly is bad. The film appears to contradict itself a few times, for example by attacking Western painters who portrayed Old Testament characters as light-skinned Europeans; thereby the text admits that so-called \"Hebrew\" ethnicity is in fact an ingrained aspect of Christian culture. It also shows ghetto Jews willingly living in roach-infested filth, despite the supposed treasure they've hoarded, and then flip-flops by saying that these same undesirables live in wealth and luxury as soon as they leave the ghetto. Incidentally, who wouldn't? The use of scenes from a well-known American film, House of Rothschild, shows an equally blurry deployment of logic. First the film is denounced as having been made by Jews; then it is apparently used by Hippler to verify the deceptiveness of Jews (the aforementioned pretense of poverty by ghetto Jews, shown as a means of avoiding taxation, although the Rothschild character's \"spin\" is that Jews are taxed excessively); finally the Rothschild film is once again execrated for implying that the famed banking family invented the checking account. This apparent indecisiveness in whether the American footage is shown positively or negatively might become clearer with repeated viewings, but at first sight it makes for some murky moviewatching. For all of Eternal Jew's imperfections, I was at first surprised that the IMDb viewer rating for this film is as high as it is, just shy of a \"5\" to date. I'd say the reason is that EJ's documentary value has exceeded its original purpose, offering us, unintentionally, a look into the lives of European Jews as they would not be seen a few years hence. Needless to say the film's very badness also provides an historical insight into bad, or simply evil, filmmaking as a propagandist's tool. About this time I should expect director Hippler to flip-flop once again, springing forward to say \"That's what I meant to do all along!\" The scenes depicting animal slaughter are particularly gruesome, and show same as decidedly inhumane, contrary to the intent of Kosher law to prevent animal suffering. I would like for someone who has seen the film, and has some knowledge of these procedures, to comment on whether the portrayal is accurate.</td>\n",
       "      <td>negative</td>\n",
       "      <td>546</td>\n",
       "    </tr>\n",
       "    <tr>\n",
       "      <th>2096</th>\n",
       "      <td>I don't usually comment on films or TV shows but had to post a comment about Las Vegas.&lt;br /&gt;&lt;br /&gt;Naturally here in the UK we are about 2/3rd's through the 3rd season and though i have managed to watch the last series of season 3 ( via other means ) i'm still glued every Friday at 9pm.&lt;br /&gt;&lt;br /&gt;From the very first episode of season 1 i have been a big big fan of this show and own all 3 seasons on DVD, yes i cannot wait for season 4 to start in October.&lt;br /&gt;&lt;br /&gt;So why do i love this show so much, well i have to agree with the last poster.... James Caan, i know one person cannot make a team but Big Ed Deline was made for Caan or maybe it was the other way around, i read that the producers were considering Martin Sheen for Ed Deline.... Do'h no way!!! i also agree that Caan's character is getting very soft, i also preferred the tough take no sh*t Big Bad Eddy D that we saw in season 1 &amp; 2, he seems to have mellowed out.&lt;br /&gt;&lt;br /&gt;As i said no one person makes the team by themselves's and of course the other cast members Josh Duhamel/Danny, James LeSure/Mike, Vanessa Marcil/Sam, Nikki Cox/Mary, Molly Sims/Delinda all contribute well, even outside cast members such as Cheryl Ladd as Jillian Deline, Harry Groener as Gunther, Dean Caine as Casey, Mitchell Longley as Mitch who may feature 6 or 7 times during a season can fit in just as well as if they've been in every single episode from day one.&lt;br /&gt;&lt;br /&gt;This show has everything, drama, action, suspense, laughs, romance, glitz's, glamour and big time celebrity's who often play themselves's.&lt;br /&gt;&lt;br /&gt;Many may disagree but this is one of the best shows on digital TV and i hope it may long continue after season 4.</td>\n",
       "      <td>positive</td>\n",
       "      <td>317</td>\n",
       "    </tr>\n",
       "    <tr>\n",
       "      <th>353</th>\n",
       "      <td>Amidst all the many problems that make this a dire piece of celluloid is the stupidest plot device in recent cinema history. Richard Gere determines who the Jackal's real target is through some form of revelation. He does not work anything out, it just comes to him. When in doubt \"He's going after the First Lady!\". This film blows chunks.</td>\n",
       "      <td>negative</td>\n",
       "      <td>60</td>\n",
       "    </tr>\n",
       "    <tr>\n",
       "      <th>557</th>\n",
       "      <td>This gets a two because I liked it as a kid, but it became so redundant that I just started to hate it... I can't give this a descriptive review because it would be restating one thing after the other, I probably wouldn't say anything that everyone else didn't say already.&lt;br /&gt;&lt;br /&gt;The only other thing about this show is that it's pretty nasty, with the kid with the boil to that twisted babysitter to the stupidity that runs around and about in it. I have a cousin that loves this show and he's the strangest and dumbest person I have met. This show should be pulled from the air. It's always the same thing over and over... They need to put better shows on Nick. I'm getting really really tired of stuff like this.</td>\n",
       "      <td>negative</td>\n",
       "      <td>135</td>\n",
       "    </tr>\n",
       "  </tbody>\n",
       "</table>\n",
       "</div>"
      ],
      "text/plain": [
       "                                                                                                                                                                                                                                                                                                                                                                                                                                                                                                                                                                                                                                                                                                                                                                                                                                                                                                                                                                                                                                                                                                                                                                                                                                                                                                                                                                                                                                                                                                                                                                                                                                                                                                                                                                                                                                                                                                                                                                                                                                                                                                                                                                                                                                                                                                                                                                                                                                                                                                                                                                                                                                                                                                                                                                                                                                                                                                                                                                                                                                                                                                                                                                                                                                                                                                                                                                                                                                              review  \\\n",
       "4643                                                                                                                                                                                                                                                                                                                                                                                                                                                                                                                                                                                                                                                                                                                                                                                                                                                                                                                                                                                                                                                                                                                                                                                                                                                                                                                                                                                                                                                                                                                                                                                                                                                                                                                                                                                                                                                                                                                                                                                                                                                                                                                                                               This small John Ford western with no 'stars' but a cast of character actors is one of his masterpieces. It has a documentary-like feel to it as it traces the journey West of a party of Mormons and it may be the most authentic looking of all Ford's films, (it's on par with \"The Sun Shines Bright\" which he made a couple of years later).<br /><br />There is a plot of sorts, (a group of bank robbers join the wagon train at one point), but the film's dramatic highlights are almost incidental. The splendid performances of Ford's stock company, (Ben Johnson, Harry Carey Jr, Ward Bond, Jane Darwell etc), adds considerably to the film's authenticity while the nearest the film gets to a full-bodied star performance is Joanne Dru's Denver. Dru was a much finer actress than she was ever given credit for as were Bond and Johnson, who at least was finally awarded with the recognition of an Oscar for his work in \"The Last Picture Show\". As he said himself, 'It couldn't have happened to a nicer fella'. Add Bert Glennon's superb location photography and you have a genuine piece of Americana that couldn't have some from anyone other than Ford. This is a film that truly honors America's pioneers and is full of sentiment and feeling.   \n",
       "1630  The Eternal Jew (Der Ewige Jude) does not have what we today would call the markings of a scholarly document: rather than naming experts or sources to support what it says, it simply says, without opposition, what it wants us to believe (one will concede that American newsreels of that period were also much less regulated than would seem ethical to a modern audience, often inserting dramatized scenes and passing them off as actual news footage). Add to this directed propaganda the fact that filmmaker Hippler was \"preaching to the converted,\" not so much asking gentile Europeans to hate the Jews as validating the feelings so many of them must have held already, in order to have allowed the holocaust that followed. The weakest link in the film's logic shows in its \"rat\" analogy, wherein it goes on to explain the behavior of rats, and then adds something to the effect of \"Well, Jewish people are like that too.\" Similarly it characterizes Jewish people as ugly by showing ugly Jewish people in comparison to attractive gentiles; the accompanying leap of faith is that ugly is bad. The film appears to contradict itself a few times, for example by attacking Western painters who portrayed Old Testament characters as light-skinned Europeans; thereby the text admits that so-called \"Hebrew\" ethnicity is in fact an ingrained aspect of Christian culture. It also shows ghetto Jews willingly living in roach-infested filth, despite the supposed treasure they've hoarded, and then flip-flops by saying that these same undesirables live in wealth and luxury as soon as they leave the ghetto. Incidentally, who wouldn't? The use of scenes from a well-known American film, House of Rothschild, shows an equally blurry deployment of logic. First the film is denounced as having been made by Jews; then it is apparently used by Hippler to verify the deceptiveness of Jews (the aforementioned pretense of poverty by ghetto Jews, shown as a means of avoiding taxation, although the Rothschild character's \"spin\" is that Jews are taxed excessively); finally the Rothschild film is once again execrated for implying that the famed banking family invented the checking account. This apparent indecisiveness in whether the American footage is shown positively or negatively might become clearer with repeated viewings, but at first sight it makes for some murky moviewatching. For all of Eternal Jew's imperfections, I was at first surprised that the IMDb viewer rating for this film is as high as it is, just shy of a \"5\" to date. I'd say the reason is that EJ's documentary value has exceeded its original purpose, offering us, unintentionally, a look into the lives of European Jews as they would not be seen a few years hence. Needless to say the film's very badness also provides an historical insight into bad, or simply evil, filmmaking as a propagandist's tool. About this time I should expect director Hippler to flip-flop once again, springing forward to say \"That's what I meant to do all along!\" The scenes depicting animal slaughter are particularly gruesome, and show same as decidedly inhumane, contrary to the intent of Kosher law to prevent animal suffering. I would like for someone who has seen the film, and has some knowledge of these procedures, to comment on whether the portrayal is accurate.   \n",
       "2096                                                                                                                                                                                                                                                                                                                                                                                                                                                                                                                                                                                                                                                                                                                                                                                                                                                                                                                                                                                                                                                                                                                                                                                                                                                                                                                                                                                                                                                                                                                                                                                                                                                                                   I don't usually comment on films or TV shows but had to post a comment about Las Vegas.<br /><br />Naturally here in the UK we are about 2/3rd's through the 3rd season and though i have managed to watch the last series of season 3 ( via other means ) i'm still glued every Friday at 9pm.<br /><br />From the very first episode of season 1 i have been a big big fan of this show and own all 3 seasons on DVD, yes i cannot wait for season 4 to start in October.<br /><br />So why do i love this show so much, well i have to agree with the last poster.... James Caan, i know one person cannot make a team but Big Ed Deline was made for Caan or maybe it was the other way around, i read that the producers were considering Martin Sheen for Ed Deline.... Do'h no way!!! i also agree that Caan's character is getting very soft, i also preferred the tough take no sh*t Big Bad Eddy D that we saw in season 1 & 2, he seems to have mellowed out.<br /><br />As i said no one person makes the team by themselves's and of course the other cast members Josh Duhamel/Danny, James LeSure/Mike, Vanessa Marcil/Sam, Nikki Cox/Mary, Molly Sims/Delinda all contribute well, even outside cast members such as Cheryl Ladd as Jillian Deline, Harry Groener as Gunther, Dean Caine as Casey, Mitchell Longley as Mitch who may feature 6 or 7 times during a season can fit in just as well as if they've been in every single episode from day one.<br /><br />This show has everything, drama, action, suspense, laughs, romance, glitz's, glamour and big time celebrity's who often play themselves's.<br /><br />Many may disagree but this is one of the best shows on digital TV and i hope it may long continue after season 4.   \n",
       "353                                                                                                                                                                                                                                                                                                                                                                                                                                                                                                                                                                                                                                                                                                                                                                                                                                                                                                                                                                                                                                                                                                                                                                                                                                                                                                                                                                                                                                                                                                                                                                                                                                                                                                                                                                                                                                                                                                                                                                                                                                                                                                                                                                                                                                                                                                                                                                                                                                                                                                                                                                                                                                                                                                                                                                                                                                                                                                                                                                                                                                                                                             Amidst all the many problems that make this a dire piece of celluloid is the stupidest plot device in recent cinema history. Richard Gere determines who the Jackal's real target is through some form of revelation. He does not work anything out, it just comes to him. When in doubt \"He's going after the First Lady!\". This film blows chunks.   \n",
       "557                                                                                                                                                                                                                                                                                                                                                                                                                                                                                                                                                                                                                                                                                                                                                                                                                                                                                                                                                                                                                                                                                                                                                                                                                                                                                                                                                                                                                                                                                                                                                                                                                                                                                                                                                                                                                                                                                                                                                                                                                                                                                                                                                                                                                                                                                                                                                                                                                                                                                                                                                                                                                                                                                                 This gets a two because I liked it as a kid, but it became so redundant that I just started to hate it... I can't give this a descriptive review because it would be restating one thing after the other, I probably wouldn't say anything that everyone else didn't say already.<br /><br />The only other thing about this show is that it's pretty nasty, with the kid with the boil to that twisted babysitter to the stupidity that runs around and about in it. I have a cousin that loves this show and he's the strangest and dumbest person I have met. This show should be pulled from the air. It's always the same thing over and over... They need to put better shows on Nick. I'm getting really really tired of stuff like this.   \n",
       "\n",
       "     sentiment  length  \n",
       "4643  positive     219  \n",
       "1630  negative     546  \n",
       "2096  positive     317  \n",
       "353   negative      60  \n",
       "557   negative     135  "
      ]
     },
     "execution_count": 6,
     "metadata": {},
     "output_type": "execute_result"
    }
   ],
   "source": [
    "#Expandir la visualización de la columna de frases:\n",
    "pd.set_option('display.max_colwidth', None)\n",
    "df.sample(5, random_state = 223) #Texto completo de algunas frases\n"
   ]
  },
  {
   "cell_type": "markdown",
   "id": "dd7b3d69-0956-4d2c-a1f3-244c375cb50e",
   "metadata": {},
   "source": [
    "Primero, se crea una nueva columna llamada text para realizar en ella las tareas de preprocesamiento y limpieza."
   ]
  },
  {
   "cell_type": "code",
   "execution_count": 7,
   "id": "c488406a-79e0-46b6-82b5-f61bf3e1b88f",
   "metadata": {},
   "outputs": [],
   "source": [
    "df['text'] = df['review'] "
   ]
  },
  {
   "cell_type": "markdown",
   "id": "32489522",
   "metadata": {},
   "source": [
    "El código html se eliminará como parte del preprocesamiento. Seguidamente, se procederá a explorar si existen menciones o urls."
   ]
  },
  {
   "cell_type": "code",
   "execution_count": 8,
   "id": "036d628a-fd41-4a00-b480-e444a5d8700a",
   "metadata": {
    "scrolled": true
   },
   "outputs": [
    {
     "data": {
      "text/plain": [
       "review    I don't usually comment on films or TV shows but had to post a comment about Las Vegas.<br /><br />Naturally here in the UK we are about 2/3rd's through the 3rd season and though i have managed to watch the last series of season 3 ( via other means ) i'm still glued every Friday at 9pm.<br /><br />From the very first episode of season 1 i have been a big big fan of this show and own all 3 seasons on DVD, yes i cannot wait for season 4 to start in October.<br /><br />So why do i love this show so much, well i have to agree with the last poster.... James Caan, i know one person cannot make a team but Big Ed Deline was made for Caan or maybe it was the other way around, i read that the producers were considering Martin Sheen for Ed Deline.... Do'h no way!!! i also agree that Caan's character is getting very soft, i also preferred the tough take no sh*t Big Bad Eddy D that we saw in season 1 & 2, he seems to have mellowed out.<br /><br />As i said no one person makes the team by themselves's and of course the other cast members Josh Duhamel/Danny, James LeSure/Mike, Vanessa Marcil/Sam, Nikki Cox/Mary, Molly Sims/Delinda all contribute well, even outside cast members such as Cheryl Ladd as Jillian Deline, Harry Groener as Gunther, Dean Caine as Casey, Mitchell Longley as Mitch who may feature 6 or 7 times during a season can fit in just as well as if they've been in every single episode from day one.<br /><br />This show has everything, drama, action, suspense, laughs, romance, glitz's, glamour and big time celebrity's who often play themselves's.<br /><br />Many may disagree but this is one of the best shows on digital TV and i hope it may long continue after season 4.\n",
       "text                                                                              I don't usually comment on films or TV shows but had to post a comment about Las Vegas.Naturally here in the UK we are about 2/3rd's through the 3rd season and though i have managed to watch the last series of season 3 ( via other means ) i'm still glued every Friday at 9pm.From the very first episode of season 1 i have been a big big fan of this show and own all 3 seasons on DVD, yes i cannot wait for season 4 to start in October.So why do i love this show so much, well i have to agree with the last poster.... James Caan, i know one person cannot make a team but Big Ed Deline was made for Caan or maybe it was the other way around, i read that the producers were considering Martin Sheen for Ed Deline.... Do'h no way!!! i also agree that Caan's character is getting very soft, i also preferred the tough take no sh*t Big Bad Eddy D that we saw in season 1 & 2, he seems to have mellowed out.As i said no one person makes the team by themselves's and of course the other cast members Josh Duhamel/Danny, James LeSure/Mike, Vanessa Marcil/Sam, Nikki Cox/Mary, Molly Sims/Delinda all contribute well, even outside cast members such as Cheryl Ladd as Jillian Deline, Harry Groener as Gunther, Dean Caine as Casey, Mitchell Longley as Mitch who may feature 6 or 7 times during a season can fit in just as well as if they've been in every single episode from day one.This show has everything, drama, action, suspense, laughs, romance, glitz's, glamour and big time celebrity's who often play themselves's.Many may disagree but this is one of the best shows on digital TV and i hope it may long continue after season 4.\n",
       "Name: 2096, dtype: object"
      ]
     },
     "execution_count": 8,
     "metadata": {},
     "output_type": "execute_result"
    }
   ],
   "source": [
    "import re\n",
    "\n",
    "\n",
    "def remove_html_tags(text):\n",
    "    pattern = re.compile('<.*?>')\n",
    "    return pattern.sub(r'', text)\n",
    "df['text'] = df['text'].apply(remove_html_tags)\n",
    "df.iloc[2096][['review', 'text']]\n",
    "\n"
   ]
  },
  {
   "cell_type": "markdown",
   "id": "74f63b5d",
   "metadata": {},
   "source": [
    "Se observa como se han eliminado las etiquetas html, más adelante se gestionarán los signos de puntuación."
   ]
  },
  {
   "cell_type": "code",
   "execution_count": 9,
   "id": "8da33dc7",
   "metadata": {
    "scrolled": true
   },
   "outputs": [
    {
     "data": {
      "text/html": [
       "<div>\n",
       "<style scoped>\n",
       "    .dataframe tbody tr th:only-of-type {\n",
       "        vertical-align: middle;\n",
       "    }\n",
       "\n",
       "    .dataframe tbody tr th {\n",
       "        vertical-align: top;\n",
       "    }\n",
       "\n",
       "    .dataframe thead th {\n",
       "        text-align: right;\n",
       "    }\n",
       "</style>\n",
       "<table border=\"1\" class=\"dataframe\">\n",
       "  <thead>\n",
       "    <tr style=\"text-align: right;\">\n",
       "      <th></th>\n",
       "      <th>text</th>\n",
       "    </tr>\n",
       "  </thead>\n",
       "  <tbody>\n",
       "    <tr>\n",
       "      <th>325</th>\n",
       "      <td>This movie was everything but boring. It deals with reality. To the people who think this movie was boring, open your eyes to the real problems in our society. Our children are dying. The consequences of alcohol and drug abuse are not to be ignored. I work in a correctional facility as a chemical dependency counselor,and i deal with these problems every day. People of all ages and all walks of life are effected by the consequences of their alcohol and drug abuse. It destroys families, hurts people and leads to serious brain damage,all kinds of health problems, and death. It is all preventable. This movie should be shown in every high-school in the world. If anyone owns this movie and wants to sell it, or sell me a copy, please e-mail me at: Ottenbreit2@netzero.net thank you</td>\n",
       "    </tr>\n",
       "    <tr>\n",
       "      <th>2849</th>\n",
       "      <td>I'm like the rest of the fans who love this comedy,i've been waiting for it on DVD. I've got it on VHS and got so fed up waiting for a release and worrying that my VHS copy would ruin i got the equipment to get it onto DVD. The picture and sound are excellent to my utter surprise. If anyone else want's a copy drop me a line atstone_stew@yahoo.co.uk and for £7.00 i'll put it onto a DVD,print the DVD and get it in the post to you. £7.00 just covers my costs &amp; recorded delivery etc with maybe a little over so i'm not after making money out of it,i'd just like the world to see this ignored gem of a comedy.I recently saw a copy of ebay got for over £26,amazing. How can they not release this classic. Email me for payment details like cheque or Paypal etc etc</td>\n",
       "    </tr>\n",
       "    <tr>\n",
       "      <th>3217</th>\n",
       "      <td>I like many others saw this as a child and I loved it and it horrified me up until adulthood, I have been trying to find this movie and even been searching for it to play again on TV someday, since it originally played on USA networks. Does Anyone know where to buy this movie, or does anyone have it and would be willing to make a copy for me? Also does anyone know if there is a chance for it to be played on TV again? Maybe all of us fans should write a station in hopes of them airing it again. I don't think they did a good job of promoting this movie in the past because no one really knows about, people only know of the Stepford wives and Stepford husband movies. No one is familiar with the fact that there was a children version. Maybe they should also do a re-make of it since they seem to be doing that a lot lately with a lot of my favorite old thriller/horror flicks. Well if anyone has any input Please I Beg Of You write me with information. Thanks Taira tcampo23@aol.com</td>\n",
       "    </tr>\n",
       "    <tr>\n",
       "      <th>3384</th>\n",
       "      <td>i love this movie. is it on air anymore? what can i do to get it on air again because i miss this movie when does this movie air again? i love this movie so much. does anyone know how long it has been since it was last on Disney?it has been a very very long time and i am so sick of waiting!i want to see Susie Q again. i swear, they take all the good movies off air and play new stupid gay ones that are fake and retarded. i miss this movie, wish upon a star, Kazaam with Shaquille O'neil, and a bunch more. where did all the good movies go? i want them back.i miss all the good movies and they don't have them anymore. if anybody finds out if Susie Q or any good old Disney movie comes out will you please let me know, my email is girlygirl148@aol.com girlygirl(no blank space)148. thank you and i hope you want this movie back too. have a great day</td>\n",
       "    </tr>\n",
       "    <tr>\n",
       "      <th>4141</th>\n",
       "      <td>It opens with your cliche overly long ship flying through space. All I could think at this point was \"Spaceballs\" and hoping there'd be a sticker on back that said \"We break for Nobody.\" The movie then shows some cryogenic freezers with Vin Diesel's narration. I've always thought his voice sounded cool ever since I saw Fast and the Furious. From when I found out he was as criminal, I thought the movie was going to be cliche. It was. It was very cliche and fate seemed to be against them at every turn. Black out every 22 years. Lucky them, they land on that day. Aliens can only be in the darkness, hey it's a solar eclipse. As much as I thought it was too easy and just a cliche, the movie pulled through and kicked major @ss. I even went out and bought a copy of Pitch Black after seeing it. I really can't wait for Chronicles of Riddick.</td>\n",
       "    </tr>\n",
       "    <tr>\n",
       "      <th>4535</th>\n",
       "      <td>At first,this movie seems so bad that i almost fell in a trance the first time i saw it.It was like a bad dream.A cosmic bore.But i gave it a second chance,then another and another,etc...I finally got addicted to this film,due to it's dreamlike slow pace,wonderful natural sets,bathed in a mellow autumn light and especially the musical score,which is made of some 70's progressive rock and absolute exquisite folk songs by actor/singer/songwriter Derek Lamb(the Troubadour).You should notice the song about hazel wood,silver trout and lady vanishing in the air...,heard in the middle and near the end of the film.There are some carnal scenes in the beginning ,wich allow us to appreciate the natural charms of Elizabeth Suzuki.If that movie had been made by some \"repertoire\" directors like Bergman,Lars Von Triers or Jean-Luc Goddard,critics would have rolled on the floor,raving about that movie as if it were a cosmic masterpiece.I personally think this film is one million times superior to any of Fellini's cinematic sh#¤@t!Definitely not for the pretentious.</td>\n",
       "    </tr>\n",
       "  </tbody>\n",
       "</table>\n",
       "</div>"
      ],
      "text/plain": [
       "                                                                                                                                                                                                                                                                                                                                                                                                                                                                                                                                                                                                                                                                                                                                                                                                                                                                                                                                                                                                                                                                                                           text\n",
       "325                                                                                                                                                                                                                                                                                            This movie was everything but boring. It deals with reality. To the people who think this movie was boring, open your eyes to the real problems in our society. Our children are dying. The consequences of alcohol and drug abuse are not to be ignored. I work in a correctional facility as a chemical dependency counselor,and i deal with these problems every day. People of all ages and all walks of life are effected by the consequences of their alcohol and drug abuse. It destroys families, hurts people and leads to serious brain damage,all kinds of health problems, and death. It is all preventable. This movie should be shown in every high-school in the world. If anyone owns this movie and wants to sell it, or sell me a copy, please e-mail me at: Ottenbreit2@netzero.net thank you\n",
       "2849                                                                                                                                                                                                                                                                                                                 I'm like the rest of the fans who love this comedy,i've been waiting for it on DVD. I've got it on VHS and got so fed up waiting for a release and worrying that my VHS copy would ruin i got the equipment to get it onto DVD. The picture and sound are excellent to my utter surprise. If anyone else want's a copy drop me a line atstone_stew@yahoo.co.uk and for £7.00 i'll put it onto a DVD,print the DVD and get it in the post to you. £7.00 just covers my costs & recorded delivery etc with maybe a little over so i'm not after making money out of it,i'd just like the world to see this ignored gem of a comedy.I recently saw a copy of ebay got for over £26,amazing. How can they not release this classic. Email me for payment details like cheque or Paypal etc etc\n",
       "3217                                                                                I like many others saw this as a child and I loved it and it horrified me up until adulthood, I have been trying to find this movie and even been searching for it to play again on TV someday, since it originally played on USA networks. Does Anyone know where to buy this movie, or does anyone have it and would be willing to make a copy for me? Also does anyone know if there is a chance for it to be played on TV again? Maybe all of us fans should write a station in hopes of them airing it again. I don't think they did a good job of promoting this movie in the past because no one really knows about, people only know of the Stepford wives and Stepford husband movies. No one is familiar with the fact that there was a children version. Maybe they should also do a re-make of it since they seem to be doing that a lot lately with a lot of my favorite old thriller/horror flicks. Well if anyone has any input Please I Beg Of You write me with information. Thanks Taira tcampo23@aol.com\n",
       "3384                                                                                                                                                                                                                        i love this movie. is it on air anymore? what can i do to get it on air again because i miss this movie when does this movie air again? i love this movie so much. does anyone know how long it has been since it was last on Disney?it has been a very very long time and i am so sick of waiting!i want to see Susie Q again. i swear, they take all the good movies off air and play new stupid gay ones that are fake and retarded. i miss this movie, wish upon a star, Kazaam with Shaquille O'neil, and a bunch more. where did all the good movies go? i want them back.i miss all the good movies and they don't have them anymore. if anybody finds out if Susie Q or any good old Disney movie comes out will you please let me know, my email is girlygirl148@aol.com girlygirl(no blank space)148. thank you and i hope you want this movie back too. have a great day\n",
       "4141                                                                                                                                                                                                                               It opens with your cliche overly long ship flying through space. All I could think at this point was \"Spaceballs\" and hoping there'd be a sticker on back that said \"We break for Nobody.\" The movie then shows some cryogenic freezers with Vin Diesel's narration. I've always thought his voice sounded cool ever since I saw Fast and the Furious. From when I found out he was as criminal, I thought the movie was going to be cliche. It was. It was very cliche and fate seemed to be against them at every turn. Black out every 22 years. Lucky them, they land on that day. Aliens can only be in the darkness, hey it's a solar eclipse. As much as I thought it was too easy and just a cliche, the movie pulled through and kicked major @ss. I even went out and bought a copy of Pitch Black after seeing it. I really can't wait for Chronicles of Riddick.\n",
       "4535  At first,this movie seems so bad that i almost fell in a trance the first time i saw it.It was like a bad dream.A cosmic bore.But i gave it a second chance,then another and another,etc...I finally got addicted to this film,due to it's dreamlike slow pace,wonderful natural sets,bathed in a mellow autumn light and especially the musical score,which is made of some 70's progressive rock and absolute exquisite folk songs by actor/singer/songwriter Derek Lamb(the Troubadour).You should notice the song about hazel wood,silver trout and lady vanishing in the air...,heard in the middle and near the end of the film.There are some carnal scenes in the beginning ,wich allow us to appreciate the natural charms of Elizabeth Suzuki.If that movie had been made by some \"repertoire\" directors like Bergman,Lars Von Triers or Jean-Luc Goddard,critics would have rolled on the floor,raving about that movie as if it were a cosmic masterpiece.I personally think this film is one million times superior to any of Fellini's cinematic sh#¤@t!Definitely not for the pretentious."
      ]
     },
     "execution_count": 9,
     "metadata": {},
     "output_type": "execute_result"
    }
   ],
   "source": [
    "pattern = r'(@\\w+)'\n",
    "mentions_df = df[df['text'].apply(lambda x: bool(re.search(pattern, str(x))))]\n",
    "mentions_df[['text']].head(10)\n"
   ]
  },
  {
   "cell_type": "markdown",
   "id": "65c99fdd",
   "metadata": {},
   "source": [
    "Se observan emails y palabras malsonantes. Se procede a la eliminación de los emails ya que no aportan información para nuestro análisis."
   ]
  },
  {
   "cell_type": "code",
   "execution_count": 10,
   "id": "154616f0",
   "metadata": {
    "scrolled": true
   },
   "outputs": [
    {
     "data": {
      "text/plain": [
       "review    I like many others saw this as a child and I loved it and it horrified me up until adulthood, I have been trying to find this movie and even been searching for it to play again on TV someday, since it originally played on USA networks. Does Anyone know where to buy this movie, or does anyone have it and would be willing to make a copy for me? Also does anyone know if there is a chance for it to be played on TV again? Maybe all of us fans should write a station in hopes of them airing it again. I don't think they did a good job of promoting this movie in the past because no one really knows about, people only know of the Stepford wives and Stepford husband movies. No one is familiar with the fact that there was a children version. Maybe they should also do a re-make of it since they seem to be doing that a lot lately with a lot of my favorite old thriller/horror flicks. Well if anyone has any input Please I Beg Of You write me with information. Thanks Taira tcampo23@aol.com\n",
       "text                     I like many others saw this as a child and I loved it and it horrified me up until adulthood, I have been trying to find this movie and even been searching for it to play again on TV someday, since it originally played on USA networks. Does Anyone know where to buy this movie, or does anyone have it and would be willing to make a copy for me? Also does anyone know if there is a chance for it to be played on TV again? Maybe all of us fans should write a station in hopes of them airing it again. I don't think they did a good job of promoting this movie in the past because no one really knows about, people only know of the Stepford wives and Stepford husband movies. No one is familiar with the fact that there was a children version. Maybe they should also do a re-make of it since they seem to be doing that a lot lately with a lot of my favorite old thriller/horror flicks. Well if anyone has any input Please I Beg Of You write me with information. Thanks Taira  \n",
       "Name: 3217, dtype: object"
      ]
     },
     "execution_count": 10,
     "metadata": {},
     "output_type": "execute_result"
    }
   ],
   "source": [
    "def remove_emails(text):\n",
    "    return re.sub(r'[a-zA-Z0-9._%+-]+@[a-zA-Z0-9.-]+\\.[a-zA-Z]{2,}', ' ', text)\n",
    "\n",
    "df['text'] = df['text'].apply(remove_emails)\n",
    "df.iloc[3217][['review', 'text']]\n"
   ]
  },
  {
   "cell_type": "code",
   "execution_count": 11,
   "id": "4a03d13a",
   "metadata": {},
   "outputs": [
    {
     "data": {
      "text/html": [
       "<div>\n",
       "<style scoped>\n",
       "    .dataframe tbody tr th:only-of-type {\n",
       "        vertical-align: middle;\n",
       "    }\n",
       "\n",
       "    .dataframe tbody tr th {\n",
       "        vertical-align: top;\n",
       "    }\n",
       "\n",
       "    .dataframe thead th {\n",
       "        text-align: right;\n",
       "    }\n",
       "</style>\n",
       "<table border=\"1\" class=\"dataframe\">\n",
       "  <thead>\n",
       "    <tr style=\"text-align: right;\">\n",
       "      <th></th>\n",
       "      <th>review</th>\n",
       "      <th>sentiment</th>\n",
       "      <th>length</th>\n",
       "      <th>text</th>\n",
       "    </tr>\n",
       "  </thead>\n",
       "  <tbody>\n",
       "    <tr>\n",
       "      <th>211</th>\n",
       "      <td>This is absolutely the best 80s cartoon ever, maybe the best cartoon of all time. It had everything action, adventure, thrill, and much more...&lt;br /&gt;&lt;br /&gt;I can't imagine how hard it was for Ruby-Spears company to make this great cartoon, there has been spent a lot of money for this masterpiece of work and it was worth it, for example just the beaming down scenes were hard because I wouldn't call the 1980s for a great technology year with computers like now in the world we live in so the beaming down scenes were excellent!&lt;br /&gt;&lt;br /&gt;The cartoons will never be the same as they were before, that is why I hope that they all will be released on DVD specially The Centurions as it's my favorite. I have the whole complete set of 65 episodes on DVD-r but it's not the same because if they were released on DVD the people in the world would be able to buy it and see the DVD's in almost every store which means a lot to the fans. My good friend Ted made this petition to either get the show back on TV or better on DVD, that is if we get many requests to get them back on DVD.&lt;br /&gt;&lt;br /&gt;So please help us by signing the petition at http://www.petitiononline.com/6600F/petition.html</td>\n",
       "      <td>positive</td>\n",
       "      <td>219</td>\n",
       "      <td>This is absolutely the best 80s cartoon ever, maybe the best cartoon of all time. It had everything action, adventure, thrill, and much more...I can't imagine how hard it was for Ruby-Spears company to make this great cartoon, there has been spent a lot of money for this masterpiece of work and it was worth it, for example just the beaming down scenes were hard because I wouldn't call the 1980s for a great technology year with computers like now in the world we live in so the beaming down scenes were excellent!The cartoons will never be the same as they were before, that is why I hope that they all will be released on DVD specially The Centurions as it's my favorite. I have the whole complete set of 65 episodes on DVD-r but it's not the same because if they were released on DVD the people in the world would be able to buy it and see the DVD's in almost every store which means a lot to the fans. My good friend Ted made this petition to either get the show back on TV or better on DVD, that is if we get many requests to get them back on DVD.So please help us by signing the petition at http://www.petitiononline.com/6600F/petition.html</td>\n",
       "    </tr>\n",
       "    <tr>\n",
       "      <th>489</th>\n",
       "      <td>As with all the other reviewers, this movie has been a constant in my mind after 30 years. I recall going to the library researching all that I could on this story. I even wrote to the PBS station for more information. Despite all this, all I was able to find out was that it was a story printed in a newspaper in the early part of the 1900s.&lt;br /&gt;&lt;br /&gt;Fastward to 2002, after years of searching ebay for on a weekly basis and there it was, a VHS copy of the movie. There was one other bidder but I was determined to win this movie. The losing bidder wrote me asking for a copy which I gave her. Despite owning a copy, I still searched and searched finally finding a site that sold a DVD copy of the movie. You can find it at: http://www.johntopping.com/Harvey%20Perr/War%20Widow/war_widow.html</td>\n",
       "      <td>positive</td>\n",
       "      <td>146</td>\n",
       "      <td>As with all the other reviewers, this movie has been a constant in my mind after 30 years. I recall going to the library researching all that I could on this story. I even wrote to the PBS station for more information. Despite all this, all I was able to find out was that it was a story printed in a newspaper in the early part of the 1900s.Fastward to 2002, after years of searching ebay for on a weekly basis and there it was, a VHS copy of the movie. There was one other bidder but I was determined to win this movie. The losing bidder wrote me asking for a copy which I gave her. Despite owning a copy, I still searched and searched finally finding a site that sold a DVD copy of the movie. You can find it at: http://www.johntopping.com/Harvey%20Perr/War%20Widow/war_widow.html</td>\n",
       "    </tr>\n",
       "    <tr>\n",
       "      <th>983</th>\n",
       "      <td>Again, like many other TV Shows, a certain actor/actresses in thrust into the limelight, in this case Miranda Cosgrove, having built up her reputation in previous Movies/Series (especially by Nickelodeon and Dan Schneider. She is now the star of the show, gets to sing the soundtrack ( which she DID NOT WRITE and thus gets even more fame from that). Wonderful? It creates as much imbalance in popularity vs her other co-stars, especially Nathan Kress, who is continually thrust into minor rolls in each episode, except iDont Want to Fight. Cosgrove's music would never have met the charts without this show and her singing the main theme song (which was not written by her) and other covers such as About You Now and Stay my Baby. Let's not forget that she lip sync/sings her song live too. Is that how you create vocalist nowadays?&lt;br /&gt;&lt;br /&gt;Back to the show, Cosgrove reveals more physically by acting scenes in a bikini, Hawaiian hula type bra and mentioned bra many times through out. Bras and seen in many cases (though not of the other actresses). Wedgies are mentioned, panties have been mentioned once. Og let us not forget \"Oh My God\" a come phrase (are any of the scriptwriters/actors Christian?) Granted that the show is not meant to be just for kids, I'm surprised at the multitude of mentions of the female undergarment, especially in the first episode, where the phrase \"pointy boobs\" were mentioned. I'm not sure whether kids would thus refrain from saying that at home/in school afterwards. &lt;br /&gt;&lt;br /&gt;It's not that I'm against the mentioning or showing of female undergarments (which girls will wear), but for a show from Nickelodeon, the people in charge should have realised that kids would get the exposure to such stuff. I doubt that other Nickelodeon shows have such content in them.&lt;br /&gt;&lt;br /&gt;As mentioned is other reviews, the laughter track is extremely annoying and unnecessary in many parts--for example, when the character Sam cries, how on earth is that a time to laugh? It distracts people from getting the joke and is used almost in every sentence.&lt;br /&gt;&lt;br /&gt;As mentioned, Cosgrove is made the star of the show and thus gains the utmost fame and support from die hard fans, who even scolded a hotel staff when she is told to keep her noise level down (see http://www.youtube.com/watch?v=kk0gtfUk98U). Jennette McCurdy is the second star of the show but she faces competition from Cosgrove in the music industry (compare the popularity of her new single vs Cosgrove's covers). As noted, the third co-star Nathan Kress is the least noted of the lot. He is portrayed as a atypical boy who suffers the brunt of bullying by a girl and other boys but somehow a wizard at technology. His height in early episodes make him a cute actor but unusual given his character's crush on Carly/Cosgrove. Beyond that, Kress isn't breaking into the music industry and as Cosgrove's fame grows with each episode, Kress falls behind. I would bet that he is the least paid of all the three actors.&lt;br /&gt;&lt;br /&gt;The content of the show is of course fictional, but also lets one wonder how it fits into a comedy series at certain times (thus the laughter track is used).It also contains several continuity errors (how can your father be and Air Force Colonel on a submarine? US Special Forces have their own branches, and the Air Force doesn't use US submarines--that is for SEALs). A unique feature is that of allowing viewers to submit their own videos to be shown during or after the episodes, but again the videos somehow do not meet the theme of comedy.&lt;br /&gt;&lt;br /&gt;Once again, it is a show that is riddled with mentions of the female undergarments, exposure of skin, and over used laughter tracks. It is a series which thrusts a teen actress so far into the crowd such that her songs/actions are excessive supported by her fans, leaving her co Stars behind.</td>\n",
       "      <td>negative</td>\n",
       "      <td>667</td>\n",
       "      <td>Again, like many other TV Shows, a certain actor/actresses in thrust into the limelight, in this case Miranda Cosgrove, having built up her reputation in previous Movies/Series (especially by Nickelodeon and Dan Schneider. She is now the star of the show, gets to sing the soundtrack ( which she DID NOT WRITE and thus gets even more fame from that). Wonderful? It creates as much imbalance in popularity vs her other co-stars, especially Nathan Kress, who is continually thrust into minor rolls in each episode, except iDont Want to Fight. Cosgrove's music would never have met the charts without this show and her singing the main theme song (which was not written by her) and other covers such as About You Now and Stay my Baby. Let's not forget that she lip sync/sings her song live too. Is that how you create vocalist nowadays?Back to the show, Cosgrove reveals more physically by acting scenes in a bikini, Hawaiian hula type bra and mentioned bra many times through out. Bras and seen in many cases (though not of the other actresses). Wedgies are mentioned, panties have been mentioned once. Og let us not forget \"Oh My God\" a come phrase (are any of the scriptwriters/actors Christian?) Granted that the show is not meant to be just for kids, I'm surprised at the multitude of mentions of the female undergarment, especially in the first episode, where the phrase \"pointy boobs\" were mentioned. I'm not sure whether kids would thus refrain from saying that at home/in school afterwards. It's not that I'm against the mentioning or showing of female undergarments (which girls will wear), but for a show from Nickelodeon, the people in charge should have realised that kids would get the exposure to such stuff. I doubt that other Nickelodeon shows have such content in them.As mentioned is other reviews, the laughter track is extremely annoying and unnecessary in many parts--for example, when the character Sam cries, how on earth is that a time to laugh? It distracts people from getting the joke and is used almost in every sentence.As mentioned, Cosgrove is made the star of the show and thus gains the utmost fame and support from die hard fans, who even scolded a hotel staff when she is told to keep her noise level down (see http://www.youtube.com/watch?v=kk0gtfUk98U). Jennette McCurdy is the second star of the show but she faces competition from Cosgrove in the music industry (compare the popularity of her new single vs Cosgrove's covers). As noted, the third co-star Nathan Kress is the least noted of the lot. He is portrayed as a atypical boy who suffers the brunt of bullying by a girl and other boys but somehow a wizard at technology. His height in early episodes make him a cute actor but unusual given his character's crush on Carly/Cosgrove. Beyond that, Kress isn't breaking into the music industry and as Cosgrove's fame grows with each episode, Kress falls behind. I would bet that he is the least paid of all the three actors.The content of the show is of course fictional, but also lets one wonder how it fits into a comedy series at certain times (thus the laughter track is used).It also contains several continuity errors (how can your father be and Air Force Colonel on a submarine? US Special Forces have their own branches, and the Air Force doesn't use US submarines--that is for SEALs). A unique feature is that of allowing viewers to submit their own videos to be shown during or after the episodes, but again the videos somehow do not meet the theme of comedy.Once again, it is a show that is riddled with mentions of the female undergarments, exposure of skin, and over used laughter tracks. It is a series which thrusts a teen actress so far into the crowd such that her songs/actions are excessive supported by her fans, leaving her co Stars behind.</td>\n",
       "    </tr>\n",
       "    <tr>\n",
       "      <th>1655</th>\n",
       "      <td>GOJOE takes a little getting used to at first, but the final result is very satisfying. The tale, about a murderous samurai who seeks to redeem himself by opposing an effeminate, but dangerous samurai, is worth more than a watch. There is a lot at stake here, from physical survival to soulful salvation. The movie may seem a bit similar to other anime-inspired Samurai film at first, but it does eventually delve into more mature/adult territory soon after.&lt;br /&gt;&lt;br /&gt;Not to be missed. GOJOE is one of the better samurai movies to come around post-Kurosawa.&lt;br /&gt;&lt;br /&gt;8 out of 10&lt;br /&gt;&lt;br /&gt;(go to www.nixflix.com for a more detailed review of the movie and reviews of other foreign films)</td>\n",
       "      <td>positive</td>\n",
       "      <td>118</td>\n",
       "      <td>GOJOE takes a little getting used to at first, but the final result is very satisfying. The tale, about a murderous samurai who seeks to redeem himself by opposing an effeminate, but dangerous samurai, is worth more than a watch. There is a lot at stake here, from physical survival to soulful salvation. The movie may seem a bit similar to other anime-inspired Samurai film at first, but it does eventually delve into more mature/adult territory soon after.Not to be missed. GOJOE is one of the better samurai movies to come around post-Kurosawa.8 out of 10(go to www.nixflix.com for a more detailed review of the movie and reviews of other foreign films)</td>\n",
       "    </tr>\n",
       "    <tr>\n",
       "      <th>2060</th>\n",
       "      <td>Airwolf The Movie, A variation on the original 2 part pilot, Yet the movie although shorter, does contain extra footage Unseen in the 2 hour pilot The pilot is much more of a pilot than the movie Where as a pilot movie is normally the same (2 parter combined) But the movie is actually a different edit with extras here and cuts there.&lt;br /&gt;&lt;br /&gt;Worth a look, even if you have the season 1 DVD set, I'd still pick up a copy of the \"movie\" It's still in some shops like virgin, Woolworths and the likes of mixed media stores, although it generally needs ordering, But it saves needing to buy online (as many of us still don't do or trust online shopping) but if you look around airwolfs in stores&lt;br /&gt;&lt;br /&gt;Airwolf was truly 1 of the 80's most under rated shows.&lt;br /&gt;&lt;br /&gt;A full size Airwolf is currently being re-built for a Helicopter Museum :) Info and work in progress pictures are over at http://Airwolf.org Also with Airwolf Mods for Flashpoint and Flight Sim Games It seams she's finally here to stay :)</td>\n",
       "      <td>positive</td>\n",
       "      <td>185</td>\n",
       "      <td>Airwolf The Movie, A variation on the original 2 part pilot, Yet the movie although shorter, does contain extra footage Unseen in the 2 hour pilot The pilot is much more of a pilot than the movie Where as a pilot movie is normally the same (2 parter combined) But the movie is actually a different edit with extras here and cuts there.Worth a look, even if you have the season 1 DVD set, I'd still pick up a copy of the \"movie\" It's still in some shops like virgin, Woolworths and the likes of mixed media stores, although it generally needs ordering, But it saves needing to buy online (as many of us still don't do or trust online shopping) but if you look around airwolfs in storesAirwolf was truly 1 of the 80's most under rated shows.A full size Airwolf is currently being re-built for a Helicopter Museum :) Info and work in progress pictures are over at http://Airwolf.org Also with Airwolf Mods for Flashpoint and Flight Sim Games It seams she's finally here to stay :)</td>\n",
       "    </tr>\n",
       "    <tr>\n",
       "      <th>2667</th>\n",
       "      <td>'Rise of the Footsoldier' follows the unrelentingly cruel journey of gangster Carlton Leach and his associates through drugs, violence, sex, violence, guns, violence and did I mention violence?&lt;br /&gt;&lt;br /&gt;Protagonist Carlton Leach (Ricci Harnett), member of the I.C.F (Inner City Firm); a group of football hooligans turned professional gangsters, guides the audience through the events leading to the 1995 'Range Rover Killings', in which three gang members fell victim to particularly vicious professional 'hits'. Leach's success as a doorman and talent for locating aptly violent friends to control unruly punters at a local nightclub launches him into the company of notorious drug dealers and gangsters, profitably benefiting from the 80s/90s rave scene and drug culture.&lt;br /&gt;&lt;br /&gt;Opening with brutally realistic shots of the dead men, the viewer is left thirsty to understand what happened, but left wholly unsatisfied. The next 2 hours meander through a series of countless character introductions. Each of these basically establishes yet another typical 'hard man', shows him assaulting usually undeserving victims, before probably coming to an even nastier end. What little emotional understanding the audience is allowed to form for a few of the characters (for example a family man blamed for missing drugs) is quickly destroyed when they are either anti-climactically killed, or their storyline left unresolved. The hints of a plot introduced in the beginning are inadequately concluded with vague impressions of how the murders occurred, as the events are slotted into place with little reward for persevering with the hazy muddle of previous events. &lt;br /&gt;&lt;br /&gt;This film has been made with a standard formula in mind, for an audience who prefer violence and 'ard nut' slang to an actual storyline. 'Rise of the Footsoldier' borrows too much from 'Football Factory', leaving out the good bits, demonstrating no moral ramifications of hooligan subculture or establishing empathy with the protagonist. The violence, although brilliantly shot, seems excessive and implausible because no one is around long enough for the audience to form an emotional attachment. The implication that the gangs are untouchable by the police is fair enough, but machete-wielding doormen regularly committing blatant murder in public places pushes the imagination of even the most willing viewer. The audience are left bewildered as to the relevance of many key events and developed characters that had no knock on effect on the eventual conclusion. Attempted 'gritty-realism' is further destroyed with a substance called 'Truth Serum', which the Turkish Mafia use to coax honest answers from unwilling individuals. This is NOT the genre in which to invent psychologically unrealistic drugs, and renders the interrogation almost absurd.&lt;br /&gt;&lt;br /&gt;The actual scenes of violence (before becoming repetitive) hold some tension, spliced with rapid flashes of colour or the end of a film reel. Seamlessly choreographed brawls coupled with obligatory but effective shaky hand-held camera work saves the film, but unfortunately the plot (or lack there of) limits it to a niche demographic.&lt;br /&gt;&lt;br /&gt;In essence, the events this film is based on aren't deservedly represented, and an adequately sequential storyline is sacrificed for stereotypical characters and an unoriginal plot. This film has a place in the market, but if you like a bit of brain with your brutality this one isn't for you. &lt;br /&gt;&lt;br /&gt;http://www.obsessedwithfilm.com/</td>\n",
       "      <td>negative</td>\n",
       "      <td>538</td>\n",
       "      <td>'Rise of the Footsoldier' follows the unrelentingly cruel journey of gangster Carlton Leach and his associates through drugs, violence, sex, violence, guns, violence and did I mention violence?Protagonist Carlton Leach (Ricci Harnett), member of the I.C.F (Inner City Firm); a group of football hooligans turned professional gangsters, guides the audience through the events leading to the 1995 'Range Rover Killings', in which three gang members fell victim to particularly vicious professional 'hits'. Leach's success as a doorman and talent for locating aptly violent friends to control unruly punters at a local nightclub launches him into the company of notorious drug dealers and gangsters, profitably benefiting from the 80s/90s rave scene and drug culture.Opening with brutally realistic shots of the dead men, the viewer is left thirsty to understand what happened, but left wholly unsatisfied. The next 2 hours meander through a series of countless character introductions. Each of these basically establishes yet another typical 'hard man', shows him assaulting usually undeserving victims, before probably coming to an even nastier end. What little emotional understanding the audience is allowed to form for a few of the characters (for example a family man blamed for missing drugs) is quickly destroyed when they are either anti-climactically killed, or their storyline left unresolved. The hints of a plot introduced in the beginning are inadequately concluded with vague impressions of how the murders occurred, as the events are slotted into place with little reward for persevering with the hazy muddle of previous events. This film has been made with a standard formula in mind, for an audience who prefer violence and 'ard nut' slang to an actual storyline. 'Rise of the Footsoldier' borrows too much from 'Football Factory', leaving out the good bits, demonstrating no moral ramifications of hooligan subculture or establishing empathy with the protagonist. The violence, although brilliantly shot, seems excessive and implausible because no one is around long enough for the audience to form an emotional attachment. The implication that the gangs are untouchable by the police is fair enough, but machete-wielding doormen regularly committing blatant murder in public places pushes the imagination of even the most willing viewer. The audience are left bewildered as to the relevance of many key events and developed characters that had no knock on effect on the eventual conclusion. Attempted 'gritty-realism' is further destroyed with a substance called 'Truth Serum', which the Turkish Mafia use to coax honest answers from unwilling individuals. This is NOT the genre in which to invent psychologically unrealistic drugs, and renders the interrogation almost absurd.The actual scenes of violence (before becoming repetitive) hold some tension, spliced with rapid flashes of colour or the end of a film reel. Seamlessly choreographed brawls coupled with obligatory but effective shaky hand-held camera work saves the film, but unfortunately the plot (or lack there of) limits it to a niche demographic.In essence, the events this film is based on aren't deservedly represented, and an adequately sequential storyline is sacrificed for stereotypical characters and an unoriginal plot. This film has a place in the market, but if you like a bit of brain with your brutality this one isn't for you. http://www.obsessedwithfilm.com/</td>\n",
       "    </tr>\n",
       "    <tr>\n",
       "      <th>2951</th>\n",
       "      <td>Over acted, heavy handed, full of speeches, preachy, on the nose, and over stylized in a way only MTV could be guilty of, Stop-Loss is agit-prop garbage. I expected a lot more with talented young actors such as Joseph Gordon-Levitt and Ryan Philippe, but Screenwriter/Director Kimberly Peirce does a hatchet job of portraying the ill effects of war on American youth. I'm sure she did some work researching the Iraq war and the young men fighting in it, but you'd never guess it from watching Stop-Loss. In many ways this mess reminded me of Catherine Hardwicke's Lords of Dogtown, an equally inept, overly stylized, TV movie-like waste of solid subject matter.&lt;br /&gt;&lt;br /&gt;http://eattheblinds.blogspot.com/</td>\n",
       "      <td>negative</td>\n",
       "      <td>113</td>\n",
       "      <td>Over acted, heavy handed, full of speeches, preachy, on the nose, and over stylized in a way only MTV could be guilty of, Stop-Loss is agit-prop garbage. I expected a lot more with talented young actors such as Joseph Gordon-Levitt and Ryan Philippe, but Screenwriter/Director Kimberly Peirce does a hatchet job of portraying the ill effects of war on American youth. I'm sure she did some work researching the Iraq war and the young men fighting in it, but you'd never guess it from watching Stop-Loss. In many ways this mess reminded me of Catherine Hardwicke's Lords of Dogtown, an equally inept, overly stylized, TV movie-like waste of solid subject matter.http://eattheblinds.blogspot.com/</td>\n",
       "    </tr>\n",
       "    <tr>\n",
       "      <th>3227</th>\n",
       "      <td>The mere fact that I still think of the movie a decade later is what really speaks volumes about the film. To me this substantiates Grand Canyon as a film that will touch you in one way or another. I truly believe that before the movie Crash there was Grand Canyon. The major difference between the two films in my opinion is the timing of their release. I'm not going to argue which one is better, but I will contend to the idea that they share the same message. I'd love to hear from those that have an opinion on this subject. I will start a commentary which you can find at http://www.myspace.com/62229249. You may also find me there to post any other topics about movies that we may share, because i have a true love for film.</td>\n",
       "      <td>positive</td>\n",
       "      <td>138</td>\n",
       "      <td>The mere fact that I still think of the movie a decade later is what really speaks volumes about the film. To me this substantiates Grand Canyon as a film that will touch you in one way or another. I truly believe that before the movie Crash there was Grand Canyon. The major difference between the two films in my opinion is the timing of their release. I'm not going to argue which one is better, but I will contend to the idea that they share the same message. I'd love to hear from those that have an opinion on this subject. I will start a commentary which you can find at http://www.myspace.com/62229249. You may also find me there to post any other topics about movies that we may share, because i have a true love for film.</td>\n",
       "    </tr>\n",
       "    <tr>\n",
       "      <th>3253</th>\n",
       "      <td>I, too, found \"Oppenheimer\" to be a brilliant series and one of the finest offerings ever on American PBS. David Suchet was particularly effective as Edward Teller, as I recall, and the overall conception was spectacularly good. The only reason that the series doesn't rate a full 10/10 is for the low-budget production values in some areas. Actual content is absolutely first-rate in my recollection.&lt;br /&gt;&lt;br /&gt;The Oppenheimer miniseries will be released in the UK on July 31st! It will be a Region 2/PAL set, but it would seem that a Region 1/NTSC set should be soon in the offing.&lt;br /&gt;&lt;br /&gt;If you have a universal player in the US, you can order the series right now from Amazon UK.&lt;br /&gt;&lt;br /&gt;http://tinyurl.com/znyyq&lt;br /&gt;&lt;br /&gt;Huzzah!!</td>\n",
       "      <td>positive</td>\n",
       "      <td>124</td>\n",
       "      <td>I, too, found \"Oppenheimer\" to be a brilliant series and one of the finest offerings ever on American PBS. David Suchet was particularly effective as Edward Teller, as I recall, and the overall conception was spectacularly good. The only reason that the series doesn't rate a full 10/10 is for the low-budget production values in some areas. Actual content is absolutely first-rate in my recollection.The Oppenheimer miniseries will be released in the UK on July 31st! It will be a Region 2/PAL set, but it would seem that a Region 1/NTSC set should be soon in the offing.If you have a universal player in the US, you can order the series right now from Amazon UK.http://tinyurl.com/znyyqHuzzah!!</td>\n",
       "    </tr>\n",
       "    <tr>\n",
       "      <th>3332</th>\n",
       "      <td>NB: Spoilers within. This great movie is \"about\" so many things, all of them successfully: sci-fi time travel, unstable psychologies, dystopian society, the what-is-real syndrome, gradual undermining of belief systems, worldwide bioterrorism, and a nascent love story.&lt;br /&gt;&lt;br /&gt;The ramifications of the story's twisted time line stir up loads of heated debate - witness the discussions within this site; or, as an extreme, check out the dissertation at www.mjyoung.net/time/monkeys.html. Whew! Such temporal emphasis speaks mostly to the brilliant plot, coming from the magnificent work of writers David and Janet Peoples, not to mention the inspiration of Chris Marker's \"La Jetee.\" Without a doubt, this is one of the most successful, fascinating time-travel movies ever conceived. But there are many other levels speaking here.&lt;br /&gt;&lt;br /&gt;The movie's real genius is to focus on the nasty side effects of time-travel in the mind of James Cole (Bruce Willis, doing the best work of his career here). His journey progresses from gung-ho vaccine-hunting warrior to gradually unhinged victim  and back again. The other broad sweep of the story increasingly emphasizes the personal tale between James and Dr. Kathryn Railly (the wonderful Madeleine Stowe). I love the simultaneous shifting/opposing viewpoints of these two characters. For me it all comes to a head in the fleabag hotel room scene. By this point, James  once gripped by an unshakable determination  now slumps in utter doubt about his own reality; while Dr. Railly  the cool and rational scientist  has finally become wildly convinced, after absorbing James's proofs, of his horrific predictions. Her desperation to get through to James and hang on to the mission shows how far she's come.&lt;br /&gt;&lt;br /&gt;Gilliam makes us care about these characters, especially through the crescendo of tension threading their lives. The balance held between emotional roller-coaster and mounting sci-fi puzzle/thriller is exquisite. And the denouement at the airport is heart-poundingly intense because we see it coming so clearly through James's dreams. It is here, just after James has decided to quit the whole mess  and is fighting his insanity more than ever  that he steps back up to the plate and does what is necessary for mankind. See Jose and the gun",
       " (Just before this, the references to Hitchcock's \"Vertigo\" and identity switching/confusion are brilliant.) This is a movie to be hashed out between thinking people; it not only holds up under repeated viewings, it demands them. \"Twelve Monkeys\" is intelligent, provocative, bizarre, funny, and suspenseful stuff.&lt;br /&gt;&lt;br /&gt;The supporting cast is excellent, especially Brad Pitt stealing all of his scenes and showing great flexibility as Jeffery Goines, crazed and spoiled, but ever the survivor. And there is David Morse as Dr. Peters (interesting how the movie simply leaves to the viewer his wicked motivation) and Christopher Plummer as Dr. Goines. But the biggest accolades belong to Terry Gilliam, surpassing here - just barely - his outstanding \"Brazil.\" (Lots of parallels, of course, especially the lonely combatant trying to escape his crumbling surroundings: lunacy within, lunacy without.) Every frame of this movie has his unique stamp and tone. The soundtrack is terrific, too.&lt;br /&gt;&lt;br /&gt;This is one of the great achievements of the 90s, a true favorite of mine, and sure to hold up for a long time to come.</td>\n",
       "      <td>positive</td>\n",
       "      <td>546</td>\n",
       "      <td>NB: Spoilers within. This great movie is \"about\" so many things, all of them successfully: sci-fi time travel, unstable psychologies, dystopian society, the what-is-real syndrome, gradual undermining of belief systems, worldwide bioterrorism, and a nascent love story.The ramifications of the story's twisted time line stir up loads of heated debate - witness the discussions within this site; or, as an extreme, check out the dissertation at www.mjyoung.net/time/monkeys.html. Whew! Such temporal emphasis speaks mostly to the brilliant plot, coming from the magnificent work of writers David and Janet Peoples, not to mention the inspiration of Chris Marker's \"La Jetee.\" Without a doubt, this is one of the most successful, fascinating time-travel movies ever conceived. But there are many other levels speaking here.The movie's real genius is to focus on the nasty side effects of time-travel in the mind of James Cole (Bruce Willis, doing the best work of his career here). His journey progresses from gung-ho vaccine-hunting warrior to gradually unhinged victim  and back again. The other broad sweep of the story increasingly emphasizes the personal tale between James and Dr. Kathryn Railly (the wonderful Madeleine Stowe). I love the simultaneous shifting/opposing viewpoints of these two characters. For me it all comes to a head in the fleabag hotel room scene. By this point, James  once gripped by an unshakable determination  now slumps in utter doubt about his own reality; while Dr. Railly  the cool and rational scientist  has finally become wildly convinced, after absorbing James's proofs, of his horrific predictions. Her desperation to get through to James and hang on to the mission shows how far she's come.Gilliam makes us care about these characters, especially through the crescendo of tension threading their lives. The balance held between emotional roller-coaster and mounting sci-fi puzzle/thriller is exquisite. And the denouement at the airport is heart-poundingly intense because we see it coming so clearly through James's dreams. It is here, just after James has decided to quit the whole mess  and is fighting his insanity more than ever  that he steps back up to the plate and does what is necessary for mankind. See Jose and the gun",
       " (Just before this, the references to Hitchcock's \"Vertigo\" and identity switching/confusion are brilliant.) This is a movie to be hashed out between thinking people; it not only holds up under repeated viewings, it demands them. \"Twelve Monkeys\" is intelligent, provocative, bizarre, funny, and suspenseful stuff.The supporting cast is excellent, especially Brad Pitt stealing all of his scenes and showing great flexibility as Jeffery Goines, crazed and spoiled, but ever the survivor. And there is David Morse as Dr. Peters (interesting how the movie simply leaves to the viewer his wicked motivation) and Christopher Plummer as Dr. Goines. But the biggest accolades belong to Terry Gilliam, surpassing here - just barely - his outstanding \"Brazil.\" (Lots of parallels, of course, especially the lonely combatant trying to escape his crumbling surroundings: lunacy within, lunacy without.) Every frame of this movie has his unique stamp and tone. The soundtrack is terrific, too.This is one of the great achievements of the 90s, a true favorite of mine, and sure to hold up for a long time to come.</td>\n",
       "    </tr>\n",
       "    <tr>\n",
       "      <th>4174</th>\n",
       "      <td>This movie is honestly one of the greatest movies of all time...if you suffer from insomnia. It is a fool-proof way to guarantee hours of sleep at a time. As the movie slowly progresses, the audience slips into a state of unconsciousness and gradually loses sight of any sort of plot that the movie might actually contain. This effect is surely created due to the lack of sweet action/sweet babes.&lt;br /&gt;&lt;br /&gt;Also, Mr. Eisenstein was obviously unable to master the art of montage. A prime example of this is the scene on the Odessa steps. For no apparent reason, an event that in real life would have taken a matter of seconds is transformed into a seven minute nightmare for any sane viewer. This editing flaw tarnishes any sort of realism in the entire film. Honestly, i've seen more realistic editing watching cartoons.&lt;br /&gt;&lt;br /&gt;Some individuals who have commented on this title have hailed Battleship Potemkin as: \"One of the greatest movies of all time\" and, \"Truly a masterpiece\". Well i'm writing this comment to persuade readers to avoid watching this film at all costs. My best guess is that my fellow Potemkin critics simply wrote the wrong words in their summaries. Surely what they meant to say was: \"One of the greatest snooze-fests of all time\" and, \"Truly an epic fail\".&lt;br /&gt;&lt;br /&gt;In conclusion, don't waste your time. If you are interested in watching a movie of far superior quality, go to www.youtube.com and watch a Halo 3 montage. If i played the movie \"Battleship Potemkin\" in a game of slayer on guardian, i would shoot it in the face with my sniper rifle and then teabag its dead body. PEACE!</td>\n",
       "      <td>negative</td>\n",
       "      <td>282</td>\n",
       "      <td>This movie is honestly one of the greatest movies of all time...if you suffer from insomnia. It is a fool-proof way to guarantee hours of sleep at a time. As the movie slowly progresses, the audience slips into a state of unconsciousness and gradually loses sight of any sort of plot that the movie might actually contain. This effect is surely created due to the lack of sweet action/sweet babes.Also, Mr. Eisenstein was obviously unable to master the art of montage. A prime example of this is the scene on the Odessa steps. For no apparent reason, an event that in real life would have taken a matter of seconds is transformed into a seven minute nightmare for any sane viewer. This editing flaw tarnishes any sort of realism in the entire film. Honestly, i've seen more realistic editing watching cartoons.Some individuals who have commented on this title have hailed Battleship Potemkin as: \"One of the greatest movies of all time\" and, \"Truly a masterpiece\". Well i'm writing this comment to persuade readers to avoid watching this film at all costs. My best guess is that my fellow Potemkin critics simply wrote the wrong words in their summaries. Surely what they meant to say was: \"One of the greatest snooze-fests of all time\" and, \"Truly an epic fail\".In conclusion, don't waste your time. If you are interested in watching a movie of far superior quality, go to www.youtube.com and watch a Halo 3 montage. If i played the movie \"Battleship Potemkin\" in a game of slayer on guardian, i would shoot it in the face with my sniper rifle and then teabag its dead body. PEACE!</td>\n",
       "    </tr>\n",
       "    <tr>\n",
       "      <th>4237</th>\n",
       "      <td>quote by Nicolas Martin (nicmart) from Houston, TX: \"Fine film, but DVD \"reformatted for TV\", 8 April 2002 - This is a charming and emotive film. On the other hand, the DVD I purchased has been \"reformatted to fit your TV\" by the clods at Columbia Tristar. There is no excuse for not providing the film in widescreen format, except that Hollywood treats all films like the moronic, disposable trash that it is so used to producing. What a shame.\"&lt;br /&gt;&lt;br /&gt;What a (criminal!) shame indeed. However, there is another version out though. See here for details http://www.dvdbeaver.com/film/DVDCompare2/kingofmasks.htm&lt;br /&gt;&lt;br /&gt;Wonderful performances by the two main actors (The King and Doggie) BTW.</td>\n",
       "      <td>positive</td>\n",
       "      <td>111</td>\n",
       "      <td>quote by Nicolas Martin (nicmart) from Houston, TX: \"Fine film, but DVD \"reformatted for TV\", 8 April 2002 - This is a charming and emotive film. On the other hand, the DVD I purchased has been \"reformatted to fit your TV\" by the clods at Columbia Tristar. There is no excuse for not providing the film in widescreen format, except that Hollywood treats all films like the moronic, disposable trash that it is so used to producing. What a shame.\"What a (criminal!) shame indeed. However, there is another version out though. See here for details http://www.dvdbeaver.com/film/DVDCompare2/kingofmasks.htmWonderful performances by the two main actors (The King and Doggie) BTW.</td>\n",
       "    </tr>\n",
       "    <tr>\n",
       "      <th>4459</th>\n",
       "      <td>Alone in the Dark is Uwe Boll's kick in the nuts to Hollywood after House of the Dead's punch in the face.&lt;br /&gt;&lt;br /&gt;If anything it proves just how much of a master manipulator Boll is. After forcing Artisan out of business over the flop that was House of the Dead, one can only assume the normally credible Lion's Gate Films only released AITD under contractual obligation after acquiring Artisan's assets. Because AITD is an even bigger example of complete lack of coherent film-making ability, plot exposition and just plain stealing poorly from other movies because it was supposed to look cool instead of because it fitted within the movie's framework.&lt;br /&gt;&lt;br /&gt;But then that's the point, isn't it. Boll isn't trying to make a coherent film because he isn't trying to direct Alone in the Dark. He's just trying to manipulate Hollywood.&lt;br /&gt;&lt;br /&gt;Alone in the Dark, like House of the Dead, Dungeon Siege, Far Cry, Bloodrayne and the other 3 or 4 projects that are \"announced\" or in \"pre-production\".&lt;br /&gt;&lt;br /&gt;These aren't movies to be directed, but investment portfolios. Every single one of them rushed into production under the pretence that the tax law Boll and his investors are exploiting may be closed within the next 2 to 3 years. The more bomb projects he can release within that time-frame, the more money he and his investors can gain. Why bother making a good movie when a bad movie's making you a mint anyway? The result is movies like the awfulness of Alone in the Dark.&lt;br /&gt;&lt;br /&gt;Alone in the Dark, like all his other movies are just a cynical exploitation of Hollywood's current trend for lazy film-making.&lt;br /&gt;&lt;br /&gt;And to those who support Boll by calling him misunderstood or the next Ed Wood, congratulations, by making a cult figure out of the man, you're just making it easier for him to get investors but giving him notoriety.&lt;br /&gt;&lt;br /&gt;For more information, read here: http://www.cinemablend.com/feature.php?id=209 http://www.cinemablend.com/forum/showthread.php?s=&amp;threadid=21699 As an aside, just don't ask me how he's getting his cast-lists together. Unless the actors are in on the investment-scam somehow, that mystery has still to be uncovered.</td>\n",
       "      <td>negative</td>\n",
       "      <td>357</td>\n",
       "      <td>Alone in the Dark is Uwe Boll's kick in the nuts to Hollywood after House of the Dead's punch in the face.If anything it proves just how much of a master manipulator Boll is. After forcing Artisan out of business over the flop that was House of the Dead, one can only assume the normally credible Lion's Gate Films only released AITD under contractual obligation after acquiring Artisan's assets. Because AITD is an even bigger example of complete lack of coherent film-making ability, plot exposition and just plain stealing poorly from other movies because it was supposed to look cool instead of because it fitted within the movie's framework.But then that's the point, isn't it. Boll isn't trying to make a coherent film because he isn't trying to direct Alone in the Dark. He's just trying to manipulate Hollywood.Alone in the Dark, like House of the Dead, Dungeon Siege, Far Cry, Bloodrayne and the other 3 or 4 projects that are \"announced\" or in \"pre-production\".These aren't movies to be directed, but investment portfolios. Every single one of them rushed into production under the pretence that the tax law Boll and his investors are exploiting may be closed within the next 2 to 3 years. The more bomb projects he can release within that time-frame, the more money he and his investors can gain. Why bother making a good movie when a bad movie's making you a mint anyway? The result is movies like the awfulness of Alone in the Dark.Alone in the Dark, like all his other movies are just a cynical exploitation of Hollywood's current trend for lazy film-making.And to those who support Boll by calling him misunderstood or the next Ed Wood, congratulations, by making a cult figure out of the man, you're just making it easier for him to get investors but giving him notoriety.For more information, read here: http://www.cinemablend.com/feature.php?id=209 http://www.cinemablend.com/forum/showthread.php?s=&amp;threadid=21699 As an aside, just don't ask me how he's getting his cast-lists together. Unless the actors are in on the investment-scam somehow, that mystery has still to be uncovered.</td>\n",
       "    </tr>\n",
       "    <tr>\n",
       "      <th>4473</th>\n",
       "      <td>This movie contains the worst acting performance of all time. Spilsbury lacks energy to say the least. Energy is what Clayton Moore gave us in spades. I never felt once in this movie that Spilsbury was anxious for anything. Revenge, love, justice? Not in this guy's portrayal.&lt;br /&gt;&lt;br /&gt;There is also no chemistry between Tonto and LR. If the plot did not force them to be friends, you don't get the impression they want to hang out with each other. Plus, the sidekick has the more interesting personality. Ewww.&lt;br /&gt;&lt;br /&gt;The dialogue is predictable and boring.&lt;br /&gt;&lt;br /&gt;The narration is stunningly bad and if you are familiar with the Dukes of Hazzard you can picture what this is like. I cannot believe the director would agree to this. It insulted me as a viewer by explaining every plot line I just witnessed.&lt;br /&gt;&lt;br /&gt;Hey, at least the horses and locations looked good, maybe that is what happens when you hire a cinematographer to be your director.&lt;br /&gt;&lt;br /&gt;RATING-2 You may be able to watch this one for laughs or to demonstrate to an alien what a bad movie is.</td>\n",
       "      <td>negative</td>\n",
       "      <td>189</td>\n",
       "      <td>This movie contains the worst acting performance of all time. Spilsbury lacks energy to say the least. Energy is what Clayton Moore gave us in spades. I never felt once in this movie that Spilsbury was anxious for anything. Revenge, love, justice? Not in this guy's portrayal.There is also no chemistry between Tonto and LR. If the plot did not force them to be friends, you don't get the impression they want to hang out with each other. Plus, the sidekick has the more interesting personality. Ewww.The dialogue is predictable and boring.The narration is stunningly bad and if you are familiar with the Dukes of Hazzard you can picture what this is like. I cannot believe the director would agree to this. It insulted me as a viewer by explaining every plot line I just witnessed.Hey, at least the horses and locations looked good, maybe that is what happens when you hire a cinematographer to be your director.RATING-2 You may be able to watch this one for laughs or to demonstrate to an alien what a bad movie is.</td>\n",
       "    </tr>\n",
       "    <tr>\n",
       "      <th>4484</th>\n",
       "      <td>Years ago a movie going friend and I went to see a horror film that we thought would be good because it starred John Cassavetes. For the uninitiated, John Cassavettes was an actor, screen writer and director (married to actress Gena Rowlands), nominated for Oscars three times, who wrote and directed a variety of good low-budget films using his income as an actor to keep himself afloat. Up until seeing The Incubus, we did not understand that John Cassavetes income was made from any movie that was offered to him. Had we known what the film was about before seeing it we may have avoided altogether. But we did not walk out. At the time, my friend and I jokingly indicated it was the worst movie ever made. Now frankly, this is not true. I have seen many poorly made films on Friday nights on Cinemax (did I just say that out loud?) that are far worse than The Incubus. Almost any movie starring Brian Bosworth is by definition a worse movie than The Incubus. Certainly Santa Claus Conquers the Martians is a worse movie than The Incubus. However, I have since consistently used The Incubus as a threshold below which I do not want to fall. When talking to this friend about a movie I may have seen I will always remark that it was better (or worse) than The Incubus.&lt;br /&gt;&lt;br /&gt;http://thevillagevideot.blogspot.com/</td>\n",
       "      <td>negative</td>\n",
       "      <td>234</td>\n",
       "      <td>Years ago a movie going friend and I went to see a horror film that we thought would be good because it starred John Cassavetes. For the uninitiated, John Cassavettes was an actor, screen writer and director (married to actress Gena Rowlands), nominated for Oscars three times, who wrote and directed a variety of good low-budget films using his income as an actor to keep himself afloat. Up until seeing The Incubus, we did not understand that John Cassavetes income was made from any movie that was offered to him. Had we known what the film was about before seeing it we may have avoided altogether. But we did not walk out. At the time, my friend and I jokingly indicated it was the worst movie ever made. Now frankly, this is not true. I have seen many poorly made films on Friday nights on Cinemax (did I just say that out loud?) that are far worse than The Incubus. Almost any movie starring Brian Bosworth is by definition a worse movie than The Incubus. Certainly Santa Claus Conquers the Martians is a worse movie than The Incubus. However, I have since consistently used The Incubus as a threshold below which I do not want to fall. When talking to this friend about a movie I may have seen I will always remark that it was better (or worse) than The Incubus.http://thevillagevideot.blogspot.com/</td>\n",
       "    </tr>\n",
       "    <tr>\n",
       "      <th>4681</th>\n",
       "      <td>Being a huge fan of Conte d'ete ( http://www.imdb.com/title/tt0115940/ ) I was expecting to be wowed by another French beach romance with a lot of honesty, realism, and humor. Same director, same actress- what could go wrong? Unfortunately, Pauline a la plange is a huge disappointment. It's very slow and talkative which would be fine if the dialog conveyed insights into the characters, was meaningful, or original. But it comes across as a typical soap opera alternating between irrelevant pillow talk and jealous accusations. The only thing that saves this movie from being a complete disaster is a small amount of character development or at least \"character change\" with regards to Pauline. The source material is standard fare (sexual awakening during a beach vacation) but it could have been a decent film nevertheless if any of the characters were sufficiently interesting. Unfortunately that's not the case. Event though there are other shortcomings with Rohmer's season cycle, most of his later films are definitely leagues above this one.</td>\n",
       "      <td>negative</td>\n",
       "      <td>167</td>\n",
       "      <td>Being a huge fan of Conte d'ete ( http://www.imdb.com/title/tt0115940/ ) I was expecting to be wowed by another French beach romance with a lot of honesty, realism, and humor. Same director, same actress- what could go wrong? Unfortunately, Pauline a la plange is a huge disappointment. It's very slow and talkative which would be fine if the dialog conveyed insights into the characters, was meaningful, or original. But it comes across as a typical soap opera alternating between irrelevant pillow talk and jealous accusations. The only thing that saves this movie from being a complete disaster is a small amount of character development or at least \"character change\" with regards to Pauline. The source material is standard fare (sexual awakening during a beach vacation) but it could have been a decent film nevertheless if any of the characters were sufficiently interesting. Unfortunately that's not the case. Event though there are other shortcomings with Rohmer's season cycle, most of his later films are definitely leagues above this one.</td>\n",
       "    </tr>\n",
       "  </tbody>\n",
       "</table>\n",
       "</div>"
      ],
      "text/plain": [
       "                                                                                                                                                                                                                                                                                                                                                                                                                                                                                                                                                                                                                                                                                                                                                                                                                                                                                                                                                                                                                                                                                                                                                                                                                                                                                                                                                                                                                                                                                                                                                                                                                                                                                                                                                                                                                                                                                                                                                                                                                                                                                                                                                                                                                                                                                                                                                                                                                                                                                                                                                                                                                                                                                                                                                                                                                                                                                                                                                                                                                                                                                                                                                                                                                                                                                                                                                                                                                                                                                                                                                                                                                                                                                                                                                                                                                                                                                                                                                                                                                                review  \\\n",
       "211                                                                                                                                                                                                                                                                                                                                                                                                                                                                                                                                                                                                                                                                                                                                                                                                                                                                                                                                                                                                                                                                                                                                                                                                                                                                                                                                                                                                                                                                                                                                                                                                                                                                                                                                                                                                                                                                                                                                                                                                                                                                                                                                                                                                                                                                                                                                                                                                                                                                                                                                                                                                                                                                                                                                                                                                   This is absolutely the best 80s cartoon ever, maybe the best cartoon of all time. It had everything action, adventure, thrill, and much more...<br /><br />I can't imagine how hard it was for Ruby-Spears company to make this great cartoon, there has been spent a lot of money for this masterpiece of work and it was worth it, for example just the beaming down scenes were hard because I wouldn't call the 1980s for a great technology year with computers like now in the world we live in so the beaming down scenes were excellent!<br /><br />The cartoons will never be the same as they were before, that is why I hope that they all will be released on DVD specially The Centurions as it's my favorite. I have the whole complete set of 65 episodes on DVD-r but it's not the same because if they were released on DVD the people in the world would be able to buy it and see the DVD's in almost every store which means a lot to the fans. My good friend Ted made this petition to either get the show back on TV or better on DVD, that is if we get many requests to get them back on DVD.<br /><br />So please help us by signing the petition at http://www.petitiononline.com/6600F/petition.html   \n",
       "489                                                                                                                                                                                                                                                                                                                                                                                                                                                                                                                                                                                                                                                                                                                                                                                                                                                                                                                                                                                                                                                                                                                                                                                                                                                                                                                                                                                                                                                                                                                                                                                                                                                                                                                                                                                                                                                                                                                                                                                                                                                                                                                                                                                                                                                                                                                                                                                                                                                                                                                                                                                                                                                                                                                                                                                                                                                                                                                                                                                                                                                                                                                                                                                                        As with all the other reviewers, this movie has been a constant in my mind after 30 years. I recall going to the library researching all that I could on this story. I even wrote to the PBS station for more information. Despite all this, all I was able to find out was that it was a story printed in a newspaper in the early part of the 1900s.<br /><br />Fastward to 2002, after years of searching ebay for on a weekly basis and there it was, a VHS copy of the movie. There was one other bidder but I was determined to win this movie. The losing bidder wrote me asking for a copy which I gave her. Despite owning a copy, I still searched and searched finally finding a site that sold a DVD copy of the movie. You can find it at: http://www.johntopping.com/Harvey%20Perr/War%20Widow/war_widow.html   \n",
       "983   Again, like many other TV Shows, a certain actor/actresses in thrust into the limelight, in this case Miranda Cosgrove, having built up her reputation in previous Movies/Series (especially by Nickelodeon and Dan Schneider. She is now the star of the show, gets to sing the soundtrack ( which she DID NOT WRITE and thus gets even more fame from that). Wonderful? It creates as much imbalance in popularity vs her other co-stars, especially Nathan Kress, who is continually thrust into minor rolls in each episode, except iDont Want to Fight. Cosgrove's music would never have met the charts without this show and her singing the main theme song (which was not written by her) and other covers such as About You Now and Stay my Baby. Let's not forget that she lip sync/sings her song live too. Is that how you create vocalist nowadays?<br /><br />Back to the show, Cosgrove reveals more physically by acting scenes in a bikini, Hawaiian hula type bra and mentioned bra many times through out. Bras and seen in many cases (though not of the other actresses). Wedgies are mentioned, panties have been mentioned once. Og let us not forget \"Oh My God\" a come phrase (are any of the scriptwriters/actors Christian?) Granted that the show is not meant to be just for kids, I'm surprised at the multitude of mentions of the female undergarment, especially in the first episode, where the phrase \"pointy boobs\" were mentioned. I'm not sure whether kids would thus refrain from saying that at home/in school afterwards. <br /><br />It's not that I'm against the mentioning or showing of female undergarments (which girls will wear), but for a show from Nickelodeon, the people in charge should have realised that kids would get the exposure to such stuff. I doubt that other Nickelodeon shows have such content in them.<br /><br />As mentioned is other reviews, the laughter track is extremely annoying and unnecessary in many parts--for example, when the character Sam cries, how on earth is that a time to laugh? It distracts people from getting the joke and is used almost in every sentence.<br /><br />As mentioned, Cosgrove is made the star of the show and thus gains the utmost fame and support from die hard fans, who even scolded a hotel staff when she is told to keep her noise level down (see http://www.youtube.com/watch?v=kk0gtfUk98U). Jennette McCurdy is the second star of the show but she faces competition from Cosgrove in the music industry (compare the popularity of her new single vs Cosgrove's covers). As noted, the third co-star Nathan Kress is the least noted of the lot. He is portrayed as a atypical boy who suffers the brunt of bullying by a girl and other boys but somehow a wizard at technology. His height in early episodes make him a cute actor but unusual given his character's crush on Carly/Cosgrove. Beyond that, Kress isn't breaking into the music industry and as Cosgrove's fame grows with each episode, Kress falls behind. I would bet that he is the least paid of all the three actors.<br /><br />The content of the show is of course fictional, but also lets one wonder how it fits into a comedy series at certain times (thus the laughter track is used).It also contains several continuity errors (how can your father be and Air Force Colonel on a submarine? US Special Forces have their own branches, and the Air Force doesn't use US submarines--that is for SEALs). A unique feature is that of allowing viewers to submit their own videos to be shown during or after the episodes, but again the videos somehow do not meet the theme of comedy.<br /><br />Once again, it is a show that is riddled with mentions of the female undergarments, exposure of skin, and over used laughter tracks. It is a series which thrusts a teen actress so far into the crowd such that her songs/actions are excessive supported by her fans, leaving her co Stars behind.   \n",
       "1655                                                                                                                                                                                                                                                                                                                                                                                                                                                                                                                                                                                                                                                                                                                                                                                                                                                                                                                                                                                                                                                                                                                                                                                                                                                                                                                                                                                                                                                                                                                                                                                                                                                                                                                                                                                                                                                                                                                                                                                                                                                                                                                                                                                                                                                                                                                                                                                                                                                                                                                                                                                                                                                                                                                                                                                                                                                                                                                                                                                                                                                                                                                                                                                                                                                                                                              GOJOE takes a little getting used to at first, but the final result is very satisfying. The tale, about a murderous samurai who seeks to redeem himself by opposing an effeminate, but dangerous samurai, is worth more than a watch. There is a lot at stake here, from physical survival to soulful salvation. The movie may seem a bit similar to other anime-inspired Samurai film at first, but it does eventually delve into more mature/adult territory soon after.<br /><br />Not to be missed. GOJOE is one of the better samurai movies to come around post-Kurosawa.<br /><br />8 out of 10<br /><br />(go to www.nixflix.com for a more detailed review of the movie and reviews of other foreign films)   \n",
       "2060                                                                                                                                                                                                                                                                                                                                                                                                                                                                                                                                                                                                                                                                                                                                                                                                                                                                                                                                                                                                                                                                                                                                                                                                                                                                                                                                                                                                                                                                                                                                                                                                                                                                                                                                                                                                                                                                                                                                                                                                                                                                                                                                                                                                                                                                                                                                                                                                                                                                                                                                                                                                                                                                                                                                                                                                                                                                                                                                                                             Airwolf The Movie, A variation on the original 2 part pilot, Yet the movie although shorter, does contain extra footage Unseen in the 2 hour pilot The pilot is much more of a pilot than the movie Where as a pilot movie is normally the same (2 parter combined) But the movie is actually a different edit with extras here and cuts there.<br /><br />Worth a look, even if you have the season 1 DVD set, I'd still pick up a copy of the \"movie\" It's still in some shops like virgin, Woolworths and the likes of mixed media stores, although it generally needs ordering, But it saves needing to buy online (as many of us still don't do or trust online shopping) but if you look around airwolfs in stores<br /><br />Airwolf was truly 1 of the 80's most under rated shows.<br /><br />A full size Airwolf is currently being re-built for a Helicopter Museum :) Info and work in progress pictures are over at http://Airwolf.org Also with Airwolf Mods for Flashpoint and Flight Sim Games It seams she's finally here to stay :)   \n",
       "2667                                                                                                                                                                                                                                                                                                                                                           'Rise of the Footsoldier' follows the unrelentingly cruel journey of gangster Carlton Leach and his associates through drugs, violence, sex, violence, guns, violence and did I mention violence?<br /><br />Protagonist Carlton Leach (Ricci Harnett), member of the I.C.F (Inner City Firm); a group of football hooligans turned professional gangsters, guides the audience through the events leading to the 1995 'Range Rover Killings', in which three gang members fell victim to particularly vicious professional 'hits'. Leach's success as a doorman and talent for locating aptly violent friends to control unruly punters at a local nightclub launches him into the company of notorious drug dealers and gangsters, profitably benefiting from the 80s/90s rave scene and drug culture.<br /><br />Opening with brutally realistic shots of the dead men, the viewer is left thirsty to understand what happened, but left wholly unsatisfied. The next 2 hours meander through a series of countless character introductions. Each of these basically establishes yet another typical 'hard man', shows him assaulting usually undeserving victims, before probably coming to an even nastier end. What little emotional understanding the audience is allowed to form for a few of the characters (for example a family man blamed for missing drugs) is quickly destroyed when they are either anti-climactically killed, or their storyline left unresolved. The hints of a plot introduced in the beginning are inadequately concluded with vague impressions of how the murders occurred, as the events are slotted into place with little reward for persevering with the hazy muddle of previous events. <br /><br />This film has been made with a standard formula in mind, for an audience who prefer violence and 'ard nut' slang to an actual storyline. 'Rise of the Footsoldier' borrows too much from 'Football Factory', leaving out the good bits, demonstrating no moral ramifications of hooligan subculture or establishing empathy with the protagonist. The violence, although brilliantly shot, seems excessive and implausible because no one is around long enough for the audience to form an emotional attachment. The implication that the gangs are untouchable by the police is fair enough, but machete-wielding doormen regularly committing blatant murder in public places pushes the imagination of even the most willing viewer. The audience are left bewildered as to the relevance of many key events and developed characters that had no knock on effect on the eventual conclusion. Attempted 'gritty-realism' is further destroyed with a substance called 'Truth Serum', which the Turkish Mafia use to coax honest answers from unwilling individuals. This is NOT the genre in which to invent psychologically unrealistic drugs, and renders the interrogation almost absurd.<br /><br />The actual scenes of violence (before becoming repetitive) hold some tension, spliced with rapid flashes of colour or the end of a film reel. Seamlessly choreographed brawls coupled with obligatory but effective shaky hand-held camera work saves the film, but unfortunately the plot (or lack there of) limits it to a niche demographic.<br /><br />In essence, the events this film is based on aren't deservedly represented, and an adequately sequential storyline is sacrificed for stereotypical characters and an unoriginal plot. This film has a place in the market, but if you like a bit of brain with your brutality this one isn't for you. <br /><br />http://www.obsessedwithfilm.com/   \n",
       "2951                                                                                                                                                                                                                                                                                                                                                                                                                                                                                                                                                                                                                                                                                                                                                                                                                                                                                                                                                                                                                                                                                                                                                                                                                                                                                                                                                                                                                                                                                                                                                                                                                                                                                                                                                                                                                                                                                                                                                                                                                                                                                                                                                                                                                                                                                                                                                                                                                                                                                                                                                                                                                                                                                                                                                                                                                                                                                                                                                                                                                                                                                                                                                                                                                                                                                                Over acted, heavy handed, full of speeches, preachy, on the nose, and over stylized in a way only MTV could be guilty of, Stop-Loss is agit-prop garbage. I expected a lot more with talented young actors such as Joseph Gordon-Levitt and Ryan Philippe, but Screenwriter/Director Kimberly Peirce does a hatchet job of portraying the ill effects of war on American youth. I'm sure she did some work researching the Iraq war and the young men fighting in it, but you'd never guess it from watching Stop-Loss. In many ways this mess reminded me of Catherine Hardwicke's Lords of Dogtown, an equally inept, overly stylized, TV movie-like waste of solid subject matter.<br /><br />http://eattheblinds.blogspot.com/   \n",
       "3227                                                                                                                                                                                                                                                                                                                                                                                                                                                                                                                                                                                                                                                                                                                                                                                                                                                                                                                                                                                                                                                                                                                                                                                                                                                                                                                                                                                                                                                                                                                                                                                                                                                                                                                                                                                                                                                                                                                                                                                                                                                                                                                                                                                                                                                                                                                                                                                                                                                                                                                                                                                                                                                                                                                                                                                                                                                                                                                                                                                                                                                                                                                                                                                                                                                                       The mere fact that I still think of the movie a decade later is what really speaks volumes about the film. To me this substantiates Grand Canyon as a film that will touch you in one way or another. I truly believe that before the movie Crash there was Grand Canyon. The major difference between the two films in my opinion is the timing of their release. I'm not going to argue which one is better, but I will contend to the idea that they share the same message. I'd love to hear from those that have an opinion on this subject. I will start a commentary which you can find at http://www.myspace.com/62229249. You may also find me there to post any other topics about movies that we may share, because i have a true love for film.   \n",
       "3253                                                                                                                                                                                                                                                                                                                                                                                                                                                                                                                                                                                                                                                                                                                                                                                                                                                                                                                                                                                                                                                                                                                                                                                                                                                                                                                                                                                                                                                                                                                                                                                                                                                                                                                                                                                                                                                                                                                                                                                                                                                                                                                                                                                                                                                                                                                                                                                                                                                                                                                                                                                                                                                                                                                                                                                                                                                                                                                                                                                                                                                                                                                                                                                                                                                          I, too, found \"Oppenheimer\" to be a brilliant series and one of the finest offerings ever on American PBS. David Suchet was particularly effective as Edward Teller, as I recall, and the overall conception was spectacularly good. The only reason that the series doesn't rate a full 10/10 is for the low-budget production values in some areas. Actual content is absolutely first-rate in my recollection.<br /><br />The Oppenheimer miniseries will be released in the UK on July 31st! It will be a Region 2/PAL set, but it would seem that a Region 1/NTSC set should be soon in the offing.<br /><br />If you have a universal player in the US, you can order the series right now from Amazon UK.<br /><br />http://tinyurl.com/znyyq<br /><br />Huzzah!!   \n",
       "3332                                                                                                                                                                                                                                                                                                                                                                                                                                                   NB: Spoilers within. This great movie is \"about\" so many things, all of them successfully: sci-fi time travel, unstable psychologies, dystopian society, the what-is-real syndrome, gradual undermining of belief systems, worldwide bioterrorism, and a nascent love story.<br /><br />The ramifications of the story's twisted time line stir up loads of heated debate - witness the discussions within this site; or, as an extreme, check out the dissertation at www.mjyoung.net/time/monkeys.html. Whew! Such temporal emphasis speaks mostly to the brilliant plot, coming from the magnificent work of writers David and Janet Peoples, not to mention the inspiration of Chris Marker's \"La Jetee.\" Without a doubt, this is one of the most successful, fascinating time-travel movies ever conceived. But there are many other levels speaking here.<br /><br />The movie's real genius is to focus on the nasty side effects of time-travel in the mind of James Cole (Bruce Willis, doing the best work of his career here). His journey progresses from gung-ho vaccine-hunting warrior to gradually unhinged victim  and back again. The other broad sweep of the story increasingly emphasizes the personal tale between James and Dr. Kathryn Railly (the wonderful Madeleine Stowe). I love the simultaneous shifting/opposing viewpoints of these two characters. For me it all comes to a head in the fleabag hotel room scene. By this point, James  once gripped by an unshakable determination  now slumps in utter doubt about his own reality; while Dr. Railly  the cool and rational scientist  has finally become wildly convinced, after absorbing James's proofs, of his horrific predictions. Her desperation to get through to James and hang on to the mission shows how far she's come.<br /><br />Gilliam makes us care about these characters, especially through the crescendo of tension threading their lives. The balance held between emotional roller-coaster and mounting sci-fi puzzle/thriller is exquisite. And the denouement at the airport is heart-poundingly intense because we see it coming so clearly through James's dreams. It is here, just after James has decided to quit the whole mess  and is fighting his insanity more than ever  that he steps back up to the plate and does what is necessary for mankind. See Jose and the gun\n",
       " (Just before this, the references to Hitchcock's \"Vertigo\" and identity switching/confusion are brilliant.) This is a movie to be hashed out between thinking people; it not only holds up under repeated viewings, it demands them. \"Twelve Monkeys\" is intelligent, provocative, bizarre, funny, and suspenseful stuff.<br /><br />The supporting cast is excellent, especially Brad Pitt stealing all of his scenes and showing great flexibility as Jeffery Goines, crazed and spoiled, but ever the survivor. And there is David Morse as Dr. Peters (interesting how the movie simply leaves to the viewer his wicked motivation) and Christopher Plummer as Dr. Goines. But the biggest accolades belong to Terry Gilliam, surpassing here - just barely - his outstanding \"Brazil.\" (Lots of parallels, of course, especially the lonely combatant trying to escape his crumbling surroundings: lunacy within, lunacy without.) Every frame of this movie has his unique stamp and tone. The soundtrack is terrific, too.<br /><br />This is one of the great achievements of the 90s, a true favorite of mine, and sure to hold up for a long time to come.   \n",
       "4174                                                                                                                                                                                                                                                                                                                                                                                                                                                                                                                                                                                                                                                                                                                                                                                                                                                                                                                                                                                                                                                                                                                                                                                                                                                                                                                                                                                                                                                                                                                                                                                                                                                                                                                                                                                                                                                                                                                                                                                                                                                                                                                                                                                                                                                                                                                                                This movie is honestly one of the greatest movies of all time...if you suffer from insomnia. It is a fool-proof way to guarantee hours of sleep at a time. As the movie slowly progresses, the audience slips into a state of unconsciousness and gradually loses sight of any sort of plot that the movie might actually contain. This effect is surely created due to the lack of sweet action/sweet babes.<br /><br />Also, Mr. Eisenstein was obviously unable to master the art of montage. A prime example of this is the scene on the Odessa steps. For no apparent reason, an event that in real life would have taken a matter of seconds is transformed into a seven minute nightmare for any sane viewer. This editing flaw tarnishes any sort of realism in the entire film. Honestly, i've seen more realistic editing watching cartoons.<br /><br />Some individuals who have commented on this title have hailed Battleship Potemkin as: \"One of the greatest movies of all time\" and, \"Truly a masterpiece\". Well i'm writing this comment to persuade readers to avoid watching this film at all costs. My best guess is that my fellow Potemkin critics simply wrote the wrong words in their summaries. Surely what they meant to say was: \"One of the greatest snooze-fests of all time\" and, \"Truly an epic fail\".<br /><br />In conclusion, don't waste your time. If you are interested in watching a movie of far superior quality, go to www.youtube.com and watch a Halo 3 montage. If i played the movie \"Battleship Potemkin\" in a game of slayer on guardian, i would shoot it in the face with my sniper rifle and then teabag its dead body. PEACE!   \n",
       "4237                                                                                                                                                                                                                                                                                                                                                                                                                                                                                                                                                                                                                                                                                                                                                                                                                                                                                                                                                                                                                                                                                                                                                                                                                                                                                                                                                                                                                                                                                                                                                                                                                                                                                                                                                                                                                                                                                                                                                                                                                                                                                                                                                                                                                                                                                                                                                                                                                                                                                                                                                                                                                                                                                                                                                                                                                                                                                                                                                                                                                                                                                                                                                                                                                                                                                                       quote by Nicolas Martin (nicmart) from Houston, TX: \"Fine film, but DVD \"reformatted for TV\", 8 April 2002 - This is a charming and emotive film. On the other hand, the DVD I purchased has been \"reformatted to fit your TV\" by the clods at Columbia Tristar. There is no excuse for not providing the film in widescreen format, except that Hollywood treats all films like the moronic, disposable trash that it is so used to producing. What a shame.\"<br /><br />What a (criminal!) shame indeed. However, there is another version out though. See here for details http://www.dvdbeaver.com/film/DVDCompare2/kingofmasks.htm<br /><br />Wonderful performances by the two main actors (The King and Doggie) BTW.   \n",
       "4459                                                                                                                                                                                                                                                                                                                                                                                                                                                                                                                                                                                                                                                                                                                                                                                                                                                                                                                                                                                                                                                                                                                                                                                                                                                                                                                                                                                                                                                                                                                                                                                                                                                                                                                                                        Alone in the Dark is Uwe Boll's kick in the nuts to Hollywood after House of the Dead's punch in the face.<br /><br />If anything it proves just how much of a master manipulator Boll is. After forcing Artisan out of business over the flop that was House of the Dead, one can only assume the normally credible Lion's Gate Films only released AITD under contractual obligation after acquiring Artisan's assets. Because AITD is an even bigger example of complete lack of coherent film-making ability, plot exposition and just plain stealing poorly from other movies because it was supposed to look cool instead of because it fitted within the movie's framework.<br /><br />But then that's the point, isn't it. Boll isn't trying to make a coherent film because he isn't trying to direct Alone in the Dark. He's just trying to manipulate Hollywood.<br /><br />Alone in the Dark, like House of the Dead, Dungeon Siege, Far Cry, Bloodrayne and the other 3 or 4 projects that are \"announced\" or in \"pre-production\".<br /><br />These aren't movies to be directed, but investment portfolios. Every single one of them rushed into production under the pretence that the tax law Boll and his investors are exploiting may be closed within the next 2 to 3 years. The more bomb projects he can release within that time-frame, the more money he and his investors can gain. Why bother making a good movie when a bad movie's making you a mint anyway? The result is movies like the awfulness of Alone in the Dark.<br /><br />Alone in the Dark, like all his other movies are just a cynical exploitation of Hollywood's current trend for lazy film-making.<br /><br />And to those who support Boll by calling him misunderstood or the next Ed Wood, congratulations, by making a cult figure out of the man, you're just making it easier for him to get investors but giving him notoriety.<br /><br />For more information, read here: http://www.cinemablend.com/feature.php?id=209 http://www.cinemablend.com/forum/showthread.php?s=&threadid=21699 As an aside, just don't ask me how he's getting his cast-lists together. Unless the actors are in on the investment-scam somehow, that mystery has still to be uncovered.   \n",
       "4473                                                                                                                                                                                                                                                                                                                                                                                                                                                                                                                                                                                                                                                                                                                                                                                                                                                                                                                                                                                                                                                                                                                                                                                                                                                                                                                                                                                                                                                                                                                                                                                                                                                                                                                                                                                                                                                                                                                                                                                                                                                                                                                                                                                                                                                                                                                                                                                                                                                                                                                                                                                                                                                                                                                                                                                                                                                                                                             This movie contains the worst acting performance of all time. Spilsbury lacks energy to say the least. Energy is what Clayton Moore gave us in spades. I never felt once in this movie that Spilsbury was anxious for anything. Revenge, love, justice? Not in this guy's portrayal.<br /><br />There is also no chemistry between Tonto and LR. If the plot did not force them to be friends, you don't get the impression they want to hang out with each other. Plus, the sidekick has the more interesting personality. Ewww.<br /><br />The dialogue is predictable and boring.<br /><br />The narration is stunningly bad and if you are familiar with the Dukes of Hazzard you can picture what this is like. I cannot believe the director would agree to this. It insulted me as a viewer by explaining every plot line I just witnessed.<br /><br />Hey, at least the horses and locations looked good, maybe that is what happens when you hire a cinematographer to be your director.<br /><br />RATING-2 You may be able to watch this one for laughs or to demonstrate to an alien what a bad movie is.   \n",
       "4484                                                                                                                                                                                                                                                                                                                                                                                                                                                                                                                                                                                                                                                                                                                                                                                                                                                                                                                                                                                                                                                                                                                                                                                                                                                                                                                                                                                                                                                                                                                                                                                                                                                                                                                                                                                                                                                                                                                                                                                                                                                                                                                                                                                                                                                                                                                                                                                                                                                                                                                                                                                                                                                           Years ago a movie going friend and I went to see a horror film that we thought would be good because it starred John Cassavetes. For the uninitiated, John Cassavettes was an actor, screen writer and director (married to actress Gena Rowlands), nominated for Oscars three times, who wrote and directed a variety of good low-budget films using his income as an actor to keep himself afloat. Up until seeing The Incubus, we did not understand that John Cassavetes income was made from any movie that was offered to him. Had we known what the film was about before seeing it we may have avoided altogether. But we did not walk out. At the time, my friend and I jokingly indicated it was the worst movie ever made. Now frankly, this is not true. I have seen many poorly made films on Friday nights on Cinemax (did I just say that out loud?) that are far worse than The Incubus. Almost any movie starring Brian Bosworth is by definition a worse movie than The Incubus. Certainly Santa Claus Conquers the Martians is a worse movie than The Incubus. However, I have since consistently used The Incubus as a threshold below which I do not want to fall. When talking to this friend about a movie I may have seen I will always remark that it was better (or worse) than The Incubus.<br /><br />http://thevillagevideot.blogspot.com/   \n",
       "4681                                                                                                                                                                                                                                                                                                                                                                                                                                                                                                                                                                                                                                                                                                                                                                                                                                                                                                                                                                                                                                                                                                                                                                                                                                                                                                                                                                                                                                                                                                                                                                                                                                                                                                                                                                                                                                                                                                                                                                                                                                                                                                                                                                                                                                                                                                                                                                                                                                                                                                                                                                                                                                                                                                                                                                                                                                                                                                                                        Being a huge fan of Conte d'ete ( http://www.imdb.com/title/tt0115940/ ) I was expecting to be wowed by another French beach romance with a lot of honesty, realism, and humor. Same director, same actress- what could go wrong? Unfortunately, Pauline a la plange is a huge disappointment. It's very slow and talkative which would be fine if the dialog conveyed insights into the characters, was meaningful, or original. But it comes across as a typical soap opera alternating between irrelevant pillow talk and jealous accusations. The only thing that saves this movie from being a complete disaster is a small amount of character development or at least \"character change\" with regards to Pauline. The source material is standard fare (sexual awakening during a beach vacation) but it could have been a decent film nevertheless if any of the characters were sufficiently interesting. Unfortunately that's not the case. Event though there are other shortcomings with Rohmer's season cycle, most of his later films are definitely leagues above this one.   \n",
       "\n",
       "     sentiment  length  \\\n",
       "211   positive     219   \n",
       "489   positive     146   \n",
       "983   negative     667   \n",
       "1655  positive     118   \n",
       "2060  positive     185   \n",
       "2667  negative     538   \n",
       "2951  negative     113   \n",
       "3227  positive     138   \n",
       "3253  positive     124   \n",
       "3332  positive     546   \n",
       "4174  negative     282   \n",
       "4237  positive     111   \n",
       "4459  negative     357   \n",
       "4473  negative     189   \n",
       "4484  negative     234   \n",
       "4681  negative     167   \n",
       "\n",
       "                                                                                                                                                                                                                                                                                                                                                                                                                                                                                                                                                                                                                                                                                                                                                                                                                                                                                                                                                                                                                                                                                                                                                                                                                                                                                                                                                                                                                                                                                                                                                                                                                                                                                                                                                                                                                                                                                                                                                                                                                                                                                                                                                                                                                                                                                                                                                                                                                                                                                                                                                                                                                                                                                                                                                                                                                                                                                                                                                                                                                                                                                                                                                                                                                                                                                                                                                                                                                                                                                                                                                                                                                                                                                                                                                                                                                                                                                                                                                          text  \n",
       "211                                                                                                                                                                                                                                                                                                                                                                                                                                                                                                                                                                                                                                                                                                                                                                                                                                                                                                                                                                                                                                                                                                                                                                                                                                                                                                                                                                                                                                                                                                                                                                                                                                                                                                                                                                                                                                                                                                                                                                                                                                                                                                                                                                                                                                                                                                                                                                                                                                                                                                                                                                                                                                                                                                                                                               This is absolutely the best 80s cartoon ever, maybe the best cartoon of all time. It had everything action, adventure, thrill, and much more...I can't imagine how hard it was for Ruby-Spears company to make this great cartoon, there has been spent a lot of money for this masterpiece of work and it was worth it, for example just the beaming down scenes were hard because I wouldn't call the 1980s for a great technology year with computers like now in the world we live in so the beaming down scenes were excellent!The cartoons will never be the same as they were before, that is why I hope that they all will be released on DVD specially The Centurions as it's my favorite. I have the whole complete set of 65 episodes on DVD-r but it's not the same because if they were released on DVD the people in the world would be able to buy it and see the DVD's in almost every store which means a lot to the fans. My good friend Ted made this petition to either get the show back on TV or better on DVD, that is if we get many requests to get them back on DVD.So please help us by signing the petition at http://www.petitiononline.com/6600F/petition.html  \n",
       "489                                                                                                                                                                                                                                                                                                                                                                                                                                                                                                                                                                                                                                                                                                                                                                                                                                                                                                                                                                                                                                                                                                                                                                                                                                                                                                                                                                                                                                                                                                                                                                                                                                                                                                                                                                                                                                                                                                                                                                                                                                                                                                                                                                                                                                                                                                                                                                                                                                                                                                                                                                                                                                                                                                                                                                                                                                                                                                                                                                                                                                                                                                                                            As with all the other reviewers, this movie has been a constant in my mind after 30 years. I recall going to the library researching all that I could on this story. I even wrote to the PBS station for more information. Despite all this, all I was able to find out was that it was a story printed in a newspaper in the early part of the 1900s.Fastward to 2002, after years of searching ebay for on a weekly basis and there it was, a VHS copy of the movie. There was one other bidder but I was determined to win this movie. The losing bidder wrote me asking for a copy which I gave her. Despite owning a copy, I still searched and searched finally finding a site that sold a DVD copy of the movie. You can find it at: http://www.johntopping.com/Harvey%20Perr/War%20Widow/war_widow.html  \n",
       "983   Again, like many other TV Shows, a certain actor/actresses in thrust into the limelight, in this case Miranda Cosgrove, having built up her reputation in previous Movies/Series (especially by Nickelodeon and Dan Schneider. She is now the star of the show, gets to sing the soundtrack ( which she DID NOT WRITE and thus gets even more fame from that). Wonderful? It creates as much imbalance in popularity vs her other co-stars, especially Nathan Kress, who is continually thrust into minor rolls in each episode, except iDont Want to Fight. Cosgrove's music would never have met the charts without this show and her singing the main theme song (which was not written by her) and other covers such as About You Now and Stay my Baby. Let's not forget that she lip sync/sings her song live too. Is that how you create vocalist nowadays?Back to the show, Cosgrove reveals more physically by acting scenes in a bikini, Hawaiian hula type bra and mentioned bra many times through out. Bras and seen in many cases (though not of the other actresses). Wedgies are mentioned, panties have been mentioned once. Og let us not forget \"Oh My God\" a come phrase (are any of the scriptwriters/actors Christian?) Granted that the show is not meant to be just for kids, I'm surprised at the multitude of mentions of the female undergarment, especially in the first episode, where the phrase \"pointy boobs\" were mentioned. I'm not sure whether kids would thus refrain from saying that at home/in school afterwards. It's not that I'm against the mentioning or showing of female undergarments (which girls will wear), but for a show from Nickelodeon, the people in charge should have realised that kids would get the exposure to such stuff. I doubt that other Nickelodeon shows have such content in them.As mentioned is other reviews, the laughter track is extremely annoying and unnecessary in many parts--for example, when the character Sam cries, how on earth is that a time to laugh? It distracts people from getting the joke and is used almost in every sentence.As mentioned, Cosgrove is made the star of the show and thus gains the utmost fame and support from die hard fans, who even scolded a hotel staff when she is told to keep her noise level down (see http://www.youtube.com/watch?v=kk0gtfUk98U). Jennette McCurdy is the second star of the show but she faces competition from Cosgrove in the music industry (compare the popularity of her new single vs Cosgrove's covers). As noted, the third co-star Nathan Kress is the least noted of the lot. He is portrayed as a atypical boy who suffers the brunt of bullying by a girl and other boys but somehow a wizard at technology. His height in early episodes make him a cute actor but unusual given his character's crush on Carly/Cosgrove. Beyond that, Kress isn't breaking into the music industry and as Cosgrove's fame grows with each episode, Kress falls behind. I would bet that he is the least paid of all the three actors.The content of the show is of course fictional, but also lets one wonder how it fits into a comedy series at certain times (thus the laughter track is used).It also contains several continuity errors (how can your father be and Air Force Colonel on a submarine? US Special Forces have their own branches, and the Air Force doesn't use US submarines--that is for SEALs). A unique feature is that of allowing viewers to submit their own videos to be shown during or after the episodes, but again the videos somehow do not meet the theme of comedy.Once again, it is a show that is riddled with mentions of the female undergarments, exposure of skin, and over used laughter tracks. It is a series which thrusts a teen actress so far into the crowd such that her songs/actions are excessive supported by her fans, leaving her co Stars behind.  \n",
       "1655                                                                                                                                                                                                                                                                                                                                                                                                                                                                                                                                                                                                                                                                                                                                                                                                                                                                                                                                                                                                                                                                                                                                                                                                                                                                                                                                                                                                                                                                                                                                                                                                                                                                                                                                                                                                                                                                                                                                                                                                                                                                                                                                                                                                                                                                                                                                                                                                                                                                                                                                                                                                                                                                                                                                                                                                                                                                                                                                                                                                                                                                                                                                                                                                                                                                          GOJOE takes a little getting used to at first, but the final result is very satisfying. The tale, about a murderous samurai who seeks to redeem himself by opposing an effeminate, but dangerous samurai, is worth more than a watch. There is a lot at stake here, from physical survival to soulful salvation. The movie may seem a bit similar to other anime-inspired Samurai film at first, but it does eventually delve into more mature/adult territory soon after.Not to be missed. GOJOE is one of the better samurai movies to come around post-Kurosawa.8 out of 10(go to www.nixflix.com for a more detailed review of the movie and reviews of other foreign films)  \n",
       "2060                                                                                                                                                                                                                                                                                                                                                                                                                                                                                                                                                                                                                                                                                                                                                                                                                                                                                                                                                                                                                                                                                                                                                                                                                                                                                                                                                                                                                                                                                                                                                                                                                                                                                                                                                                                                                                                                                                                                                                                                                                                                                                                                                                                                                                                                                                                                                                                                                                                                                                                                                                                                                                                                                                                                                                                                                                                                                                                                         Airwolf The Movie, A variation on the original 2 part pilot, Yet the movie although shorter, does contain extra footage Unseen in the 2 hour pilot The pilot is much more of a pilot than the movie Where as a pilot movie is normally the same (2 parter combined) But the movie is actually a different edit with extras here and cuts there.Worth a look, even if you have the season 1 DVD set, I'd still pick up a copy of the \"movie\" It's still in some shops like virgin, Woolworths and the likes of mixed media stores, although it generally needs ordering, But it saves needing to buy online (as many of us still don't do or trust online shopping) but if you look around airwolfs in storesAirwolf was truly 1 of the 80's most under rated shows.A full size Airwolf is currently being re-built for a Helicopter Museum :) Info and work in progress pictures are over at http://Airwolf.org Also with Airwolf Mods for Flashpoint and Flight Sim Games It seams she's finally here to stay :)  \n",
       "2667                                                                                                                                                                                                                                                                                                                                                           'Rise of the Footsoldier' follows the unrelentingly cruel journey of gangster Carlton Leach and his associates through drugs, violence, sex, violence, guns, violence and did I mention violence?Protagonist Carlton Leach (Ricci Harnett), member of the I.C.F (Inner City Firm); a group of football hooligans turned professional gangsters, guides the audience through the events leading to the 1995 'Range Rover Killings', in which three gang members fell victim to particularly vicious professional 'hits'. Leach's success as a doorman and talent for locating aptly violent friends to control unruly punters at a local nightclub launches him into the company of notorious drug dealers and gangsters, profitably benefiting from the 80s/90s rave scene and drug culture.Opening with brutally realistic shots of the dead men, the viewer is left thirsty to understand what happened, but left wholly unsatisfied. The next 2 hours meander through a series of countless character introductions. Each of these basically establishes yet another typical 'hard man', shows him assaulting usually undeserving victims, before probably coming to an even nastier end. What little emotional understanding the audience is allowed to form for a few of the characters (for example a family man blamed for missing drugs) is quickly destroyed when they are either anti-climactically killed, or their storyline left unresolved. The hints of a plot introduced in the beginning are inadequately concluded with vague impressions of how the murders occurred, as the events are slotted into place with little reward for persevering with the hazy muddle of previous events. This film has been made with a standard formula in mind, for an audience who prefer violence and 'ard nut' slang to an actual storyline. 'Rise of the Footsoldier' borrows too much from 'Football Factory', leaving out the good bits, demonstrating no moral ramifications of hooligan subculture or establishing empathy with the protagonist. The violence, although brilliantly shot, seems excessive and implausible because no one is around long enough for the audience to form an emotional attachment. The implication that the gangs are untouchable by the police is fair enough, but machete-wielding doormen regularly committing blatant murder in public places pushes the imagination of even the most willing viewer. The audience are left bewildered as to the relevance of many key events and developed characters that had no knock on effect on the eventual conclusion. Attempted 'gritty-realism' is further destroyed with a substance called 'Truth Serum', which the Turkish Mafia use to coax honest answers from unwilling individuals. This is NOT the genre in which to invent psychologically unrealistic drugs, and renders the interrogation almost absurd.The actual scenes of violence (before becoming repetitive) hold some tension, spliced with rapid flashes of colour or the end of a film reel. Seamlessly choreographed brawls coupled with obligatory but effective shaky hand-held camera work saves the film, but unfortunately the plot (or lack there of) limits it to a niche demographic.In essence, the events this film is based on aren't deservedly represented, and an adequately sequential storyline is sacrificed for stereotypical characters and an unoriginal plot. This film has a place in the market, but if you like a bit of brain with your brutality this one isn't for you. http://www.obsessedwithfilm.com/  \n",
       "2951                                                                                                                                                                                                                                                                                                                                                                                                                                                                                                                                                                                                                                                                                                                                                                                                                                                                                                                                                                                                                                                                                                                                                                                                                                                                                                                                                                                                                                                                                                                                                                                                                                                                                                                                                                                                                                                                                                                                                                                                                                                                                                                                                                                                                                                                                                                                                                                                                                                                                                                                                                                                                                                                                                                                                                                                                                                                                                                                                                                                                                                                                                                                                                                                                                    Over acted, heavy handed, full of speeches, preachy, on the nose, and over stylized in a way only MTV could be guilty of, Stop-Loss is agit-prop garbage. I expected a lot more with talented young actors such as Joseph Gordon-Levitt and Ryan Philippe, but Screenwriter/Director Kimberly Peirce does a hatchet job of portraying the ill effects of war on American youth. I'm sure she did some work researching the Iraq war and the young men fighting in it, but you'd never guess it from watching Stop-Loss. In many ways this mess reminded me of Catherine Hardwicke's Lords of Dogtown, an equally inept, overly stylized, TV movie-like waste of solid subject matter.http://eattheblinds.blogspot.com/  \n",
       "3227                                                                                                                                                                                                                                                                                                                                                                                                                                                                                                                                                                                                                                                                                                                                                                                                                                                                                                                                                                                                                                                                                                                                                                                                                                                                                                                                                                                                                                                                                                                                                                                                                                                                                                                                                                                                                                                                                                                                                                                                                                                                                                                                                                                                                                                                                                                                                                                                                                                                                                                                                                                                                                                                                                                                                                                                                                                                                                                                                                                                                                                                                                                                                                                               The mere fact that I still think of the movie a decade later is what really speaks volumes about the film. To me this substantiates Grand Canyon as a film that will touch you in one way or another. I truly believe that before the movie Crash there was Grand Canyon. The major difference between the two films in my opinion is the timing of their release. I'm not going to argue which one is better, but I will contend to the idea that they share the same message. I'd love to hear from those that have an opinion on this subject. I will start a commentary which you can find at http://www.myspace.com/62229249. You may also find me there to post any other topics about movies that we may share, because i have a true love for film.  \n",
       "3253                                                                                                                                                                                                                                                                                                                                                                                                                                                                                                                                                                                                                                                                                                                                                                                                                                                                                                                                                                                                                                                                                                                                                                                                                                                                                                                                                                                                                                                                                                                                                                                                                                                                                                                                                                                                                                                                                                                                                                                                                                                                                                                                                                                                                                                                                                                                                                                                                                                                                                                                                                                                                                                                                                                                                                                                                                                                                                                                                                                                                                                                                                                                                                                                                                  I, too, found \"Oppenheimer\" to be a brilliant series and one of the finest offerings ever on American PBS. David Suchet was particularly effective as Edward Teller, as I recall, and the overall conception was spectacularly good. The only reason that the series doesn't rate a full 10/10 is for the low-budget production values in some areas. Actual content is absolutely first-rate in my recollection.The Oppenheimer miniseries will be released in the UK on July 31st! It will be a Region 2/PAL set, but it would seem that a Region 1/NTSC set should be soon in the offing.If you have a universal player in the US, you can order the series right now from Amazon UK.http://tinyurl.com/znyyqHuzzah!!  \n",
       "3332                                                                                                                                                                                                                                                                                                                                                                                                                                       NB: Spoilers within. This great movie is \"about\" so many things, all of them successfully: sci-fi time travel, unstable psychologies, dystopian society, the what-is-real syndrome, gradual undermining of belief systems, worldwide bioterrorism, and a nascent love story.The ramifications of the story's twisted time line stir up loads of heated debate - witness the discussions within this site; or, as an extreme, check out the dissertation at www.mjyoung.net/time/monkeys.html. Whew! Such temporal emphasis speaks mostly to the brilliant plot, coming from the magnificent work of writers David and Janet Peoples, not to mention the inspiration of Chris Marker's \"La Jetee.\" Without a doubt, this is one of the most successful, fascinating time-travel movies ever conceived. But there are many other levels speaking here.The movie's real genius is to focus on the nasty side effects of time-travel in the mind of James Cole (Bruce Willis, doing the best work of his career here). His journey progresses from gung-ho vaccine-hunting warrior to gradually unhinged victim  and back again. The other broad sweep of the story increasingly emphasizes the personal tale between James and Dr. Kathryn Railly (the wonderful Madeleine Stowe). I love the simultaneous shifting/opposing viewpoints of these two characters. For me it all comes to a head in the fleabag hotel room scene. By this point, James  once gripped by an unshakable determination  now slumps in utter doubt about his own reality; while Dr. Railly  the cool and rational scientist  has finally become wildly convinced, after absorbing James's proofs, of his horrific predictions. Her desperation to get through to James and hang on to the mission shows how far she's come.Gilliam makes us care about these characters, especially through the crescendo of tension threading their lives. The balance held between emotional roller-coaster and mounting sci-fi puzzle/thriller is exquisite. And the denouement at the airport is heart-poundingly intense because we see it coming so clearly through James's dreams. It is here, just after James has decided to quit the whole mess  and is fighting his insanity more than ever  that he steps back up to the plate and does what is necessary for mankind. See Jose and the gun\n",
       " (Just before this, the references to Hitchcock's \"Vertigo\" and identity switching/confusion are brilliant.) This is a movie to be hashed out between thinking people; it not only holds up under repeated viewings, it demands them. \"Twelve Monkeys\" is intelligent, provocative, bizarre, funny, and suspenseful stuff.The supporting cast is excellent, especially Brad Pitt stealing all of his scenes and showing great flexibility as Jeffery Goines, crazed and spoiled, but ever the survivor. And there is David Morse as Dr. Peters (interesting how the movie simply leaves to the viewer his wicked motivation) and Christopher Plummer as Dr. Goines. But the biggest accolades belong to Terry Gilliam, surpassing here - just barely - his outstanding \"Brazil.\" (Lots of parallels, of course, especially the lonely combatant trying to escape his crumbling surroundings: lunacy within, lunacy without.) Every frame of this movie has his unique stamp and tone. The soundtrack is terrific, too.This is one of the great achievements of the 90s, a true favorite of mine, and sure to hold up for a long time to come.  \n",
       "4174                                                                                                                                                                                                                                                                                                                                                                                                                                                                                                                                                                                                                                                                                                                                                                                                                                                                                                                                                                                                                                                                                                                                                                                                                                                                                                                                                                                                                                                                                                                                                                                                                                                                                                                                                                                                                                                                                                                                                                                                                                                                                                                                                                                                                                                                                                            This movie is honestly one of the greatest movies of all time...if you suffer from insomnia. It is a fool-proof way to guarantee hours of sleep at a time. As the movie slowly progresses, the audience slips into a state of unconsciousness and gradually loses sight of any sort of plot that the movie might actually contain. This effect is surely created due to the lack of sweet action/sweet babes.Also, Mr. Eisenstein was obviously unable to master the art of montage. A prime example of this is the scene on the Odessa steps. For no apparent reason, an event that in real life would have taken a matter of seconds is transformed into a seven minute nightmare for any sane viewer. This editing flaw tarnishes any sort of realism in the entire film. Honestly, i've seen more realistic editing watching cartoons.Some individuals who have commented on this title have hailed Battleship Potemkin as: \"One of the greatest movies of all time\" and, \"Truly a masterpiece\". Well i'm writing this comment to persuade readers to avoid watching this film at all costs. My best guess is that my fellow Potemkin critics simply wrote the wrong words in their summaries. Surely what they meant to say was: \"One of the greatest snooze-fests of all time\" and, \"Truly an epic fail\".In conclusion, don't waste your time. If you are interested in watching a movie of far superior quality, go to www.youtube.com and watch a Halo 3 montage. If i played the movie \"Battleship Potemkin\" in a game of slayer on guardian, i would shoot it in the face with my sniper rifle and then teabag its dead body. PEACE!  \n",
       "4237                                                                                                                                                                                                                                                                                                                                                                                                                                                                                                                                                                                                                                                                                                                                                                                                                                                                                                                                                                                                                                                                                                                                                                                                                                                                                                                                                                                                                                                                                                                                                                                                                                                                                                                                                                                                                                                                                                                                                                                                                                                                                                                                                                                                                                                                                                                                                                                                                                                                                                                                                                                                                                                                                                                                                                                                                                                                                                                                                                                                                                                                                                                                                                                                                                                       quote by Nicolas Martin (nicmart) from Houston, TX: \"Fine film, but DVD \"reformatted for TV\", 8 April 2002 - This is a charming and emotive film. On the other hand, the DVD I purchased has been \"reformatted to fit your TV\" by the clods at Columbia Tristar. There is no excuse for not providing the film in widescreen format, except that Hollywood treats all films like the moronic, disposable trash that it is so used to producing. What a shame.\"What a (criminal!) shame indeed. However, there is another version out though. See here for details http://www.dvdbeaver.com/film/DVDCompare2/kingofmasks.htmWonderful performances by the two main actors (The King and Doggie) BTW.  \n",
       "4459                                                                                                                                                                                                                                                                                                                                                                                                                                                                                                                                                                                                                                                                                                                                                                                                                                                                                                                                                                                                                                                                                                                                                                                                                                                                                                                                                                                                                                                                                                                                                                                                                                                                                                                                                                    Alone in the Dark is Uwe Boll's kick in the nuts to Hollywood after House of the Dead's punch in the face.If anything it proves just how much of a master manipulator Boll is. After forcing Artisan out of business over the flop that was House of the Dead, one can only assume the normally credible Lion's Gate Films only released AITD under contractual obligation after acquiring Artisan's assets. Because AITD is an even bigger example of complete lack of coherent film-making ability, plot exposition and just plain stealing poorly from other movies because it was supposed to look cool instead of because it fitted within the movie's framework.But then that's the point, isn't it. Boll isn't trying to make a coherent film because he isn't trying to direct Alone in the Dark. He's just trying to manipulate Hollywood.Alone in the Dark, like House of the Dead, Dungeon Siege, Far Cry, Bloodrayne and the other 3 or 4 projects that are \"announced\" or in \"pre-production\".These aren't movies to be directed, but investment portfolios. Every single one of them rushed into production under the pretence that the tax law Boll and his investors are exploiting may be closed within the next 2 to 3 years. The more bomb projects he can release within that time-frame, the more money he and his investors can gain. Why bother making a good movie when a bad movie's making you a mint anyway? The result is movies like the awfulness of Alone in the Dark.Alone in the Dark, like all his other movies are just a cynical exploitation of Hollywood's current trend for lazy film-making.And to those who support Boll by calling him misunderstood or the next Ed Wood, congratulations, by making a cult figure out of the man, you're just making it easier for him to get investors but giving him notoriety.For more information, read here: http://www.cinemablend.com/feature.php?id=209 http://www.cinemablend.com/forum/showthread.php?s=&threadid=21699 As an aside, just don't ask me how he's getting his cast-lists together. Unless the actors are in on the investment-scam somehow, that mystery has still to be uncovered.  \n",
       "4473                                                                                                                                                                                                                                                                                                                                                                                                                                                                                                                                                                                                                                                                                                                                                                                                                                                                                                                                                                                                                                                                                                                                                                                                                                                                                                                                                                                                                                                                                                                                                                                                                                                                                                                                                                                                                                                                                                                                                                                                                                                                                                                                                                                                                                                                                                                                                                                                                                                                                                                                                                                                                                                                                                                                                                                                                                                                                                 This movie contains the worst acting performance of all time. Spilsbury lacks energy to say the least. Energy is what Clayton Moore gave us in spades. I never felt once in this movie that Spilsbury was anxious for anything. Revenge, love, justice? Not in this guy's portrayal.There is also no chemistry between Tonto and LR. If the plot did not force them to be friends, you don't get the impression they want to hang out with each other. Plus, the sidekick has the more interesting personality. Ewww.The dialogue is predictable and boring.The narration is stunningly bad and if you are familiar with the Dukes of Hazzard you can picture what this is like. I cannot believe the director would agree to this. It insulted me as a viewer by explaining every plot line I just witnessed.Hey, at least the horses and locations looked good, maybe that is what happens when you hire a cinematographer to be your director.RATING-2 You may be able to watch this one for laughs or to demonstrate to an alien what a bad movie is.  \n",
       "4484                                                                                                                                                                                                                                                                                                                                                                                                                                                                                                                                                                                                                                                                                                                                                                                                                                                                                                                                                                                                                                                                                                                                                                                                                                                                                                                                                                                                                                                                                                                                                                                                                                                                                                                                                                                                                                                                                                                                                                                                                                                                                                                                                                                                                                                                                                                                                                                                                                                                                                                                                                                               Years ago a movie going friend and I went to see a horror film that we thought would be good because it starred John Cassavetes. For the uninitiated, John Cassavettes was an actor, screen writer and director (married to actress Gena Rowlands), nominated for Oscars three times, who wrote and directed a variety of good low-budget films using his income as an actor to keep himself afloat. Up until seeing The Incubus, we did not understand that John Cassavetes income was made from any movie that was offered to him. Had we known what the film was about before seeing it we may have avoided altogether. But we did not walk out. At the time, my friend and I jokingly indicated it was the worst movie ever made. Now frankly, this is not true. I have seen many poorly made films on Friday nights on Cinemax (did I just say that out loud?) that are far worse than The Incubus. Almost any movie starring Brian Bosworth is by definition a worse movie than The Incubus. Certainly Santa Claus Conquers the Martians is a worse movie than The Incubus. However, I have since consistently used The Incubus as a threshold below which I do not want to fall. When talking to this friend about a movie I may have seen I will always remark that it was better (or worse) than The Incubus.http://thevillagevideot.blogspot.com/  \n",
       "4681                                                                                                                                                                                                                                                                                                                                                                                                                                                                                                                                                                                                                                                                                                                                                                                                                                                                                                                                                                                                                                                                                                                                                                                                                                                                                                                                                                                                                                                                                                                                                                                                                                                                                                                                                                                                                                                                                                                                                                                                                                                                                                                                                                                                                                                                                                                                                                                                                                                                                                                                                                                                                                                                                                                                                                                                                                                                Being a huge fan of Conte d'ete ( http://www.imdb.com/title/tt0115940/ ) I was expecting to be wowed by another French beach romance with a lot of honesty, realism, and humor. Same director, same actress- what could go wrong? Unfortunately, Pauline a la plange is a huge disappointment. It's very slow and talkative which would be fine if the dialog conveyed insights into the characters, was meaningful, or original. But it comes across as a typical soap opera alternating between irrelevant pillow talk and jealous accusations. The only thing that saves this movie from being a complete disaster is a small amount of character development or at least \"character change\" with regards to Pauline. The source material is standard fare (sexual awakening during a beach vacation) but it could have been a decent film nevertheless if any of the characters were sufficiently interesting. Unfortunately that's not the case. Event though there are other shortcomings with Rohmer's season cycle, most of his later films are definitely leagues above this one.  "
      ]
     },
     "execution_count": 11,
     "metadata": {},
     "output_type": "execute_result"
    }
   ],
   "source": [
    "pattern2 = r'(http\\S+|www\\.\\S+)'\n",
    "urls_df = df[df['text'].apply(lambda x: bool(re.search(pattern2, str(x))))]\n",
    "urls_df"
   ]
  },
  {
   "cell_type": "code",
   "execution_count": 12,
   "id": "930f409e",
   "metadata": {
    "scrolled": true
   },
   "outputs": [
    {
     "data": {
      "text/plain": [
       "review    Airwolf The Movie, A variation on the original 2 part pilot, Yet the movie although shorter, does contain extra footage Unseen in the 2 hour pilot The pilot is much more of a pilot than the movie Where as a pilot movie is normally the same (2 parter combined) But the movie is actually a different edit with extras here and cuts there.<br /><br />Worth a look, even if you have the season 1 DVD set, I'd still pick up a copy of the \"movie\" It's still in some shops like virgin, Woolworths and the likes of mixed media stores, although it generally needs ordering, But it saves needing to buy online (as many of us still don't do or trust online shopping) but if you look around airwolfs in stores<br /><br />Airwolf was truly 1 of the 80's most under rated shows.<br /><br />A full size Airwolf is currently being re-built for a Helicopter Museum :) Info and work in progress pictures are over at http://Airwolf.org Also with Airwolf Mods for Flashpoint and Flight Sim Games It seams she's finally here to stay :)\n",
       "text                                                           Airwolf The Movie, A variation on the original 2 part pilot, Yet the movie although shorter, does contain extra footage Unseen in the 2 hour pilot The pilot is much more of a pilot than the movie Where as a pilot movie is normally the same (2 parter combined) But the movie is actually a different edit with extras here and cuts there.Worth a look, even if you have the season 1 DVD set, I'd still pick up a copy of the \"movie\" It's still in some shops like virgin, Woolworths and the likes of mixed media stores, although it generally needs ordering, But it saves needing to buy online (as many of us still don't do or trust online shopping) but if you look around airwolfs in storesAirwolf was truly 1 of the 80's most under rated shows.A full size Airwolf is currently being re-built for a Helicopter Museum :) Info and work in progress pictures are over at . Also with Airwolf Mods for Flashpoint and Flight Sim Games It seams she's finally here to stay :)\n",
       "Name: 2060, dtype: object"
      ]
     },
     "execution_count": 12,
     "metadata": {},
     "output_type": "execute_result"
    }
   ],
   "source": [
    "def remove_urls(text):\n",
    "    return re.sub(r'(http\\S+|www\\.\\S+)','.', text)\n",
    "\n",
    "df['text'] = df['text'].apply(remove_urls)\n",
    "df.iloc[2060][['review', 'text']]\n"
   ]
  },
  {
   "cell_type": "markdown",
   "id": "946cb85e",
   "metadata": {},
   "source": [
    "Una vez eliminadas las etiquetas html, las urls y los emails se procede a revisar si existen reviews duplicadas y vamos a tratar lals contracciones."
   ]
  },
  {
   "cell_type": "code",
   "execution_count": 13,
   "id": "b6d077a7",
   "metadata": {},
   "outputs": [
    {
     "name": "stdout",
     "output_type": "stream",
     "text": [
      "Número total de reseñas duplicadas: 7\n"
     ]
    }
   ],
   "source": [
    "duplicated_reviews = df['review'].duplicated(keep='first')\n",
    "print(f\"Número total de reseñas duplicadas: {duplicated_reviews.sum()}\")\n"
   ]
  },
  {
   "cell_type": "markdown",
   "id": "793d35e3",
   "metadata": {},
   "source": [
    "Se observa que en el dataset encontramos 7 filas duplicadas por tanto se procederá con su eliminación."
   ]
  },
  {
   "cell_type": "code",
   "execution_count": 14,
   "id": "e9c838c7",
   "metadata": {},
   "outputs": [
    {
     "name": "stdout",
     "output_type": "stream",
     "text": [
      "Tamaño del dataset (4993, 4)\n"
     ]
    }
   ],
   "source": [
    "df = df.drop_duplicates(keep='first')\n",
    "print('Tamaño del dataset', df.shape)\n"
   ]
  },
  {
   "cell_type": "markdown",
   "id": "d24cb2d5",
   "metadata": {},
   "source": [
    "Ahora vamos a explorar si existe texto con contracciones."
   ]
  },
  {
   "cell_type": "code",
   "execution_count": 15,
   "id": "b47679c9",
   "metadata": {},
   "outputs": [
    {
     "data": {
      "text/html": [
       "<div>\n",
       "<style scoped>\n",
       "    .dataframe tbody tr th:only-of-type {\n",
       "        vertical-align: middle;\n",
       "    }\n",
       "\n",
       "    .dataframe tbody tr th {\n",
       "        vertical-align: top;\n",
       "    }\n",
       "\n",
       "    .dataframe thead th {\n",
       "        text-align: right;\n",
       "    }\n",
       "</style>\n",
       "<table border=\"1\" class=\"dataframe\">\n",
       "  <thead>\n",
       "    <tr style=\"text-align: right;\">\n",
       "      <th></th>\n",
       "      <th>review</th>\n",
       "      <th>sentiment</th>\n",
       "      <th>length</th>\n",
       "      <th>text</th>\n",
       "    </tr>\n",
       "  </thead>\n",
       "  <tbody>\n",
       "    <tr>\n",
       "      <th>0</th>\n",
       "      <td>I really liked this Summerslam due to the look of the arena, the curtains and just the look overall was interesting to me for some reason. Anyways, this could have been one of the best Summerslam's ever if the WWF didn't have Lex Luger in the main event against Yokozuna, now for it's time it was ok to have a huge fat man vs a strong man but I'm glad times have changed. It was a terrible main event just like every match Luger is in is terrible. Other matches on the card were Razor Ramon vs Ted Dibiase, Steiner Brothers vs Heavenly Bodies, Shawn Michaels vs Curt Hening, this was the event where Shawn named his big monster of a body guard Diesel, IRS vs 1-2-3 Kid, Bret Hart first takes on Doink then takes on Jerry Lawler and stuff with the Harts and Lawler was always very interesting, then Ludvig Borga destroyed Marty Jannetty, Undertaker took on Giant Gonzalez in another terrible match, The Smoking Gunns and Tatanka took on Bam Bam Bigelow and the Headshrinkers, and Yokozuna defended the world title against Lex Luger this match was boring and it has a terrible ending. However it deserves 8/10</td>\n",
       "      <td>positive</td>\n",
       "      <td>201</td>\n",
       "      <td>I really liked this Summerslam due to the look of the arena, the curtains and just the look overall was interesting to me for some reason. Anyways, this could have been one of the best Summerslam's ever if the WWF didn't have Lex Luger in the main event against Yokozuna, now for it's time it was ok to have a huge fat man vs a strong man but I'm glad times have changed. It was a terrible main event just like every match Luger is in is terrible. Other matches on the card were Razor Ramon vs Ted Dibiase, Steiner Brothers vs Heavenly Bodies, Shawn Michaels vs Curt Hening, this was the event where Shawn named his big monster of a body guard Diesel, IRS vs 1-2-3 Kid, Bret Hart first takes on Doink then takes on Jerry Lawler and stuff with the Harts and Lawler was always very interesting, then Ludvig Borga destroyed Marty Jannetty, Undertaker took on Giant Gonzalez in another terrible match, The Smoking Gunns and Tatanka took on Bam Bam Bigelow and the Headshrinkers, and Yokozuna defended the world title against Lex Luger this match was boring and it has a terrible ending. However it deserves 8/10</td>\n",
       "    </tr>\n",
       "  </tbody>\n",
       "</table>\n",
       "</div>"
      ],
      "text/plain": [
       "                                                                                                                                                                                                                                                                                                                                                                                                                                                                                                                                                                                                                                                                                                                                                                                                                                                                                                                                                                                                                                                                                                                                                review  \\\n",
       "0  I really liked this Summerslam due to the look of the arena, the curtains and just the look overall was interesting to me for some reason. Anyways, this could have been one of the best Summerslam's ever if the WWF didn't have Lex Luger in the main event against Yokozuna, now for it's time it was ok to have a huge fat man vs a strong man but I'm glad times have changed. It was a terrible main event just like every match Luger is in is terrible. Other matches on the card were Razor Ramon vs Ted Dibiase, Steiner Brothers vs Heavenly Bodies, Shawn Michaels vs Curt Hening, this was the event where Shawn named his big monster of a body guard Diesel, IRS vs 1-2-3 Kid, Bret Hart first takes on Doink then takes on Jerry Lawler and stuff with the Harts and Lawler was always very interesting, then Ludvig Borga destroyed Marty Jannetty, Undertaker took on Giant Gonzalez in another terrible match, The Smoking Gunns and Tatanka took on Bam Bam Bigelow and the Headshrinkers, and Yokozuna defended the world title against Lex Luger this match was boring and it has a terrible ending. However it deserves 8/10   \n",
       "\n",
       "  sentiment  length  \\\n",
       "0  positive     201   \n",
       "\n",
       "                                                                                                                                                                                                                                                                                                                                                                                                                                                                                                                                                                                                                                                                                                                                                                                                                                                                                                                                                                                                                                                                                                                                                  text  \n",
       "0  I really liked this Summerslam due to the look of the arena, the curtains and just the look overall was interesting to me for some reason. Anyways, this could have been one of the best Summerslam's ever if the WWF didn't have Lex Luger in the main event against Yokozuna, now for it's time it was ok to have a huge fat man vs a strong man but I'm glad times have changed. It was a terrible main event just like every match Luger is in is terrible. Other matches on the card were Razor Ramon vs Ted Dibiase, Steiner Brothers vs Heavenly Bodies, Shawn Michaels vs Curt Hening, this was the event where Shawn named his big monster of a body guard Diesel, IRS vs 1-2-3 Kid, Bret Hart first takes on Doink then takes on Jerry Lawler and stuff with the Harts and Lawler was always very interesting, then Ludvig Borga destroyed Marty Jannetty, Undertaker took on Giant Gonzalez in another terrible match, The Smoking Gunns and Tatanka took on Bam Bam Bigelow and the Headshrinkers, and Yokozuna defended the world title against Lex Luger this match was boring and it has a terrible ending. However it deserves 8/10  "
      ]
     },
     "execution_count": 15,
     "metadata": {},
     "output_type": "execute_result"
    }
   ],
   "source": [
    "df[df['text'].str.contains(\"'\", case=False, na=False)].head(1)"
   ]
  },
  {
   "cell_type": "markdown",
   "id": "e7774fc5-f67b-4904-bfdd-b53f79ea42a2",
   "metadata": {},
   "source": [
    "En este caso, sí es necesario implementar un mecanismo de extensión de contracciones, una forma es usar el paquete contractions.\n"
   ]
  },
  {
   "cell_type": "code",
   "execution_count": 16,
   "id": "241f8938-5492-4160-b01f-92b89b73affb",
   "metadata": {},
   "outputs": [
    {
     "data": {
      "text/plain": [
       "review       I really liked this Summerslam due to the look of the arena, the curtains and just the look overall was interesting to me for some reason. Anyways, this could have been one of the best Summerslam's ever if the WWF didn't have Lex Luger in the main event against Yokozuna, now for it's time it was ok to have a huge fat man vs a strong man but I'm glad times have changed. It was a terrible main event just like every match Luger is in is terrible. Other matches on the card were Razor Ramon vs Ted Dibiase, Steiner Brothers vs Heavenly Bodies, Shawn Michaels vs Curt Hening, this was the event where Shawn named his big monster of a body guard Diesel, IRS vs 1-2-3 Kid, Bret Hart first takes on Doink then takes on Jerry Lawler and stuff with the Harts and Lawler was always very interesting, then Ludvig Borga destroyed Marty Jannetty, Undertaker took on Giant Gonzalez in another terrible match, The Smoking Gunns and Tatanka took on Bam Bam Bigelow and the Headshrinkers, and Yokozuna defended the world title against Lex Luger this match was boring and it has a terrible ending. However it deserves 8/10\n",
       "text      I really liked this Summerslam due to the look of the arena, the curtains and just the look overall was interesting to me for some reason. Anyways, this could have been one of the best Summerslam's ever if the WWF did not have Lex Luger in the main event against Yokozuna, now for it is time it was ok to have a huge fat man vs a strong man but I am glad times have changed. It was a terrible main event just like every match Luger is in is terrible. Other matches on the card were Razor Ramon vs Ted Dibiase, Steiner Brothers vs Heavenly Bodies, Shawn Michaels vs Curt Hening, this was the event where Shawn named his big monster of a body guard Diesel, IRS vs 1-2-3 Kid, Bret Hart first takes on Doink then takes on Jerry Lawler and stuff with the Harts and Lawler was always very interesting, then Ludvig Borga destroyed Marty Jannetty, Undertaker took on Giant Gonzalez in another terrible match, The Smoking Gunns and Tatanka took on Bam Bam Bigelow and the Headshrinkers, and Yokozuna defended the world title against Lex Luger this match was boring and it has a terrible ending. However it deserves 8/10\n",
       "Name: 0, dtype: object"
      ]
     },
     "execution_count": 16,
     "metadata": {},
     "output_type": "execute_result"
    }
   ],
   "source": [
    "import contractions\n",
    "\n",
    "df['text']=df['text'].apply(lambda x:contractions.fix(x))\n",
    "\n",
    "df.iloc[0][['review', 'text']]\n"
   ]
  },
  {
   "cell_type": "markdown",
   "id": "ab31b766",
   "metadata": {},
   "source": [
    "El siguiente paso será el de filtrar tokens no alfabéticos y signos de puntuación (no eliminaremos los puntos para así detectar finales de frase)."
   ]
  },
  {
   "cell_type": "code",
   "execution_count": 17,
   "id": "62dcfcd6",
   "metadata": {
    "scrolled": true
   },
   "outputs": [
    {
     "data": {
      "text/plain": [
       "review       I really liked this Summerslam due to the look of the arena, the curtains and just the look overall was interesting to me for some reason. Anyways, this could have been one of the best Summerslam's ever if the WWF didn't have Lex Luger in the main event against Yokozuna, now for it's time it was ok to have a huge fat man vs a strong man but I'm glad times have changed. It was a terrible main event just like every match Luger is in is terrible. Other matches on the card were Razor Ramon vs Ted Dibiase, Steiner Brothers vs Heavenly Bodies, Shawn Michaels vs Curt Hening, this was the event where Shawn named his big monster of a body guard Diesel, IRS vs 1-2-3 Kid, Bret Hart first takes on Doink then takes on Jerry Lawler and stuff with the Harts and Lawler was always very interesting, then Ludvig Borga destroyed Marty Jannetty, Undertaker took on Giant Gonzalez in another terrible match, The Smoking Gunns and Tatanka took on Bam Bam Bigelow and the Headshrinkers, and Yokozuna defended the world title against Lex Luger this match was boring and it has a terrible ending. However it deserves 8/10\n",
       "text      I really liked this Summerslam due to the look of the arena  the curtains and just the look overall was interesting to me for some reason. Anyways  this could have been one of the best Summerslam s ever if the WWF did not have Lex Luger in the main event against Yokozuna  now for it is time it was ok to have a huge fat man vs a strong man but I am glad times have changed. It was a terrible main event just like every match Luger is in is terrible. Other matches on the card were Razor Ramon vs Ted Dibiase  Steiner Brothers vs Heavenly Bodies  Shawn Michaels vs Curt Hening  this was the event where Shawn named his big monster of a body guard Diesel  IRS vs       Kid  Bret Hart first takes on Doink then takes on Jerry Lawler and stuff with the Harts and Lawler was always very interesting  then Ludvig Borga destroyed Marty Jannetty  Undertaker took on Giant Gonzalez in another terrible match  The Smoking Gunns and Tatanka took on Bam Bam Bigelow and the Headshrinkers  and Yokozuna defended the world title against Lex Luger this match was boring and it has a terrible ending. However it deserves     \n",
       "Name: 0, dtype: object"
      ]
     },
     "execution_count": 17,
     "metadata": {},
     "output_type": "execute_result"
    }
   ],
   "source": [
    "def remove_special_characters_keep_dot(text):\n",
    "    cleaned = re.sub(r'[^a-zA-Z\\s.]', ' ', str(text)) \n",
    "    cleaned = re.sub(r'(\\.\\s*){2,}', '.', cleaned)\n",
    "    return cleaned\n",
    "    \n",
    "df['text'] = df['text'].apply(remove_special_characters_keep_dot)\n",
    "df.iloc[0][['review', 'text']]\n"
   ]
  },
  {
   "cell_type": "markdown",
   "id": "339c91c3",
   "metadata": {},
   "source": [
    "Finalmente, se observa que hay espacios dobles así que se procede a eliminarlos."
   ]
  },
  {
   "cell_type": "markdown",
   "id": "bbe2121f",
   "metadata": {},
   "source": []
  },
  {
   "cell_type": "code",
   "execution_count": 18,
   "id": "5c8a6ce7",
   "metadata": {},
   "outputs": [
    {
     "data": {
      "text/plain": [
       "review    I really liked this Summerslam due to the look of the arena, the curtains and just the look overall was interesting to me for some reason. Anyways, this could have been one of the best Summerslam's ever if the WWF didn't have Lex Luger in the main event against Yokozuna, now for it's time it was ok to have a huge fat man vs a strong man but I'm glad times have changed. It was a terrible main event just like every match Luger is in is terrible. Other matches on the card were Razor Ramon vs Ted Dibiase, Steiner Brothers vs Heavenly Bodies, Shawn Michaels vs Curt Hening, this was the event where Shawn named his big monster of a body guard Diesel, IRS vs 1-2-3 Kid, Bret Hart first takes on Doink then takes on Jerry Lawler and stuff with the Harts and Lawler was always very interesting, then Ludvig Borga destroyed Marty Jannetty, Undertaker took on Giant Gonzalez in another terrible match, The Smoking Gunns and Tatanka took on Bam Bam Bigelow and the Headshrinkers, and Yokozuna defended the world title against Lex Luger this match was boring and it has a terrible ending. However it deserves 8/10\n",
       "text                          I really liked this Summerslam due to the look of the arena the curtains and just the look overall was interesting to me for some reason. Anyways this could have been one of the best Summerslam s ever if the WWF did not have Lex Luger in the main event against Yokozuna now for it is time it was ok to have a huge fat man vs a strong man but I am glad times have changed. It was a terrible main event just like every match Luger is in is terrible. Other matches on the card were Razor Ramon vs Ted Dibiase Steiner Brothers vs Heavenly Bodies Shawn Michaels vs Curt Hening this was the event where Shawn named his big monster of a body guard Diesel IRS vs Kid Bret Hart first takes on Doink then takes on Jerry Lawler and stuff with the Harts and Lawler was always very interesting then Ludvig Borga destroyed Marty Jannetty Undertaker took on Giant Gonzalez in another terrible match The Smoking Gunns and Tatanka took on Bam Bam Bigelow and the Headshrinkers and Yokozuna defended the world title against Lex Luger this match was boring and it has a terrible ending. However it deserves\n",
       "Name: 0, dtype: object"
      ]
     },
     "execution_count": 18,
     "metadata": {},
     "output_type": "execute_result"
    }
   ],
   "source": [
    "class ExtraSpacesReplacer(object):\n",
    "    \"\"\" Replaces extra spaces in a text.\n",
    "    >>> replacer = ExtraSpacesReplacer()\n",
    "    \"\"\"\n",
    "    def replace(self, text):\n",
    "        s = str(text)\n",
    "        s = re.sub(r'\\s{2,}', ' ', s)      # elimina espacios dobles o más\n",
    "        s = re.sub(r'\\s+\\.', '.', s)       # elimina espacios antes de punto\n",
    "        s = re.sub(r'\\.(?=[^\\s])', '. ', s)# Asegurar espacio después del punto si no lo hay\n",
    "\n",
    "        return s.strip()\n",
    "\n",
    "spaces_replacer = ExtraSpacesReplacer()\n",
    "\n",
    "df['text'] = df['text'].apply(spaces_replacer.replace)\n",
    "\n",
    "df.iloc[0][['review', 'text']]\n"
   ]
  },
  {
   "cell_type": "markdown",
   "id": "ba79988f",
   "metadata": {
    "id": "9dd14cd0"
   },
   "source": [
    "# 2. Obtención de datos\n",
    "\n",
    "En esta parte analizaremos el texto, *encontraremos el conjunto de términos multipalabra relevantes del dataset y analizaremos el objeto y aspectos de las opiniones* del texto utilizando el modelo Word2Wec. Para ello empezaremos calculando los **mejores bigramas y trigramas de las opiniones del dataset y evaluarlos** según distintas métricas (PMI y Likehood). Posteriormente, detectaremos los **n-gramas que cumplan un patrón sintáctico de un sintagma nominal** (e.g: adjetivo + nombre en singular/plural, nombre + nombre y nombre en singular/plural) y, terminaremos **detectando colocaciones** con un modelo de detección de frases, por ejemplo con el módulo Phraser de Gensim. Una vez analizados los terminos multiplalabra, **crearemos un modelo word2vec** con las opiniones lematizadas y lo utilizaremos para analizar los targets de las opiniones.\n"
   ]
  },
  {
   "cell_type": "code",
   "execution_count": 19,
   "id": "c8d66db0-6e3c-48bb-b58c-ac11b3c8d31c",
   "metadata": {
    "id": "c8d66db0-6e3c-48bb-b58c-ac11b3c8d31c"
   },
   "outputs": [
    {
     "name": "stderr",
     "output_type": "stream",
     "text": [
      "/Users/noelia/opt/anaconda3/lib/python3.9/site-packages/scipy/__init__.py:146: UserWarning: A NumPy version >=1.16.5 and <1.23.0 is required for this version of SciPy (detected version 1.26.4\n",
      "  warnings.warn(f\"A NumPy version >={np_minversion} and <{np_maxversion}\"\n",
      "[nltk_data] Downloading collection 'all'\n",
      "[nltk_data]    | \n",
      "[nltk_data]    | Downloading package abc to /Users/noelia/nltk_data...\n",
      "[nltk_data]    |   Package abc is already up-to-date!\n",
      "[nltk_data]    | Downloading package alpino to\n",
      "[nltk_data]    |     /Users/noelia/nltk_data...\n",
      "[nltk_data]    |   Package alpino is already up-to-date!\n",
      "[nltk_data]    | Downloading package averaged_perceptron_tagger to\n",
      "[nltk_data]    |     /Users/noelia/nltk_data...\n",
      "[nltk_data]    |   Package averaged_perceptron_tagger is already up-\n",
      "[nltk_data]    |       to-date!\n",
      "[nltk_data]    | Downloading package averaged_perceptron_tagger_eng to\n",
      "[nltk_data]    |     /Users/noelia/nltk_data...\n",
      "[nltk_data]    |   Package averaged_perceptron_tagger_eng is already\n",
      "[nltk_data]    |       up-to-date!\n",
      "[nltk_data]    | Downloading package averaged_perceptron_tagger_ru to\n",
      "[nltk_data]    |     /Users/noelia/nltk_data...\n",
      "[nltk_data]    |   Package averaged_perceptron_tagger_ru is already\n",
      "[nltk_data]    |       up-to-date!\n",
      "[nltk_data]    | Downloading package averaged_perceptron_tagger_rus to\n",
      "[nltk_data]    |     /Users/noelia/nltk_data...\n",
      "[nltk_data]    |   Package averaged_perceptron_tagger_rus is already\n",
      "[nltk_data]    |       up-to-date!\n",
      "[nltk_data]    | Downloading package basque_grammars to\n",
      "[nltk_data]    |     /Users/noelia/nltk_data...\n",
      "[nltk_data]    |   Package basque_grammars is already up-to-date!\n",
      "[nltk_data]    | Downloading package bcp47 to\n",
      "[nltk_data]    |     /Users/noelia/nltk_data...\n",
      "[nltk_data]    |   Package bcp47 is already up-to-date!\n",
      "[nltk_data]    | Downloading package biocreative_ppi to\n",
      "[nltk_data]    |     /Users/noelia/nltk_data...\n",
      "[nltk_data]    |   Package biocreative_ppi is already up-to-date!\n",
      "[nltk_data]    | Downloading package bllip_wsj_no_aux to\n",
      "[nltk_data]    |     /Users/noelia/nltk_data...\n",
      "[nltk_data]    |   Package bllip_wsj_no_aux is already up-to-date!\n",
      "[nltk_data]    | Downloading package book_grammars to\n",
      "[nltk_data]    |     /Users/noelia/nltk_data...\n",
      "[nltk_data]    |   Package book_grammars is already up-to-date!\n",
      "[nltk_data]    | Downloading package brown to\n",
      "[nltk_data]    |     /Users/noelia/nltk_data...\n",
      "[nltk_data]    |   Package brown is already up-to-date!\n",
      "[nltk_data]    | Downloading package brown_tei to\n",
      "[nltk_data]    |     /Users/noelia/nltk_data...\n",
      "[nltk_data]    |   Package brown_tei is already up-to-date!\n",
      "[nltk_data]    | Downloading package cess_cat to\n",
      "[nltk_data]    |     /Users/noelia/nltk_data...\n",
      "[nltk_data]    |   Package cess_cat is already up-to-date!\n",
      "[nltk_data]    | Downloading package cess_esp to\n",
      "[nltk_data]    |     /Users/noelia/nltk_data...\n",
      "[nltk_data]    |   Package cess_esp is already up-to-date!\n",
      "[nltk_data]    | Downloading package chat80 to\n",
      "[nltk_data]    |     /Users/noelia/nltk_data...\n",
      "[nltk_data]    |   Package chat80 is already up-to-date!\n",
      "[nltk_data]    | Downloading package city_database to\n",
      "[nltk_data]    |     /Users/noelia/nltk_data...\n",
      "[nltk_data]    |   Package city_database is already up-to-date!\n",
      "[nltk_data]    | Downloading package cmudict to\n",
      "[nltk_data]    |     /Users/noelia/nltk_data...\n",
      "[nltk_data]    |   Package cmudict is already up-to-date!\n",
      "[nltk_data]    | Downloading package comparative_sentences to\n",
      "[nltk_data]    |     /Users/noelia/nltk_data...\n",
      "[nltk_data]    |   Package comparative_sentences is already up-to-\n",
      "[nltk_data]    |       date!\n",
      "[nltk_data]    | Downloading package comtrans to\n",
      "[nltk_data]    |     /Users/noelia/nltk_data...\n",
      "[nltk_data]    |   Package comtrans is already up-to-date!\n",
      "[nltk_data]    | Downloading package conll2000 to\n",
      "[nltk_data]    |     /Users/noelia/nltk_data...\n",
      "[nltk_data]    |   Package conll2000 is already up-to-date!\n",
      "[nltk_data]    | Downloading package conll2002 to\n",
      "[nltk_data]    |     /Users/noelia/nltk_data...\n",
      "[nltk_data]    |   Package conll2002 is already up-to-date!\n",
      "[nltk_data]    | Downloading package conll2007 to\n",
      "[nltk_data]    |     /Users/noelia/nltk_data...\n",
      "[nltk_data]    |   Package conll2007 is already up-to-date!\n",
      "[nltk_data]    | Downloading package crubadan to\n",
      "[nltk_data]    |     /Users/noelia/nltk_data...\n",
      "[nltk_data]    |   Package crubadan is already up-to-date!\n",
      "[nltk_data]    | Downloading package dependency_treebank to\n",
      "[nltk_data]    |     /Users/noelia/nltk_data...\n",
      "[nltk_data]    |   Package dependency_treebank is already up-to-date!\n",
      "[nltk_data]    | Downloading package dolch to\n",
      "[nltk_data]    |     /Users/noelia/nltk_data...\n",
      "[nltk_data]    |   Package dolch is already up-to-date!\n",
      "[nltk_data]    | Downloading package english_wordnet to\n",
      "[nltk_data]    |     /Users/noelia/nltk_data...\n",
      "[nltk_data]    |   Package english_wordnet is already up-to-date!\n",
      "[nltk_data]    | Downloading package europarl_raw to\n",
      "[nltk_data]    |     /Users/noelia/nltk_data...\n",
      "[nltk_data]    |   Package europarl_raw is already up-to-date!\n",
      "[nltk_data]    | Downloading package extended_omw to\n",
      "[nltk_data]    |     /Users/noelia/nltk_data...\n",
      "[nltk_data]    |   Package extended_omw is already up-to-date!\n",
      "[nltk_data]    | Downloading package floresta to\n",
      "[nltk_data]    |     /Users/noelia/nltk_data...\n",
      "[nltk_data]    |   Package floresta is already up-to-date!\n",
      "[nltk_data]    | Downloading package framenet_v15 to\n",
      "[nltk_data]    |     /Users/noelia/nltk_data...\n",
      "[nltk_data]    |   Package framenet_v15 is already up-to-date!\n",
      "[nltk_data]    | Downloading package framenet_v17 to\n",
      "[nltk_data]    |     /Users/noelia/nltk_data...\n",
      "[nltk_data]    |   Package framenet_v17 is already up-to-date!\n",
      "[nltk_data]    | Downloading package gazetteers to\n",
      "[nltk_data]    |     /Users/noelia/nltk_data...\n",
      "[nltk_data]    |   Package gazetteers is already up-to-date!\n",
      "[nltk_data]    | Downloading package genesis to\n",
      "[nltk_data]    |     /Users/noelia/nltk_data...\n",
      "[nltk_data]    |   Package genesis is already up-to-date!\n",
      "[nltk_data]    | Downloading package gutenberg to\n",
      "[nltk_data]    |     /Users/noelia/nltk_data...\n",
      "[nltk_data]    |   Package gutenberg is already up-to-date!\n",
      "[nltk_data]    | Downloading package ieer to\n",
      "[nltk_data]    |     /Users/noelia/nltk_data...\n",
      "[nltk_data]    |   Package ieer is already up-to-date!\n",
      "[nltk_data]    | Downloading package inaugural to\n",
      "[nltk_data]    |     /Users/noelia/nltk_data...\n",
      "[nltk_data]    |   Package inaugural is already up-to-date!\n",
      "[nltk_data]    | Downloading package indian to\n",
      "[nltk_data]    |     /Users/noelia/nltk_data...\n",
      "[nltk_data]    |   Package indian is already up-to-date!\n",
      "[nltk_data]    | Downloading package jeita to\n",
      "[nltk_data]    |     /Users/noelia/nltk_data...\n",
      "[nltk_data]    |   Package jeita is already up-to-date!\n",
      "[nltk_data]    | Downloading package kimmo to\n",
      "[nltk_data]    |     /Users/noelia/nltk_data...\n",
      "[nltk_data]    |   Package kimmo is already up-to-date!\n",
      "[nltk_data]    | Downloading package knbc to\n",
      "[nltk_data]    |     /Users/noelia/nltk_data...\n",
      "[nltk_data]    |   Package knbc is already up-to-date!\n",
      "[nltk_data]    | Downloading package large_grammars to\n",
      "[nltk_data]    |     /Users/noelia/nltk_data...\n",
      "[nltk_data]    |   Package large_grammars is already up-to-date!\n",
      "[nltk_data]    | Downloading package lin_thesaurus to\n",
      "[nltk_data]    |     /Users/noelia/nltk_data...\n",
      "[nltk_data]    |   Package lin_thesaurus is already up-to-date!\n",
      "[nltk_data]    | Downloading package mac_morpho to\n",
      "[nltk_data]    |     /Users/noelia/nltk_data...\n",
      "[nltk_data]    |   Package mac_morpho is already up-to-date!\n",
      "[nltk_data]    | Downloading package machado to\n",
      "[nltk_data]    |     /Users/noelia/nltk_data...\n",
      "[nltk_data]    |   Package machado is already up-to-date!\n",
      "[nltk_data]    | Downloading package masc_tagged to\n",
      "[nltk_data]    |     /Users/noelia/nltk_data...\n",
      "[nltk_data]    |   Package masc_tagged is already up-to-date!\n",
      "[nltk_data]    | Downloading package maxent_ne_chunker to\n",
      "[nltk_data]    |     /Users/noelia/nltk_data...\n",
      "[nltk_data]    |   Package maxent_ne_chunker is already up-to-date!\n",
      "[nltk_data]    | Downloading package maxent_ne_chunker_tab to\n",
      "[nltk_data]    |     /Users/noelia/nltk_data...\n",
      "[nltk_data]    |   Package maxent_ne_chunker_tab is already up-to-\n",
      "[nltk_data]    |       date!\n",
      "[nltk_data]    | Downloading package maxent_treebank_pos_tagger to\n",
      "[nltk_data]    |     /Users/noelia/nltk_data...\n",
      "[nltk_data]    |   Package maxent_treebank_pos_tagger is already up-\n",
      "[nltk_data]    |       to-date!\n",
      "[nltk_data]    | Downloading package maxent_treebank_pos_tagger_tab to\n",
      "[nltk_data]    |     /Users/noelia/nltk_data...\n",
      "[nltk_data]    |   Package maxent_treebank_pos_tagger_tab is already\n",
      "[nltk_data]    |       up-to-date!\n",
      "[nltk_data]    | Downloading package moses_sample to\n",
      "[nltk_data]    |     /Users/noelia/nltk_data...\n",
      "[nltk_data]    |   Package moses_sample is already up-to-date!\n",
      "[nltk_data]    | Downloading package movie_reviews to\n",
      "[nltk_data]    |     /Users/noelia/nltk_data...\n",
      "[nltk_data]    |   Package movie_reviews is already up-to-date!\n",
      "[nltk_data]    | Downloading package mte_teip5 to\n",
      "[nltk_data]    |     /Users/noelia/nltk_data...\n"
     ]
    },
    {
     "name": "stderr",
     "output_type": "stream",
     "text": [
      "[nltk_data]    |   Package mte_teip5 is already up-to-date!\n",
      "[nltk_data]    | Downloading package mwa_ppdb to\n",
      "[nltk_data]    |     /Users/noelia/nltk_data...\n",
      "[nltk_data]    |   Package mwa_ppdb is already up-to-date!\n",
      "[nltk_data]    | Downloading package names to\n",
      "[nltk_data]    |     /Users/noelia/nltk_data...\n",
      "[nltk_data]    |   Package names is already up-to-date!\n",
      "[nltk_data]    | Downloading package nombank.1.0 to\n",
      "[nltk_data]    |     /Users/noelia/nltk_data...\n",
      "[nltk_data]    |   Package nombank.1.0 is already up-to-date!\n",
      "[nltk_data]    | Downloading package nonbreaking_prefixes to\n",
      "[nltk_data]    |     /Users/noelia/nltk_data...\n",
      "[nltk_data]    |   Package nonbreaking_prefixes is already up-to-date!\n",
      "[nltk_data]    | Downloading package nps_chat to\n",
      "[nltk_data]    |     /Users/noelia/nltk_data...\n",
      "[nltk_data]    |   Package nps_chat is already up-to-date!\n",
      "[nltk_data]    | Downloading package omw to /Users/noelia/nltk_data...\n",
      "[nltk_data]    |   Package omw is already up-to-date!\n",
      "[nltk_data]    | Downloading package omw-1.4 to\n",
      "[nltk_data]    |     /Users/noelia/nltk_data...\n",
      "[nltk_data]    |   Package omw-1.4 is already up-to-date!\n",
      "[nltk_data]    | Downloading package opinion_lexicon to\n",
      "[nltk_data]    |     /Users/noelia/nltk_data...\n",
      "[nltk_data]    |   Package opinion_lexicon is already up-to-date!\n",
      "[nltk_data]    | Downloading package panlex_swadesh to\n",
      "[nltk_data]    |     /Users/noelia/nltk_data...\n",
      "[nltk_data]    |   Package panlex_swadesh is already up-to-date!\n",
      "[nltk_data]    | Downloading package paradigms to\n",
      "[nltk_data]    |     /Users/noelia/nltk_data...\n",
      "[nltk_data]    |   Package paradigms is already up-to-date!\n",
      "[nltk_data]    | Downloading package pe08 to\n",
      "[nltk_data]    |     /Users/noelia/nltk_data...\n",
      "[nltk_data]    |   Package pe08 is already up-to-date!\n",
      "[nltk_data]    | Downloading package perluniprops to\n",
      "[nltk_data]    |     /Users/noelia/nltk_data...\n",
      "[nltk_data]    |   Package perluniprops is already up-to-date!\n",
      "[nltk_data]    | Downloading package pil to /Users/noelia/nltk_data...\n",
      "[nltk_data]    |   Package pil is already up-to-date!\n",
      "[nltk_data]    | Downloading package pl196x to\n",
      "[nltk_data]    |     /Users/noelia/nltk_data...\n",
      "[nltk_data]    |   Package pl196x is already up-to-date!\n",
      "[nltk_data]    | Downloading package porter_test to\n",
      "[nltk_data]    |     /Users/noelia/nltk_data...\n",
      "[nltk_data]    |   Package porter_test is already up-to-date!\n",
      "[nltk_data]    | Downloading package ppattach to\n",
      "[nltk_data]    |     /Users/noelia/nltk_data...\n",
      "[nltk_data]    |   Package ppattach is already up-to-date!\n",
      "[nltk_data]    | Downloading package problem_reports to\n",
      "[nltk_data]    |     /Users/noelia/nltk_data...\n",
      "[nltk_data]    |   Package problem_reports is already up-to-date!\n",
      "[nltk_data]    | Downloading package product_reviews_1 to\n",
      "[nltk_data]    |     /Users/noelia/nltk_data...\n",
      "[nltk_data]    |   Package product_reviews_1 is already up-to-date!\n",
      "[nltk_data]    | Downloading package product_reviews_2 to\n",
      "[nltk_data]    |     /Users/noelia/nltk_data...\n",
      "[nltk_data]    |   Package product_reviews_2 is already up-to-date!\n",
      "[nltk_data]    | Downloading package propbank to\n",
      "[nltk_data]    |     /Users/noelia/nltk_data...\n",
      "[nltk_data]    |   Package propbank is already up-to-date!\n",
      "[nltk_data]    | Downloading package pros_cons to\n",
      "[nltk_data]    |     /Users/noelia/nltk_data...\n",
      "[nltk_data]    |   Package pros_cons is already up-to-date!\n",
      "[nltk_data]    | Downloading package ptb to /Users/noelia/nltk_data...\n",
      "[nltk_data]    |   Package ptb is already up-to-date!\n",
      "[nltk_data]    | Downloading package punkt to\n",
      "[nltk_data]    |     /Users/noelia/nltk_data...\n",
      "[nltk_data]    |   Package punkt is already up-to-date!\n",
      "[nltk_data]    | Downloading package punkt_tab to\n",
      "[nltk_data]    |     /Users/noelia/nltk_data...\n",
      "[nltk_data]    |   Package punkt_tab is already up-to-date!\n",
      "[nltk_data]    | Downloading package qc to /Users/noelia/nltk_data...\n",
      "[nltk_data]    |   Package qc is already up-to-date!\n",
      "[nltk_data]    | Downloading package reuters to\n",
      "[nltk_data]    |     /Users/noelia/nltk_data...\n",
      "[nltk_data]    |   Package reuters is already up-to-date!\n",
      "[nltk_data]    | Downloading package rslp to\n",
      "[nltk_data]    |     /Users/noelia/nltk_data...\n",
      "[nltk_data]    |   Package rslp is already up-to-date!\n",
      "[nltk_data]    | Downloading package rte to /Users/noelia/nltk_data...\n",
      "[nltk_data]    |   Package rte is already up-to-date!\n",
      "[nltk_data]    | Downloading package sample_grammars to\n",
      "[nltk_data]    |     /Users/noelia/nltk_data...\n",
      "[nltk_data]    |   Package sample_grammars is already up-to-date!\n",
      "[nltk_data]    | Downloading package semcor to\n",
      "[nltk_data]    |     /Users/noelia/nltk_data...\n",
      "[nltk_data]    |   Package semcor is already up-to-date!\n",
      "[nltk_data]    | Downloading package senseval to\n",
      "[nltk_data]    |     /Users/noelia/nltk_data...\n",
      "[nltk_data]    |   Package senseval is already up-to-date!\n",
      "[nltk_data]    | Downloading package sentence_polarity to\n",
      "[nltk_data]    |     /Users/noelia/nltk_data...\n",
      "[nltk_data]    |   Package sentence_polarity is already up-to-date!\n",
      "[nltk_data]    | Downloading package sentiwordnet to\n",
      "[nltk_data]    |     /Users/noelia/nltk_data...\n",
      "[nltk_data]    |   Package sentiwordnet is already up-to-date!\n",
      "[nltk_data]    | Downloading package shakespeare to\n",
      "[nltk_data]    |     /Users/noelia/nltk_data...\n",
      "[nltk_data]    |   Package shakespeare is already up-to-date!\n",
      "[nltk_data]    | Downloading package sinica_treebank to\n",
      "[nltk_data]    |     /Users/noelia/nltk_data...\n",
      "[nltk_data]    |   Package sinica_treebank is already up-to-date!\n",
      "[nltk_data]    | Downloading package smultron to\n",
      "[nltk_data]    |     /Users/noelia/nltk_data...\n",
      "[nltk_data]    |   Package smultron is already up-to-date!\n",
      "[nltk_data]    | Downloading package snowball_data to\n",
      "[nltk_data]    |     /Users/noelia/nltk_data...\n",
      "[nltk_data]    |   Package snowball_data is already up-to-date!\n",
      "[nltk_data]    | Downloading package spanish_grammars to\n",
      "[nltk_data]    |     /Users/noelia/nltk_data...\n",
      "[nltk_data]    |   Package spanish_grammars is already up-to-date!\n",
      "[nltk_data]    | Downloading package state_union to\n",
      "[nltk_data]    |     /Users/noelia/nltk_data...\n",
      "[nltk_data]    |   Package state_union is already up-to-date!\n",
      "[nltk_data]    | Downloading package stopwords to\n",
      "[nltk_data]    |     /Users/noelia/nltk_data...\n",
      "[nltk_data]    |   Package stopwords is already up-to-date!\n",
      "[nltk_data]    | Downloading package subjectivity to\n",
      "[nltk_data]    |     /Users/noelia/nltk_data...\n",
      "[nltk_data]    |   Package subjectivity is already up-to-date!\n",
      "[nltk_data]    | Downloading package swadesh to\n",
      "[nltk_data]    |     /Users/noelia/nltk_data...\n",
      "[nltk_data]    |   Package swadesh is already up-to-date!\n",
      "[nltk_data]    | Downloading package switchboard to\n",
      "[nltk_data]    |     /Users/noelia/nltk_data...\n",
      "[nltk_data]    |   Package switchboard is already up-to-date!\n",
      "[nltk_data]    | Downloading package tagsets to\n",
      "[nltk_data]    |     /Users/noelia/nltk_data...\n",
      "[nltk_data]    |   Package tagsets is already up-to-date!\n",
      "[nltk_data]    | Downloading package tagsets_json to\n",
      "[nltk_data]    |     /Users/noelia/nltk_data...\n",
      "[nltk_data]    |   Package tagsets_json is already up-to-date!\n",
      "[nltk_data]    | Downloading package timit to\n",
      "[nltk_data]    |     /Users/noelia/nltk_data...\n",
      "[nltk_data]    |   Package timit is already up-to-date!\n",
      "[nltk_data]    | Downloading package toolbox to\n",
      "[nltk_data]    |     /Users/noelia/nltk_data...\n",
      "[nltk_data]    |   Package toolbox is already up-to-date!\n",
      "[nltk_data]    | Downloading package treebank to\n",
      "[nltk_data]    |     /Users/noelia/nltk_data...\n",
      "[nltk_data]    |   Package treebank is already up-to-date!\n",
      "[nltk_data]    | Downloading package twitter_samples to\n",
      "[nltk_data]    |     /Users/noelia/nltk_data...\n",
      "[nltk_data]    |   Package twitter_samples is already up-to-date!\n",
      "[nltk_data]    | Downloading package udhr to\n",
      "[nltk_data]    |     /Users/noelia/nltk_data...\n",
      "[nltk_data]    |   Package udhr is already up-to-date!\n",
      "[nltk_data]    | Downloading package udhr2 to\n",
      "[nltk_data]    |     /Users/noelia/nltk_data...\n",
      "[nltk_data]    |   Package udhr2 is already up-to-date!\n",
      "[nltk_data]    | Downloading package unicode_samples to\n",
      "[nltk_data]    |     /Users/noelia/nltk_data...\n",
      "[nltk_data]    |   Package unicode_samples is already up-to-date!\n",
      "[nltk_data]    | Downloading package universal_tagset to\n",
      "[nltk_data]    |     /Users/noelia/nltk_data...\n",
      "[nltk_data]    |   Package universal_tagset is already up-to-date!\n",
      "[nltk_data]    | Downloading package universal_treebanks_v20 to\n",
      "[nltk_data]    |     /Users/noelia/nltk_data...\n",
      "[nltk_data]    |   Package universal_treebanks_v20 is already up-to-\n",
      "[nltk_data]    |       date!\n",
      "[nltk_data]    | Downloading package vader_lexicon to\n",
      "[nltk_data]    |     /Users/noelia/nltk_data...\n",
      "[nltk_data]    |   Package vader_lexicon is already up-to-date!\n",
      "[nltk_data]    | Downloading package verbnet to\n",
      "[nltk_data]    |     /Users/noelia/nltk_data...\n",
      "[nltk_data]    |   Package verbnet is already up-to-date!\n",
      "[nltk_data]    | Downloading package verbnet3 to\n",
      "[nltk_data]    |     /Users/noelia/nltk_data...\n",
      "[nltk_data]    |   Package verbnet3 is already up-to-date!\n",
      "[nltk_data]    | Downloading package webtext to\n",
      "[nltk_data]    |     /Users/noelia/nltk_data...\n",
      "[nltk_data]    |   Package webtext is already up-to-date!\n",
      "[nltk_data]    | Downloading package wmt15_eval to\n",
      "[nltk_data]    |     /Users/noelia/nltk_data...\n",
      "[nltk_data]    |   Package wmt15_eval is already up-to-date!\n",
      "[nltk_data]    | Downloading package word2vec_sample to\n",
      "[nltk_data]    |     /Users/noelia/nltk_data...\n",
      "[nltk_data]    |   Package word2vec_sample is already up-to-date!\n",
      "[nltk_data]    | Downloading package wordnet to\n",
      "[nltk_data]    |     /Users/noelia/nltk_data...\n"
     ]
    },
    {
     "name": "stderr",
     "output_type": "stream",
     "text": [
      "[nltk_data]    |   Package wordnet is already up-to-date!\n",
      "[nltk_data]    | Downloading package wordnet2021 to\n",
      "[nltk_data]    |     /Users/noelia/nltk_data...\n",
      "[nltk_data]    |   Package wordnet2021 is already up-to-date!\n",
      "[nltk_data]    | Downloading package wordnet2022 to\n",
      "[nltk_data]    |     /Users/noelia/nltk_data...\n",
      "[nltk_data]    |   Package wordnet2022 is already up-to-date!\n",
      "[nltk_data]    | Downloading package wordnet31 to\n",
      "[nltk_data]    |     /Users/noelia/nltk_data...\n",
      "[nltk_data]    |   Package wordnet31 is already up-to-date!\n",
      "[nltk_data]    | Downloading package wordnet_ic to\n",
      "[nltk_data]    |     /Users/noelia/nltk_data...\n",
      "[nltk_data]    |   Package wordnet_ic is already up-to-date!\n",
      "[nltk_data]    | Downloading package words to\n",
      "[nltk_data]    |     /Users/noelia/nltk_data...\n",
      "[nltk_data]    |   Package words is already up-to-date!\n",
      "[nltk_data]    | Downloading package ycoe to\n",
      "[nltk_data]    |     /Users/noelia/nltk_data...\n",
      "[nltk_data]    |   Package ycoe is already up-to-date!\n",
      "[nltk_data]    | \n",
      "[nltk_data]  Done downloading collection all\n"
     ]
    }
   ],
   "source": [
    "# Para este apartado es necesario cargar las siguientes librerías:\n",
    "import nltk\n",
    "nltk.download('all')\n",
    "from nltk import pos_tag, word_tokenize\n",
    "from nltk.collocations import *"
   ]
  },
  {
   "cell_type": "code",
   "execution_count": 20,
   "id": "d804647e-a178-43d4-b097-a8a445672fc9",
   "metadata": {
    "colab": {
     "base_uri": "https://localhost:8080/"
    },
    "id": "d804647e-a178-43d4-b097-a8a445672fc9",
    "outputId": "6c2e0f09-351e-4b69-9a0e-623ee8e40519"
   },
   "outputs": [
    {
     "data": {
      "text/plain": [
       "['would',\n",
       " 'vs',\n",
       " 'anyways',\n",
       " 'a',\n",
       " 'about',\n",
       " 'above',\n",
       " 'after',\n",
       " 'again',\n",
       " 'against',\n",
       " 'ain',\n",
       " 'all',\n",
       " 'am',\n",
       " 'an',\n",
       " 'and',\n",
       " 'any']"
      ]
     },
     "execution_count": 20,
     "metadata": {},
     "output_type": "execute_result"
    }
   ],
   "source": [
    "#Importar la lista de stopwords en el idioma de los *reviews* de la libreria NLTK y agregamos algunas adicionales:\n",
    "stopwords =  [\"would\", \"vs\", \"anyways\"]\n",
    "stopwords = stopwords + nltk.corpus.stopwords.words('english')\n",
    "stopwords[:15] # extracto de stopwords."
   ]
  },
  {
   "cell_type": "markdown",
   "id": "cd45f9c3-8a17-4f60-9cde-84336516e1a5",
   "metadata": {
    "id": "cd45f9c3-8a17-4f60-9cde-84336516e1a5"
   },
   "source": [
    "### 2.1. Detección de colocaciones\n",
    "\n",
    "Las colocaciones son términos multipalabra, es decir, secuencias de palabras que, en conjunto, tienen un significado que difiere significativamente del significado de cada palabra individual (e.g. \"new york\")."
   ]
  },
  {
   "cell_type": "markdown",
   "id": "de41ffd0",
   "metadata": {
    "id": "de41ffd0"
   },
   "source": [
    "<div style=\"background-color: #EDF7FF; border-color: #7C9DBF; border-left: 5px solid #7C9DBF; padding: 1em;\">\n",
    "\n",
    "<strong>Ejercicio 2.1.1:</strong> Calcular los mejores bigramas y trigramas de las opiniones. De los mejores bigramas y trigramas, elige a los que no comienzan, ni terminan con una stopword.\n",
    "<br>\n",
    "<b>Salida esperada:</b> Imprimir los primeros 20 n-grams obtenidos con cada métrica.\n",
    "</div>\n",
    "<br>\n",
    "<b>Pasos a realizar</b>:\n",
    "\n",
    "-  Obtener los tokens del texto de las opiniones y etiquetarlos por su PoS\n",
    "-   Aplicar las métricas PMI y Likehood Ratio para calcular los mejores bigramas y los mejores trigramas a partir de los tokens etiquetad ylos que no comcenzan ni terennan con una stopword."
   ]
  },
  {
   "cell_type": "markdown",
   "id": "Jtmvp_5FB1xY",
   "metadata": {
    "id": "Jtmvp_5FB1xY"
   },
   "source": [
    "<div style=\"background-color: #F8F7FF; border-color: #7C9DBF; border-left: 5px solid #7C9DBF; padding: 0.5em;\">\n",
    "    \n",
    "<i>Primer paso</i>: Obtener los tokens del texto de las reseñas. Etiqueta estos tokens por su PoS.\n",
    "\n",
    "Utiliza los métodos *word_tokenize* para tokenizar el texto de las reseñas y  *pos_tag* para determinar la etiqueta de cada token.\n",
    "<br>\n",
    "<b>Salida esperada:</b> Imprime los diez primeros tokens, con su respectiva etiqueta:\n",
    "</div>\n",
    "<br>\n"
   ]
  },
  {
   "cell_type": "code",
   "execution_count": 21,
   "id": "d964fd1a-ad1d-4d2c-b6b1-108f2df72630",
   "metadata": {
    "id": "d964fd1a-ad1d-4d2c-b6b1-108f2df72630"
   },
   "outputs": [
    {
     "data": {
      "text/plain": [
       "'I really liked this Summerslam due to the look of the arena the curtains and just the look overall was interesting to me for some reason. Anyways this could have been one of the best Summerslam s ever if the WWF did not have Lex Luger in the main eve'"
      ]
     },
     "execution_count": 21,
     "metadata": {},
     "output_type": "execute_result"
    }
   ],
   "source": [
    "opinions = \" \".join(df['text'])\n",
    "opinions[:250]\n"
   ]
  },
  {
   "cell_type": "code",
   "execution_count": 22,
   "id": "2c27f9b8",
   "metadata": {
    "id": "2c27f9b8"
   },
   "outputs": [
    {
     "name": "stdout",
     "output_type": "stream",
     "text": [
      "[('i', 'NN'), ('really', 'RB'), ('liked', 'VBD'), ('this', 'DT'), ('summerslam', 'NN'), ('due', 'JJ'), ('to', 'TO'), ('the', 'DT'), ('look', 'NN'), ('of', 'IN')]\n",
      "[('I', 'PRP'), ('really', 'RB'), ('liked', 'VBD'), ('this', 'DT'), ('Summerslam', 'NNP'), ('due', 'JJ'), ('to', 'TO'), ('the', 'DT'), ('look', 'NN'), ('of', 'IN')]\n"
     ]
    }
   ],
   "source": [
    "alpha_tokens = [w.lower() for w in word_tokenize(opinions) if re.match(\"^[a-zA-Z]+.*\", w)]\n",
    "alpha_tokens_2 = [w for w in word_tokenize(opinions) if re.match(\"^[a-zA-Z]+.*\", w)]\n",
    "tagged_tokens = nltk.pos_tag(alpha_tokens)\n",
    "tagged_tokens_2 = nltk.pos_tag(alpha_tokens_2)\n",
    "\n",
    "print(tagged_tokens[:10])\n",
    "print(tagged_tokens_2[:10])\n",
    "interesting_tags = ['PRP', 'PRP$', 'WP', 'WP$']\n",
    "interesting_tags_list = [word.lower() for word, tag in tagged_tokens_2 if tag in interesting_tags]\n",
    "stopwords = stopwords + interesting_tags_list\n",
    "\n",
    "\n"
   ]
  },
  {
   "cell_type": "markdown",
   "id": "c7287ecb",
   "metadata": {
    "id": "c7287ecb"
   },
   "source": [
    "\n",
    "<div style=\"background-color: #F8F7FF; border-color: #7C9DBF; border-left: 5px solid #7C9DBF; padding: 0.5em;\">\n",
    "    \n",
    "<i>Segundo paso</i>: Calcular los 300 mejores bigramas y los 300 mejores trigramas a partir de los tokens etiquetados (e.g. [(we, PRP), ...]) del texto. Utiliza las métricas PMI y Likehood Ratio.\n",
    "<br>\n",
    "<b>Condición</b>: De la lista de mejores bigramas y trigramas, elige a los que no comienzan ni terminen con una stopword. Para el filtrado de stopwords considera:\n",
    "- La lista previamente cargada (desde el paquete NLTK), y\n",
    "- Las categorías POS que representan a palabras vacías como determinantes, preposiciones, entre otras.\n",
    "<br>\n",
    "<b>Salida esperada:</b> Imprime los primeros 20 n-grams obtenidos con cada métrica.\n",
    "</div>\n",
    "  "
   ]
  },
  {
   "cell_type": "markdown",
   "id": "de2fe029",
   "metadata": {
    "id": "de2fe029"
   },
   "source": [
    "Recordemos la clasificación de etiquetas PoS.\n",
    "\n",
    "<b>Etiquetas PoS</b>\n",
    "\n",
    "<ul>\n",
    "<li>DT: Determinante</li>\n",
    "<li>JJ: Adjetivo</li>\n",
    "<li>NN: Nombre en singular</li>\n",
    "<li>NNS: Nombre en plural</li>\n",
    "<li>VBD: Verbo en pasado</li>\n",
    "<li>VBG: Verbo en gerundio</li>\n",
    "<li>MD: Verbo modal</li>\n",
    "<li>IN: Preposición o conjunción subordinada</li>\n",
    "<li>PRP: Pronombre</li>\n",
    "<li>RB: Adverbio</li>\n",
    "<li>RP: Partícula</li>    \n",
    "<li>CC: Conjunción coordinada</li>\n",
    "<li>CD: Numeral</li>\n",
    "</ul>"
   ]
  },
  {
   "cell_type": "code",
   "execution_count": 23,
   "id": "43dfad33",
   "metadata": {
    "id": "43dfad33"
   },
   "outputs": [
    {
     "name": "stdout",
     "output_type": "stream",
     "text": [
      "NGRAMAS CANDIDATOS A SER COLOCACIONES (PMI):\n",
      "[('aaja', 'nachle'), ('abdul', 'sampled'), ('abi', 'feij'), ('abolished', 'concretely'), ('achala', 'sachdev'), ('acp', 'anbuselvan'), ('activists', 'academics'), ('administrative', 'drudge'), ('adolph', 'zukor'), ('adopting', 'lottie'), ('adriana', 'doria'), ('aeon', 'flux'), ('agua', 'dolee'), ('ajay', 'devgan'), ('alarik', 'jans'), ('albans', 'hemel'), ('aldo', 'tonti'), ('alessandra', 'torresani'), ('aline', 'macmahon'), ('americian', 'falangist')] \n",
      "\n",
      "\n",
      "Top 20 (PMI): ['aaja_nachle', 'abi_feij', 'abolished_concretely', 'achala_sachdev', 'acp_anbuselvan', 'activists_academics', 'administrative_drudge', 'adolph_zukor', 'adriana_doria', 'aeon_flux', 'agua_dolee', 'ajay_devgan', 'alarik_jans', 'albans_hemel', 'aldo_tonti', 'alessandra_torresani', 'aline_macmahon', 'americian_falangist', 'amores_perros', 'amuleto_secreto']\n",
      "NGRAMAS CANDIDATOS A SER COLOCACIONES (LIKELIHOOD):\n",
      "[('it', 'is'), ('this', 'movie'), ('of', 'the'), ('do', 'not'), ('i', 'am'), ('to', 'be'), ('this', 'film'), ('if', 'you'), ('in', 'the'), ('have', 'been'), ('the', 'the'), ('does', 'not'), ('did', 'not'), ('i', 'have'), ('there', 'is'), ('the', 'film'), ('is', 'a'), ('one', 'of'), ('it', 'was'), ('can', 'not')] \n",
      "\n",
      "\n",
      "Top 20 (Likelihood Ratio): ['special_effects', 'low_budget', 'sci_fi', 'ever_seen', 'new_york', 'year_old', 'high_school', 'years_ago', 'much_better', 'real_life', 'kung_fu', 'pretty_much', 'years_later', 'martial_arts', 'main_character', 'th_century', 'first_time', 'science_fiction', 'camera_work']\n"
     ]
    }
   ],
   "source": [
    "no_pos_in = ['DT', 'IN', 'PRP', 'CC', 'VBG', 'VBD', 'RP', 'TO']\n",
    "bigram_measures = nltk.collocations.BigramAssocMeasures()\n",
    "trigram_measures = nltk.collocations.TrigramAssocMeasures()\n",
    "\n",
    "def get_coll_candidates(alpha_tokens):\n",
    "    bigramcandidates = BigramCollocationFinder.from_words(alpha_tokens)\n",
    "    trigramcandidates = TrigramCollocationFinder.from_words(alpha_tokens)\n",
    "    return bigramcandidates , trigramcandidates\n",
    "\n",
    "def re_filter_candidates(bigram_coll_candidates, trigram_coll_candidates):\n",
    "    bigram_coll_candidates.apply_word_filter(lambda w: (re.match(r'\\W', w)))\n",
    "    trigram_coll_candidates.apply_word_filter(lambda w: (re.match(r'\\W', w)))\n",
    "    return bigram_coll_candidates, trigram_coll_candidates\n",
    "\n",
    "def get_n_best_candidates(bigram_candidates, trigram_candidates, n_best_collocations, measure='pmi'):\n",
    "    if measure == 'pmi':\n",
    "        nbest_bigram_candidates = bigram_candidates.nbest(bigram_measures.pmi, n_best_collocations)\n",
    "        nbest_trigram_candidates = trigram_candidates.nbest(trigram_measures.pmi, n_best_collocations)\n",
    "    elif measure == 'likelihood':\n",
    "        nbest_bigram_candidates = bigram_candidates.nbest(bigram_measures.likelihood_ratio, n_best_collocations)\n",
    "        nbest_trigram_candidates = trigram_candidates.nbest(trigram_measures.likelihood_ratio, n_best_collocations)\n",
    "    else:\n",
    "        raise ValueError(\"La métrica debe ser 'pmi' o 'likelihood'\")\n",
    "    return nbest_bigram_candidates, nbest_trigram_candidates\n",
    "\n",
    "def is_valid_collocation(candidate):\n",
    "    if candidate[0] in stopwords or candidate[-1] in stopwords:\n",
    "        return False\n",
    "    tagged = nltk.pos_tag(candidate)\n",
    "    if tagged[0][1] in no_pos_in or tagged[-1][1] in no_pos_in:\n",
    "        return False\n",
    "    return True\n",
    "\n",
    "def filter_collocation_candidates(candidates):\n",
    "    return [c for c in candidates if is_valid_collocation(c)]\n",
    "\n",
    "def get_collocations_from_tokens(alpha_tokens, n_best_collocations=300, measure='pmi'):\n",
    "    bigram_candidates, trigram_candidates = get_coll_candidates(alpha_tokens)\n",
    "    bigram_candidates, trigram_candidates = re_filter_candidates(bigram_candidates, trigram_candidates)\n",
    "    best_bigrams, best_trigrams = get_n_best_candidates(bigram_candidates, trigram_candidates, n_best_collocations, measure)\n",
    "    candidates = best_bigrams + best_trigrams\n",
    "    print(f\"NGRAMAS CANDIDATOS A SER COLOCACIONES ({measure.upper()}):\")\n",
    "    print(candidates[:20], '\\n')\n",
    "    filtered = filter_collocation_candidates(candidates)\n",
    "    return [\"_\".join(c) for c in filtered]\n",
    "\n",
    "collocations_pmi = get_collocations_from_tokens(alpha_tokens, 300, measure='pmi')\n",
    "print(\"\\nTop 20 (PMI):\", collocations_pmi[:20])\n",
    "\n",
    "collocations_lr = get_collocations_from_tokens(alpha_tokens, 300, measure='likelihood')\n",
    "print(\"\\nTop 20 (Likelihood Ratio):\", collocations_lr[:20])\n",
    "\n"
   ]
  },
  {
   "cell_type": "markdown",
   "id": "3883d1ca",
   "metadata": {
    "id": "3883d1ca"
   },
   "source": [
    "<div style=\"background-color: #EDF7FF; border-color: #7C9DBF; border-left: 5px solid #7C9DBF; padding: 0.5em;\">\n",
    "\n",
    "<strong>Ejercicio 2.1.2:</strong>  Detectar n-grams que cumplen el patrón sintáctico de un sintagma nominal (e.g: adjetivo + nombre en singular/plural, nombre + nombre y nombre en singular/plural). Las palabras componentes de cada n-gram, deben estar separadas por un guión \"_\".\n",
    "<br>\n",
    "<b>Salida esperada:</b> Lista de los 20 primeros n-grams que cumplan el patrón sintáctico especificado, por ejemplo, 'new_york' y 'spain'.\n",
    "\n",
    "</div>"
   ]
  },
  {
   "cell_type": "code",
   "execution_count": 24,
   "id": "50c96d2e",
   "metadata": {
    "id": "50c96d2e"
   },
   "outputs": [
    {
     "name": "stdout",
     "output_type": "stream",
     "text": [
      "Primeros 20 sintagmas nominales detectados:\n",
      "['summerslam', 'look', 'arena', 'curtains', 'look', 'reason', 'wwf', 'lex_luger', 'main_event', 'yokozuna', 'time', 'huge_fat', 'man', 'strong_man', 'glad_times', 'main_event', 'match_luger', 'card', 'dibiase_steiner', 'brothers']\n"
     ]
    }
   ],
   "source": [
    "def patterns_and_parser():\n",
    "    np_patterns = \"\"\"\n",
    "        NP: {<JJ><NN|NNS>}       # adjetivo + nombre\n",
    "            {<NN><NN>}           # nombre + nombre\n",
    "            {<NN>}               # nombre simple\n",
    "            {<NNS>}              # nombre plural simple\n",
    "    \"\"\"\n",
    "    np_parser = nltk.RegexpParser(np_patterns)\n",
    "    return np_patterns, np_parser\n",
    "\n",
    "def get_string_form(tuple_list):\n",
    "    words = [cti[0] for cti in tuple_list]\n",
    "    string_form = \"_\".join(words)\n",
    "    return string_form\n",
    "\n",
    "def get_np_terms(tagged_tokens, stopwords=None):\n",
    "    np_patterns, np_parser = patterns_and_parser()\n",
    "    np_tree = np_parser.parse(tagged_tokens)\n",
    "    np_leaves = [s.leaves() for s in np_tree.subtrees() if s.label() == 'NP']\n",
    "\n",
    "    np_terms = []\n",
    "    for leaf in np_leaves:\n",
    "        words = [w[0] for w in leaf]\n",
    "        if stopwords:\n",
    "            if any(word.lower() in stopwords for word in words):\n",
    "                continue\n",
    "        np_terms.append(\"_\".join(words))\n",
    "\n",
    "    return np_terms\n",
    "\n",
    "\n",
    "np_ngrams = get_np_terms(tagged_tokens, stopwords)\n",
    "print(\"Primeros 20 sintagmas nominales detectados:\")\n",
    "print(np_ngrams[:20])"
   ]
  },
  {
   "cell_type": "markdown",
   "id": "535c0a10",
   "metadata": {
    "id": "535c0a10"
   },
   "source": [
    "<div style=\"background-color: #EDF7FF; border-color: #7C9DBF; border-left: 5px solid #7C9DBF; padding: 1em;\">\n",
    "\n",
    "<strong>Ejercicio 2.1.3:</strong> Detectar colocaciones con un modelo de detección de frases, usar el módulo *Phraser* de *Gensim*. Entrenar el modelo con todas las opiniones.\n",
    "<br>\n",
    "</div>\n",
    "<br>\n",
    "<b>Pasos a realizar</b>:\n",
    "\n",
    "1. Crear la lista de sentences. Tomar como referencia el código comentado que consta en la siguiente celda.\n",
    "2. Convertir las reseñas  en una lista de phrases. Las phrases no deben ser stopwords. Tampoco deben empezar ni acabar con una stopword.\n",
    "3. Entrenar el modelo con todas las opiniones.\n"
   ]
  },
  {
   "cell_type": "code",
   "execution_count": 25,
   "id": "9964125a-792f-409b-ac9c-fdb846aad084",
   "metadata": {
    "id": "9964125a-792f-409b-ac9c-fdb846aad084",
    "scrolled": true
   },
   "outputs": [
    {
     "data": {
      "text/plain": [
       "['I really liked this Summerslam due to the look of the arena the curtains and just the look overall was interesting to me for some reason',\n",
       " 'Anyways this could have been one of the best Summerslam s ever if the WWF did not have Lex Luger in the main event against Yokozuna now for it is time it was ok to have a huge fat man vs a strong man but I am glad times have changed',\n",
       " 'It was a terrible main event just like every match Luger is in is terrible',\n",
       " 'Other matches on the card were Razor Ramon vs Ted Dibiase Steiner Brothers vs Heavenly Bodies Shawn Michaels vs Curt Hening this was the event where Shawn named his big monster of a body guard Diesel IRS vs Kid Bret Hart first takes on Doink then takes on Jerry Lawler and stuff with the Harts and Lawler was always very interesting then Ludvig Borga destroyed Marty Jannetty Undertaker took on Giant Gonzalez in another terrible match The Smoking Gunns and Tatanka took on Bam Bam Bigelow and the Headshrinkers and Yokozuna defended the world title against Lex Luger this match was boring and it has a terrible ending',\n",
       " 'However it deserves Not many television shows appeal to quite as many different kinds of fans like Farscape does',\n",
       " 'I know youngsters and years old fans both Male and Female in as many different countries as you can think of that just adore this T',\n",
       " 'V miniseries',\n",
       " 'It has elements that can be found in almost every other show on T',\n",
       " 'V character driven drama that could be from an Australian soap opera yet in the same episode it has science fact fiction that would give even the hardiest Trekkie a run for his money in the brainbender stakes Wormhole theory Time Travel in true equational form',\n",
       " 'Magnificent']"
      ]
     },
     "execution_count": 25,
     "metadata": {},
     "output_type": "execute_result"
    }
   ],
   "source": [
    "#Crear la lista de sentences. Las siguientes líneas pueden ser tomadas como referencia\n",
    "#Actualizar el nombre del dataframe y de la columna del texto pre-procesado.#\n",
    "opinions_string = \" \".join(df['text'])\n",
    "\n",
    "opinion_sentences = opinions_string.split('. ')\n",
    "\n",
    "opinion_sentences[:10]\n"
   ]
  },
  {
   "cell_type": "markdown",
   "id": "d9a766d9-8390-4766-83d4-1cbcb7cbd816",
   "metadata": {
    "id": "d9a766d9-8390-4766-83d4-1cbcb7cbd816"
   },
   "source": [
    "<div style=\"background-color: #F8F7FF; border-color: #7C9DBF; border-left: 5px solid #7C9DBF; padding: 0.5em;\">\n",
    "\n",
    "<i>Segundo paso</i>: Convierte las reseñas en una lista de *phrases*. Las phrases no deben ser stopwords. Tampoco deben empezar, ni terminar con una stopword. Utiliza la lista de stopwords para el filtrado.\n",
    "<br>\n",
    "<b> Salida esperada:</b> Lista de las 20 primeras *phrases* que no sean, o no contengan stopwords.\n",
    "\n",
    "</div>"
   ]
  },
  {
   "cell_type": "code",
   "execution_count": 26,
   "id": "97f2bd0b",
   "metadata": {
    "id": "97f2bd0b"
   },
   "outputs": [
    {
     "name": "stdout",
     "output_type": "stream",
     "text": [
      "Lista de las 20 primeras phrases que no sean, o no contengan stopwords:\n",
      "['really_liked', 'main_event', 'main_event', 'years_old', 'almost_every', 'character_driven', 'time_travel', 'star_trek', 'every_episode', 'subject_matter', 'many_ways', 'chase_scene', 'steven_seagal', 'steven_seagal', 'jane_austen', 'gwyneth_paltrow', 'british_accent', 'jeremy_northam', 'emma_thompson', 'highly_recommended']\n"
     ]
    }
   ],
   "source": [
    "from gensim.models.phrases import Phraser\n",
    "from gensim.models import Phrases\n",
    "\n",
    "\n",
    "sentences = [word_tokenize(sentence.lower()) for sentence in opinion_sentences]\n",
    "\n",
    "phrases = Phrases(sentences)\n",
    "Phraser_model = Phraser(phrases)\n",
    "phrased_sentences = Phraser_model[sentences]\n",
    "\n",
    "phrases_flat = [phrase for sentence in phrased_sentences for phrase in sentence if '_' in phrase]\n",
    "\n",
    "def is_valid_phrase(phrase):\n",
    "    parts = phrase.split('_')\n",
    "    return all(word not in stopwords for word in parts) and parts[0] not in stopwords and parts[-1] not in stopwords\n",
    "\n",
    "filtered_phrases = [phrase for phrase in phrases_flat if is_valid_phrase(phrase)]\n",
    "\n",
    "print(\"Lista de las 20 primeras phrases que no sean, o no contengan stopwords:\")\n",
    "print(filtered_phrases[:20])"
   ]
  },
  {
   "cell_type": "markdown",
   "id": "d4e13a71",
   "metadata": {
    "id": "d4e13a71"
   },
   "source": [
    "## 2.2 Vectorización de palabras y términos con Word2Vec\n",
    "\n",
    "Antes de desarrollar los ejercicios, es necesario importar gensim y quitar espacios del texto."
   ]
  },
  {
   "cell_type": "code",
   "execution_count": 27,
   "id": "4OGwpBv8fOtp",
   "metadata": {
    "id": "4OGwpBv8fOtp"
   },
   "outputs": [
    {
     "data": {
      "text/plain": [
       "['really_liked',\n",
       " 'main_event',\n",
       " 'main_event',\n",
       " 'years_old',\n",
       " 'almost_every',\n",
       " 'character_driven',\n",
       " 'time_travel',\n",
       " 'star_trek',\n",
       " 'every_episode',\n",
       " 'subject_matter']"
      ]
     },
     "execution_count": 27,
     "metadata": {},
     "output_type": "execute_result"
    }
   ],
   "source": [
    "\n",
    "import gensim\n",
    "\n",
    "#Antes de continuar se sugiere quitar espacios del texto: considerar el siguiente código comentado.\n",
    "#Considerar que, opinion_phrases_no_stopwords es el objeto generado en el segundo paso del Ejercicio 2.1.3.\n",
    "\n",
    "opinion_phrases_stripped_no_stopwords = [c.strip() for c in filtered_phrases]\n",
    "opinion_phrases_stripped_no_stopwords[:10]"
   ]
  },
  {
   "cell_type": "markdown",
   "id": "20aaa498",
   "metadata": {
    "id": "20aaa498"
   },
   "source": [
    "\n",
    "\n",
    "<div style=\"background-color: #EDF7FF; border-color: #7C9DBF; border-left: 5px solid #7C9DBF; padding: 0.5em;\">\n",
    "\n",
    "<strong>Ejercicio 2.2.1:</strong>  Obtener targets de las opiniones y sus aspectos utilizando el modelo Word2vec.\n",
    "<br>\n",
    "<b>Salida esperada:</b> Lista de los primeros 15 términos que tengan mayor relación semántica con el término/aspecto seleccionado.\n",
    "</div>\n",
    "<br>\n",
    "\n",
    "Pasos a realizar:\n",
    "1. Convertir las phrases de cada oración en un token.\n",
    "2. Crear una sentence stream donde todos los tokens de las oraciones estén lematizados. Los tokens no pueden ser stopwords ni tener un stopword al inicio o al final.\n",
    "3. Crear un modelo word2vec de las opiniones lematizadas. El modelo debe llamarse w2v_opinions.\n",
    "4. A partir del vocabulario del modelo word2vec, seleccionar posibles aspectos representativos de la opiniones."
   ]
  },
  {
   "cell_type": "markdown",
   "id": "a9d68931",
   "metadata": {
    "id": "a9d68931"
   },
   "source": [
    "<b><i>Primer paso</i></b>: Convertir las phrases de cada oración en un token. Para completar este paso:\n",
    "\n",
    "- Concatenar los tokens de la phrase con el caracter '_' (e.g: 'new york' -> 'new_york').\n",
    "- En cada oración sustituir los bigramas que son phrases por la forma tokenizada (e.g: This is a one of the best apps acording to a bunch of people and -> This is a one of the best_apps acording to a bunch of people and).\n",
    "- Al realizar los pasos anteriores, las colocaciones formarán parte del vocabulario del modelo word2vec que generaremos.\n",
    "\n",
    "<i>Importante:</i> El siguiente código puede ser tomado como referencia para completar este primer paso. Considerar que:\n",
    "\n",
    "- *opinion_phrases_stripped_no_stopwords* es el objeto creado al iniciar este apartado (2.2).\n",
    "- *opinion_sentences* es la lista de sentences creada en el primer paso del Ejercicio 2.1.3."
   ]
  },
  {
   "cell_type": "code",
   "execution_count": 28,
   "id": "dee08237",
   "metadata": {
    "id": "dee08237"
   },
   "outputs": [
    {
     "data": {
      "text/plain": [
       "'I really_liked this Summerslam due to the look of the arena the curtains and just the look overall was interesting to me for some reason'"
      ]
     },
     "execution_count": 28,
     "metadata": {},
     "output_type": "execute_result"
    }
   ],
   "source": [
    "from nltk.util import ngrams\n",
    "\n",
    "collocation_phrases = list(set(opinion_phrases_stripped_no_stopwords))\n",
    "collocation_phrases_as_text = [p.replace('_', ' ') for p in collocation_phrases]\n",
    "\n",
    "def transform_sentence(sentence):\n",
    "    transformed_sentence = sentence\n",
    "    n_grams = list(ngrams(nltk.word_tokenize(sentence.lower()), 2))  \n",
    "    ngrams_t = [' '.join(gram) for gram in n_grams]\n",
    "    \n",
    "    for ngram in ngrams_t:\n",
    "        if ngram in collocation_phrases_as_text:\n",
    "            opt = ngram.replace(' ', '_')\n",
    "            transformed_sentence = transformed_sentence.replace(ngram, opt)\n",
    "    return transformed_sentence\n",
    "\n",
    "opinion_sentences_transformed = [transform_sentence(os) for os in opinion_sentences]\n",
    "opinion_sentences_transformed[0]"
   ]
  },
  {
   "cell_type": "markdown",
   "id": "b53930c4",
   "metadata": {
    "id": "b53930c4"
   },
   "source": [
    "<div style=\"background-color: #F8F7FF; border-color: #7C9DBF; border-left: 5px solid #7C9DBF; padding: 0.5em;\">\n",
    "\n",
    "<i>Segundo paso</i>: Crear una sentence stream donde todos los tokens de las oraciones estén lematizados. Los tokens no pueden ser stopwords ni tener un stopword al inicio o al final. Para simplificar la tarea, podemos considerar que el lema de una colocación no cambia y su PoS es 'col'. (e.g: ['We run a top of the line system utilizing Windows 10 Pro']  -> [run', 'top', 'line', 'system', 'utilize', 'window_pro]).\n",
    "<br>\n",
    "<b> Salida esperada:</b> Lista de los 10 primeros tokens lematizados (que no sean, ni contengan stopwords).\n",
    "\n",
    "</div>"
   ]
  },
  {
   "cell_type": "code",
   "execution_count": 29,
   "id": "9cfcef92",
   "metadata": {
    "id": "9cfcef92"
   },
   "outputs": [
    {
     "name": "stdout",
     "output_type": "stream",
     "text": [
      "Tokens lematizados:\n",
      "['really_liked', 'summerslam', 'due', 'look', 'arena', 'curtain', 'look', 'overall', 'interest', 'reason']\n"
     ]
    }
   ],
   "source": [
    "\n",
    "from nltk.corpus import wordnet\n",
    "from nltk.stem.wordnet import WordNetLemmatizer\n",
    "\n",
    "def get_wordnet_pos(treebank_tag):\n",
    "    if treebank_tag.startswith('J'):\n",
    "        return wordnet.ADJ\n",
    "    elif treebank_tag.startswith('V'):\n",
    "        return wordnet.VERB\n",
    "    elif treebank_tag.startswith('N'):\n",
    "        return wordnet.NOUN\n",
    "    elif treebank_tag.startswith('R'):\n",
    "        return wordnet.ADV\n",
    "    else:\n",
    "        return wordnet.NOUN\n",
    "\n",
    "lemmatizer = WordNetLemmatizer()\n",
    "\n",
    "def lemmatize_sentence(opinion_sentences_transformed):\n",
    "    tokens = word_tokenize(opinion_sentences_transformed.lower())\n",
    "    tagged_tokens = pos_tag(tokens)\n",
    "\n",
    "    result = []\n",
    "    for token, tag in tagged_tokens:\n",
    "        if '_' in token:\n",
    "            parts = token.split('_')\n",
    "            if parts[0] not in stopwords and parts[-1] not in stopwords:\n",
    "                result.append(token)\n",
    "        else:\n",
    "            if token not in stopwords and token.isalpha():\n",
    "                wn_tag = get_wordnet_pos(tag)\n",
    "                lemma = lemmatizer.lemmatize(token, wn_tag)\n",
    "                result.append(lemma)\n",
    "    return result\n",
    "\n",
    "sentence_stream = []\n",
    "for sentence in opinion_sentences_transformed:\n",
    "    sentence_stream.extend(lemmatize_sentence(sentence))\n",
    "\n",
    "print(\"Tokens lematizados:\")\n",
    "print(sentence_stream[:10])\n"
   ]
  },
  {
   "cell_type": "markdown",
   "id": "7b807880",
   "metadata": {
    "id": "7b807880"
   },
   "source": [
    "<div style=\"background-color: #F8F7FF; border-color: #7C9DBF; border-left: 5px solid #7C9DBF; padding: 0.5em;\">\n",
    "\n",
    "<i>Tercer paso</i>: Crear un modelo word2vec de las opiniones lematizadas. El modelo debe llamarse *w2v_opinions*.\n",
    "<br>\n",
    "<b> Salida esperada:</b> Presentar la cantidad de oraciones usadas en el modelo (usa el atributo *corpus_count*).\n",
    "</div>"
   ]
  },
  {
   "cell_type": "code",
   "execution_count": 30,
   "id": "b033b7ad",
   "metadata": {
    "id": "b033b7ad"
   },
   "outputs": [
    {
     "name": "stdout",
     "output_type": "stream",
     "text": [
      "Cantidad de oraciones utilizadas en el modelo Word2Vec:\n",
      "59044\n"
     ]
    }
   ],
   "source": [
    "from gensim.models import Word2Vec\n",
    "\n",
    "lemmatized_sentences = [lemmatize_sentence(sentence) for sentence in opinion_sentences_transformed]\n",
    "\n",
    "w2v_opinions = Word2Vec(\n",
    "    sentences=lemmatized_sentences,\n",
    "    vector_size=150,\n",
    "    window=10,\n",
    "    min_count=3,\n",
    "    workers=1\n",
    ")\n",
    "\n",
    "print(\"Cantidad de oraciones utilizadas en el modelo Word2Vec:\")\n",
    "print(w2v_opinions.corpus_count)"
   ]
  },
  {
   "cell_type": "markdown",
   "id": "00e07b3c",
   "metadata": {
    "id": "00e07b3c"
   },
   "source": [
    "<div style=\"background-color: #F8F7FF; border-color: #7C9DBF; border-left: 5px solid #7C9DBF; padding: 0.5em;\">\n",
    "\n",
    "<i>Cuarto paso</i>: A partir del vocabulario del modelo word2vec, seleccionar posibles aspectos de la reseña (e.g: en un dataset sobre aplicaciones de software, se puede destacar el aspecto *desktop*) y lista los términos semánticamente relacionados con estos aspectos según este modelo.\n",
    "<br>\n",
    "\n",
    "<b>Salida esperada:</b> Lista los primeros 20 términos que tengan mayor relación semántica con un término relevante del dominio.\n",
    "</div>"
   ]
  },
  {
   "cell_type": "code",
   "execution_count": 31,
   "id": "6e85e0fd",
   "metadata": {
    "scrolled": true
   },
   "outputs": [
    {
     "name": "stdout",
     "output_type": "stream",
     "text": [
      "\n",
      "Distancia respecto al término story\n",
      "\n",
      "                    Term  Distance\n",
      "0                   plot  0.937881\n",
      "1              character  0.906590\n",
      "2             believable  0.897956\n",
      "3            interesting  0.895588\n",
      "4                  twist  0.890650\n",
      "5             unlikeable  0.888821\n",
      "6                   lack  0.888139\n",
      "7                   seem  0.884989\n",
      "8            predictable  0.882049\n",
      "9   totally_unbelievable  0.880105\n",
      "10           incoherence  0.878938\n",
      "11                  weak  0.878573\n",
      "12                dialog  0.878463\n",
      "13              dialogue  0.878395\n",
      "14         ensemble_cast  0.876987\n",
      "15           development  0.876252\n",
      "16         unsympathetic  0.875585\n",
      "17                effect  0.875479\n",
      "18         body_language  0.874039\n",
      "19                writer  0.874026\n"
     ]
    }
   ],
   "source": [
    "\n",
    "term = 'story'\n",
    "terms_vocabulary = list(w2v_opinions.wv.index_to_key)\n",
    "\n",
    "w2v_tuples = []\n",
    "\n",
    "for i in range(len(terms_vocabulary)):\n",
    "    if terms_vocabulary[i] != term:\n",
    "        similarity = w2v_opinions.wv.similarity(term, terms_vocabulary[i])\n",
    "        if similarity > 0:\n",
    "            w2v_tuples.append((terms_vocabulary[i], similarity))\n",
    "\n",
    "w2v_sorted_tuples = sorted(w2v_tuples, key=lambda tup: tup[1], reverse=True)\n",
    "\n",
    "labels = ['Term', 'Distance']\n",
    "df4 = pd.DataFrame.from_records(w2v_sorted_tuples, columns=labels)\n",
    "\n",
    "print(\"\")\n",
    "print(\"Distancia respecto al término\", term)\n",
    "print(\"\")\n",
    "print(df4.head(20))  \n"
   ]
  },
  {
   "cell_type": "markdown",
   "id": "80090d4b",
   "metadata": {
    "id": "80090d4b"
   },
   "source": [
    "# 3. Detección de temas\n",
    "\n",
    "En esta parte nos dedicaremos a explorar los temas detectados utilizando WordNet y realizaremos la extracción de temas a partir de  LDA."
   ]
  },
  {
   "cell_type": "markdown",
   "id": "00bb679a",
   "metadata": {
    "id": "00bb679a"
   },
   "source": [
    "## 3.1 Exploración de los temas con WordNet\n",
    "\n",
    "Para acceder a Wordnet, utilizar la librería nltk."
   ]
  },
  {
   "cell_type": "code",
   "execution_count": 32,
   "id": "320fee0c",
   "metadata": {
    "id": "320fee0c"
   },
   "outputs": [],
   "source": [
    "from nltk.corpus import wordnet as wn"
   ]
  },
  {
   "cell_type": "markdown",
   "id": "7ccd9034",
   "metadata": {
    "id": "7ccd9034"
   },
   "source": [
    "<div style=\"background-color: #EDF7FF; border-color: #7C9DBF; border-left: 5px solid #7C9DBF; padding: 0.5em;\">\n",
    "\n",
    "<strong>Ejercicio 3.1.1:</strong> Comprobar si, según Wordnet, existen aspectos que están alejados semánticamente del sentido del target, aunque en el modelo word2vec sean similares. Comprobar calculando la similitud de Wu and Palmer entre el sentido de wordnet del término elegido, (i.e 'word.n.01') y algunos de sus aspectos.\n",
    "<br>\n",
    "<b> Salida esperada: </b>\n",
    "<br>\n",
    "- Lista de dos términos que según *Wordnet* no estén tan cercanos, y su respectivo score de similitud, y\n",
    "<br>\n",
    "- Lista de los mismos términos que según el modelo *word2vec* están más cercanos.\n",
    "\n",
    "</div>"
   ]
  },
  {
   "cell_type": "code",
   "execution_count": 45,
   "id": "30cfcb0f",
   "metadata": {
    "id": "30cfcb0f"
   },
   "outputs": [
    {
     "name": "stdout",
     "output_type": "stream",
     "text": [
      "\n",
      "Comparación entre Word2Vec y WordNet respecto a story\n",
      "               Term       WordNet_Synset  Distance  WuPalmer_Similarity\n",
      "0              plot            plot.n.01  0.937881             0.266667\n",
      "1         character       character.n.03  0.906590             0.400000\n",
      "2             twist           twist.n.09  0.890650             0.333333\n",
      "3              lack            lack.n.01  0.888139             0.333333\n",
      "4       incoherence     incoherence.n.01  0.878938             0.333333\n",
      "5          dialogue        dialogue.n.01  0.878395             0.461538\n",
      "6       development     development.n.01  0.876252             0.266667\n",
      "7            effect          effect.n.03  0.875479             0.307692\n",
      "8     body_language   body_language.n.01  0.874039             0.600000\n",
      "9            writer          writer.n.01  0.874026             0.181818\n",
      "10              arc             arc.n.02  0.872336             0.333333\n",
      "11             flex            flex.n.01  0.871299             0.250000\n",
      "12             real            real.n.02  0.870391             0.307692\n",
      "13          writing         writing.n.01  0.869279             0.266667\n",
      "14             line            line.n.01  0.869051             0.363636\n",
      "15             well            well.n.01  0.865950             0.166667\n",
      "16            sense           sense.n.01  0.864161             0.285714\n",
      "17        direction       direction.n.01  0.864020             0.166667\n",
      "18       atmosphere      atmosphere.n.01  0.863899             0.363636\n",
      "19  special_effects  special_effect.n.01  0.860821             0.285714\n"
     ]
    }
   ],
   "source": [
    "from nltk.stem import WordNetLemmatizer\n",
    "from numpy import matrix\n",
    "\n",
    "lem = WordNetLemmatizer()\n",
    "target_synsets = wn.synsets(term, pos=wn.NOUN)\n",
    "if not target_synsets:\n",
    "    raise ValueError(f\"No se encontraron synsets nominales para el término '{term}'\")\n",
    "target_synset = target_synsets[0]\n",
    "features_synsets_list = [target_synset]\n",
    "\n",
    "candidates_synsets_list = []\n",
    "valid_terms = []\n",
    "\n",
    "for npc in df4['Term']:\n",
    "    lemmatized_npc = lem.lemmatize(npc.replace(' ', '_'))\n",
    "    candidates_synsets = wn.synsets(lemmatized_npc, pos=wn.NOUN)\n",
    "    for cs in candidates_synsets:\n",
    "        if \"'\" + lemmatized_npc + \".n\" in str(cs):\n",
    "            candidates_synsets_list.append(cs)\n",
    "            valid_terms.append(npc)\n",
    "            break\n",
    "\n",
    "def create_vector(synset, synsets_vocabulary):\n",
    "    vector = [s.wup_similarity(synset) for s in synsets_vocabulary]\n",
    "    return vector\n",
    "\n",
    "vectors = [create_vector(v, features_synsets_list) for v in candidates_synsets_list]\n",
    "X = matrix(vectors)\n",
    "\n",
    "results = []\n",
    "for i in range(len(valid_terms)):\n",
    "    results.append((\n",
    "        valid_terms[i],\n",
    "        candidates_synsets_list[i].name(),\n",
    "        df4[df4['Term'] == valid_terms[i]]['Distance'].values[0],\n",
    "        vectors[i][0]\n",
    "    ))\n",
    "\n",
    "df_combined = pd.DataFrame(results, columns=[\"Term\", \"WordNet_Synset\", \"Distance\", \"WuPalmer_Similarity\"])\n",
    "df_combined = df_combined.sort_values(by=\"Distance\", ascending=False)\n",
    "\n",
    "print(\"\\nComparación entre Word2Vec y WordNet respecto a\", term)\n",
    "print(df_combined.head(20))"
   ]
  },
  {
   "cell_type": "markdown",
   "id": "3209e5cc",
   "metadata": {
    "id": "3209e5cc"
   },
   "source": [
    "<div style=\"background-color: #EDF7FF; border-color: #7C9DBF; border-left: 5px solid #7C9DBF; padding: 0.5em;\">\n",
    "\n",
    "<strong>Ejercicio 3.1.2:</strong> Identificar a los términos monopalabra del vocabulario de word2vec que no están en Wordnet. Filtrar a los términos que sean nombres o adjetivos.\n",
    "\n",
    "Del conjunto de términos identificados, mencionar a:\n",
    "- Abreviaturas o términos específicos del dominio o expresiones típicas de la jerga del dominio. Por ejemplo, en un dataset sobre restaurantes, podría identificarse términos como *yummy*.<br>\n",
    "\n",
    "<b>Salida esperada:</b>\n",
    "<br>\n",
    "- Cantidad de términos que no constan en *Wordnet*.\n",
    "- Lista de los 20 primeros terminos monopalabra que no constan en <i>Wordnet</i>.\n",
    "- Lista de al menos 3 términos de los enlistados que sean inherentes al vocabulario propio del dominio.\n",
    "</div>"
   ]
  },
  {
   "cell_type": "code",
   "execution_count": 46,
   "id": "70e8e4bd",
   "metadata": {
    "id": "70e8e4bd"
   },
   "outputs": [
    {
     "name": "stderr",
     "output_type": "stream",
     "text": [
      "[nltk_data] Downloading package words to /Users/noelia/nltk_data...\n",
      "[nltk_data]   Package words is already up-to-date!\n"
     ]
    },
    {
     "name": "stdout",
     "output_type": "stream",
     "text": [
      "Total de términos que NO están en WordNet: 2336\n",
      "\n",
      "Los 20 primeros términos monopalabra fuera de WordNet:\n",
      "['something', 'anyone', 'anything', 'everything', 'everyone', 'others', 'dr', 'imdb', 'richard', 'clich', 'william', 'towards', 'jane', 'charlie', 'tony', 'jim', 'chris', 'everybody', 'anybody', 'brian']\n",
      "\n",
      "Términos que parecen jerga o específicos del dominio:\n",
      "['visuals', 'multi', 'biker', 'ish', 'fianc', 'com', 'artsy', 'cartoonish', 'biopic', 'standup', 'ripoff', 'bla', 'esque', 'bio', 'joo', 'gimmicky', 'prequel', 'uber', 'nerdy', 'cutesy']\n"
     ]
    }
   ],
   "source": [
    "\n",
    "\n",
    "from nltk.corpus import words\n",
    "\n",
    "\n",
    "nltk.download('words')\n",
    "common_words = set(words.words())\n",
    "\n",
    "\n",
    "terms_vocabulary = list(w2v_opinions.wv.index_to_key)\n",
    "\n",
    "monoterms = [term for term in terms_vocabulary if re.match(\"^[a-zA-Z]+$\", term)]\n",
    "\n",
    "not_in_wordnet = [term for term in monoterms if not wn.synsets(term)]\n",
    "\n",
    "tagged = pos_tag(not_in_wordnet)\n",
    "\n",
    "valid_tags = ['NN', 'NNS', 'JJ', 'JJR', 'JJS']\n",
    "filtered_terms = [word for word, tag in tagged if tag in valid_tags]\n",
    "\n",
    "print(f\"Total de términos que NO están en WordNet: {len(filtered_terms)}\\n\")\n",
    "\n",
    "print(\"Los 20 primeros términos monopalabra fuera de WordNet:\")\n",
    "print(filtered_terms[:20])\n",
    "\n",
    "interesting_tags2 = ['PRP', 'PRP$', 'WP', 'WP$', 'NNP', 'NNPS']\n",
    "interesting_tags_list2 = [word.lower() for word, tag in tagged_tokens_2 if tag in interesting_tags2]\n",
    "filtered_words= stopwords + interesting_tags_list2\n",
    "\n",
    "print(\"\\nTérminos que parecen jerga o específicos del dominio:\")\n",
    "domain_like_terms = [word for word in filtered_terms if word.lower() not in common_words and word.lower() not in filtered_words]\n",
    "print(domain_like_terms[:20])"
   ]
  },
  {
   "cell_type": "markdown",
   "id": "f5f788a4",
   "metadata": {
    "id": "f5f788a4"
   },
   "source": [
    "## 3.2. LDA\n",
    "\n",
    "Este apartado tiene como objetivo comparar distintos modelos LDA y elegir el más adecuado de forma justificada.\n",
    "\n",
    "<b>Pasos a seguir:</b>\n",
    "\n",
    "1. Convertir las opiniones transformadas en listas de nombres y colocaciones.\n",
    "2. Extraer temas a partir de las listas de nombres y colocaciones de cada oración transformada. Elegir 3 de los mejores experimentos, según el parámetro *num_topics*, y presentar los resultados. Asigna nombres a los temas encontrados.\n",
    "3. Utilizar la librería pyLDAvis para visualizar los tópicos del mejor modelo que encontraste."
   ]
  },
  {
   "cell_type": "markdown",
   "id": "1c6825ff",
   "metadata": {
    "id": "1c6825ff"
   },
   "source": [
    "<i>Primer paso</i>: Convertir las opiniones transformadas (opinion_sentences_transformed) en listas de nombres y colocaciones. Esto es necesario ya que los nombres y las colocaciones expresan los temas de las opiniones (e.g: [['This is a one of the best_apps according to the people opinions'] -> ['one', 'best_apps', 'according', 'people', 'opinion'].\n",
    "\n",
    "<b>Importante:</b> El siguiente código puede ser tomado como referencia para implementar este primer paso:\n",
    "\n",
    "- opinion_sentences_transformed es el objeto creado en el primer paso del Ejercicio 2.2.1."
   ]
  },
  {
   "cell_type": "code",
   "execution_count": 47,
   "id": "76ad1379",
   "metadata": {
    "id": "76ad1379"
   },
   "outputs": [
    {
     "data": {
      "text/plain": [
       "[['really_liked', 'look', 'arena', 'curtain', 'look', 'reason'],\n",
       " ['anyways', 'summerslam', 'main_event', 'time', 'fat', 'man', 'man', 'time'],\n",
       " ['main_event', 'match'],\n",
       " ['match',\n",
       "  'card',\n",
       "  'event',\n",
       "  'monster',\n",
       "  'body',\n",
       "  'stuff',\n",
       "  'match',\n",
       "  'world',\n",
       "  'title',\n",
       "  'match'],\n",
       " ['television', 'show', 'kind', 'fan'],\n",
       " ['youngster', 'years_old', 'fan', 'country', 't'],\n",
       " ['miniseries'],\n",
       " ['element', 'almost_every', 'show'],\n",
       " ['character_driven',\n",
       "  'drama',\n",
       "  'soap',\n",
       "  'episode',\n",
       "  'fact',\n",
       "  'fiction',\n",
       "  'trekkie',\n",
       "  'run',\n",
       "  'money',\n",
       "  'brainbender',\n",
       "  'stake',\n",
       "  'theory',\n",
       "  'form'],\n",
       " ['magnificent'],\n",
       " ['culture', 'map', 'possibility', 'star', 'thousand', 'planet'],\n",
       " ['scope', 'nothing', 'illusion', 'element'],\n",
       " ['others',\n",
       "  'like',\n",
       "  'element',\n",
       "  'idea',\n",
       "  'course',\n",
       "  'season',\n",
       "  'audience',\n",
       "  'attention',\n",
       "  'continuity',\n",
       "  'character',\n",
       "  'evolution',\n",
       "  'thread',\n",
       "  'every_episode',\n",
       "  'touch',\n",
       "  'character',\n",
       "  'group',\n",
       "  'whole'],\n",
       " ['structure', 'area', 'subject_matter', 'loyalty', 'many_ways', 'issue'],\n",
       " ['pilot',\n",
       "  'tuning',\n",
       "  'girl',\n",
       "  'television',\n",
       "  'thing',\n",
       "  'whilst',\n",
       "  'hour',\n",
       "  'night',\n",
       "  'shift',\n",
       "  'insomnia']]"
      ]
     },
     "execution_count": 47,
     "metadata": {},
     "output_type": "execute_result"
    }
   ],
   "source": [
    "lem = WordNetLemmatizer()\n",
    "\n",
    "def get_noun_and_collocation(sentence):\n",
    "    nouns_and_collocations = []\n",
    "    noun_tags = ['NN', 'NNS']\n",
    "    tokens_pos_tagged = pos_tag(word_tokenize(sentence))\n",
    "    for tpos in tokens_pos_tagged:\n",
    "        lemma = lem.lemmatize(tpos[0]).lower()\n",
    "        if '_' in lemma:\n",
    "            nouns_and_collocations.append(lemma)\n",
    "        elif tpos[1] in noun_tags and tpos[0] not in stopwords:\n",
    "            nouns_and_collocations.append(lemma)\n",
    "    return nouns_and_collocations\n",
    "\n",
    "noun_and_collocation_stream = [get_noun_and_collocation(opinion) for opinion in opinion_sentences_transformed]\n",
    "\n",
    "noun_and_collocation_stream[:15]\n"
   ]
  },
  {
   "cell_type": "markdown",
   "id": "eef21d0c",
   "metadata": {
    "id": "eef21d0c"
   },
   "source": [
    "<div style=\"background-color: #EDF7FF; border-color: #7C9DBF; border-left: 5px solid #7C9DBF; padding: 0.5em;\">\n",
    "\n",
    "<strong>Ejercicio 3.2.1:</strong> Extraer temas a partir de las listas de nombres y colocaciones de cada oración transformada. Además, utiliza la librería pyLDAvis para visualizar los tópicos del mejor modelo que encontraste.\n",
    "\n",
    "<b>Salida esperada:</b>\n",
    "- De 3 de los mejores experimentos, y por cada uno, imprime las 10 palabras que más se destaquen de cada tópico.\n",
    "- Visualización del mejor experimento, usando pyLDAvis.\n",
    "\n",
    "</div>\n"
   ]
  },
  {
   "cell_type": "code",
   "execution_count": 58,
   "id": "3284e474",
   "metadata": {
    "id": "3284e474"
   },
   "outputs": [
    {
     "name": "stdout",
     "output_type": "stream",
     "text": [
      "['0.147*\"film\" ', ' 0.016*\"story\" ', ' 0.015*\"director\" ', ' 0.012*\"part\" ', ' 0.012*\"nothing\" ', ' 0.011*\"time\" ', ' 0.010*\"work\" ', ' 0.009*\"minute\" ', ' 0.008*\"way\" ', ' 0.006*\"fun\"']\n",
      "['0.022*\"scene\" ', ' 0.019*\"time\" ', ' 0.016*\"man\" ', ' 0.014*\"woman\" ', ' 0.013*\"fact\" ', ' 0.012*\"life\" ', ' 0.010*\"moment\" ', ' 0.010*\"friend\" ', ' 0.009*\"family\" ', ' 0.009*\"wife\"']\n",
      "['0.127*\"movie\" ', ' 0.029*\"people\" ', ' 0.026*\"thing\" ', ' 0.011*\"something\" ', ' 0.011*\"time\" ', ' 0.011*\"end\" ', ' 0.011*\"plot\" ', ' 0.009*\"reason\" ', ' 0.009*\"book\" ', ' 0.008*\"story\"']\n",
      "['0.043*\"movie\" ', ' 0.042*\"character\" ', ' 0.018*\"show\" ', ' 0.016*\"actor\" ', ' 0.015*\"role\" ', ' 0.014*\"performance\" ', ' 0.014*\"one\" ', ' 0.012*\"way\" ', ' 0.012*\"comedy\" ', ' 0.010*\"story\"']\n"
     ]
    },
    {
     "data": {
      "text/html": [
       "<table border=\"1\" class=\"dataframe\">\n",
       "  <thead>\n",
       "    <tr style=\"text-align: right;\">\n",
       "      <th></th>\n",
       "      <th>1</th>\n",
       "      <th>2</th>\n",
       "      <th>3</th>\n",
       "      <th>4</th>\n",
       "    </tr>\n",
       "  </thead>\n",
       "  <tbody>\n",
       "    <tr>\n",
       "      <th>0</th>\n",
       "      <td>film</td>\n",
       "      <td>scene</td>\n",
       "      <td>movie</td>\n",
       "      <td>movie</td>\n",
       "    </tr>\n",
       "    <tr>\n",
       "      <th>1</th>\n",
       "      <td>story</td>\n",
       "      <td>time</td>\n",
       "      <td>people</td>\n",
       "      <td>character</td>\n",
       "    </tr>\n",
       "    <tr>\n",
       "      <th>2</th>\n",
       "      <td>director</td>\n",
       "      <td>man</td>\n",
       "      <td>thing</td>\n",
       "      <td>show</td>\n",
       "    </tr>\n",
       "    <tr>\n",
       "      <th>3</th>\n",
       "      <td>part</td>\n",
       "      <td>woman</td>\n",
       "      <td>something</td>\n",
       "      <td>actor</td>\n",
       "    </tr>\n",
       "    <tr>\n",
       "      <th>4</th>\n",
       "      <td>nothing</td>\n",
       "      <td>fact</td>\n",
       "      <td>time</td>\n",
       "      <td>role</td>\n",
       "    </tr>\n",
       "    <tr>\n",
       "      <th>5</th>\n",
       "      <td>time</td>\n",
       "      <td>life</td>\n",
       "      <td>end</td>\n",
       "      <td>performance</td>\n",
       "    </tr>\n",
       "    <tr>\n",
       "      <th>6</th>\n",
       "      <td>work</td>\n",
       "      <td>moment</td>\n",
       "      <td>plot</td>\n",
       "      <td>one</td>\n",
       "    </tr>\n",
       "    <tr>\n",
       "      <th>7</th>\n",
       "      <td>minute</td>\n",
       "      <td>friend</td>\n",
       "      <td>reason</td>\n",
       "      <td>way</td>\n",
       "    </tr>\n",
       "    <tr>\n",
       "      <th>8</th>\n",
       "      <td>way</td>\n",
       "      <td>family</td>\n",
       "      <td>book</td>\n",
       "      <td>comedy</td>\n",
       "    </tr>\n",
       "    <tr>\n",
       "      <th>9</th>\n",
       "      <td>fun</td>\n",
       "      <td>wife</td>\n",
       "      <td>story</td>\n",
       "      <td>story</td>\n",
       "    </tr>\n",
       "  </tbody>\n",
       "</table>"
      ],
      "text/plain": [
       "<IPython.core.display.HTML object>"
      ]
     },
     "metadata": {},
     "output_type": "display_data"
    }
   ],
   "source": [
    "import gensim.corpora as corpora\n",
    "\n",
    "def lda(terms):\n",
    "    dictionary = corpora.Dictionary(terms)\n",
    "    texts = terms\n",
    "    # Frecuencia de los términos en cada documento. El formato está en forma de tupla,\n",
    "    #(índice del término en el diccionario/vocabulario, frecuencia). Por ejemplo, [(0, 2), (1, 1), (2, 1), (3, 1)])\n",
    "    corpus = [dictionary.doc2bow(text) for text in texts]\n",
    "    #Creación del modelo.\n",
    "    ldamodel4 = gensim.models.ldamodel.LdaModel(corpus, # Frecuencia de los términos en cada documento\n",
    "                                               num_topics=4, #Número de temas\n",
    "                                               random_state=1, #Valor de inicio predefinido para conservar coherencia\n",
    "                                               id2word = dictionary, #El vocabulario\n",
    "                                               passes=50) # Cuantos más pases, más consistente el modelo\n",
    "    return ldamodel4\n",
    "\n",
    "# Aplicar el modelo LDA a tu conjunto\n",
    "ldamodel4 = lda(noun_and_collocation_stream)\n",
    "\n",
    "K = ldamodel4.num_topics\n",
    "topicWordProbMat = ldamodel4.print_topics(num_topics=K, num_words=10)\n",
    "\n",
    "columns = ['1','2','3', '4']\n",
    "df = pd.DataFrame(columns = columns)\n",
    "pd.set_option('display.width', 2000)\n",
    "\n",
    "zz = np.zeros(shape=(1000,K))\n",
    "last_number = 0\n",
    "DC = {}\n",
    "\n",
    "for x in range(10):\n",
    "    data = pd.DataFrame({col: \"\" for col in columns}, index=[0])\n",
    "    df = pd.concat([df, data], ignore_index=True)\n",
    "\n",
    "\n",
    "for line in topicWordProbMat:\n",
    "    topic, word = line\n",
    "    probabilities = word.split(\"+\")\n",
    "    print(probabilities)\n",
    "    y = 0\n",
    "    for pr in probabilities:\n",
    "        a = pr.split(\"*\")\n",
    "        term = a[1].strip().strip('\"')  \n",
    "        df.iloc[y, topic] = term\n",
    "        if term in DC:\n",
    "            zz[DC[term]][topic] = float(a[0])\n",
    "        else:\n",
    "            zz[last_number][topic] = float(a[0])\n",
    "            DC[term] = last_number\n",
    "            last_number += 1\n",
    "        y += 1\n",
    "\n",
    "def natural_keys(text):\n",
    "    def atoi(text):\n",
    "        return int(text) if text.isdigit() else text\n",
    "    return [atoi(c) for c in re.split(r'(\\d+)', text)]\n",
    "\n",
    "df = df.reindex(columns=sorted(df.columns, key=natural_keys))\n",
    "\n",
    "display(HTML(df.to_html()))\n",
    "\n"
   ]
  },
  {
   "cell_type": "code",
   "execution_count": 60,
   "id": "70b1e864",
   "metadata": {},
   "outputs": [
    {
     "name": "stdout",
     "output_type": "stream",
     "text": [
      "['0.058*\"film\" ', ' 0.032*\"story\" ', ' 0.029*\"way\" ', ' 0.024*\"director\" ', ' 0.023*\"part\" ', ' 0.021*\"thing\" ', ' 0.019*\"nothing\" ', ' 0.017*\"life\" ', ' 0.012*\"character\" ', ' 0.011*\"minute\"']\n",
      "['0.027*\"fact\" ', ' 0.020*\"moment\" ', ' 0.019*\"family\" ', ' 0.018*\"wife\" ', ' 0.016*\"child\" ', ' 0.015*\"time\" ', ' 0.015*\"woman\" ', ' 0.014*\"war\" ', ' 0.012*\"mind\" ', ' 0.011*\"man\"']\n",
      "['0.254*\"movie\" ', ' 0.017*\"end\" ', ' 0.017*\"something\" ', ' 0.016*\"guy\" ', ' 0.013*\"action\" ', ' 0.013*\"book\" ', ' 0.012*\"version\" ', ' 0.012*\"thing\" ', ' 0.011*\"people\" ', ' 0.011*\"year\"']\n",
      "['0.035*\"show\" ', ' 0.030*\"character\" ', ' 0.026*\"one\" ', ' 0.022*\"point\" ', ' 0.022*\"comedy\" ', ' 0.018*\"cast\" ', ' 0.017*\"line\" ', ' 0.017*\"tv\" ', ' 0.015*\"anything\" ', ' 0.015*\"series\"']\n",
      "['0.178*\"film\" ', ' 0.053*\"time\" ', ' 0.015*\"bit\" ', ' 0.010*\"person\" ', ' 0.009*\"episode\" ', ' 0.009*\"piece\" ', ' 0.008*\"hand\" ', ' 0.008*\"thing\" ', ' 0.008*\"story\" ', ' 0.008*\"hour\"']\n",
      "['0.036*\"actor\" ', ' 0.021*\"idea\" ', ' 0.021*\"fan\" ', ' 0.018*\"course\" ', ' 0.018*\"star\" ', ' 0.015*\"man\" ', ' 0.014*\"problem\" ', ' 0.013*\"character\" ', ' 0.013*\"script\" ', ' 0.012*\"day\"']\n",
      "['0.028*\"role\" ', ' 0.026*\"performance\" ', ' 0.026*\"scene\" ', ' 0.021*\"girl\" ', ' 0.020*\"people\" ', ' 0.019*\"plot\" ', ' 0.018*\"music\" ', ' 0.016*\"love\" ', ' 0.015*\"character\" ', ' 0.012*\"name\"']\n"
     ]
    },
    {
     "data": {
      "text/html": [
       "<table border=\"1\" class=\"dataframe\">\n",
       "  <thead>\n",
       "    <tr style=\"text-align: right;\">\n",
       "      <th></th>\n",
       "      <th>1</th>\n",
       "      <th>2</th>\n",
       "      <th>3</th>\n",
       "      <th>4</th>\n",
       "      <th>5</th>\n",
       "      <th>6</th>\n",
       "      <th>7</th>\n",
       "    </tr>\n",
       "  </thead>\n",
       "  <tbody>\n",
       "    <tr>\n",
       "      <th>0</th>\n",
       "      <td>film</td>\n",
       "      <td>fact</td>\n",
       "      <td>movie</td>\n",
       "      <td>show</td>\n",
       "      <td>film</td>\n",
       "      <td>actor</td>\n",
       "      <td>role</td>\n",
       "    </tr>\n",
       "    <tr>\n",
       "      <th>1</th>\n",
       "      <td>story</td>\n",
       "      <td>moment</td>\n",
       "      <td>end</td>\n",
       "      <td>character</td>\n",
       "      <td>time</td>\n",
       "      <td>idea</td>\n",
       "      <td>performance</td>\n",
       "    </tr>\n",
       "    <tr>\n",
       "      <th>2</th>\n",
       "      <td>way</td>\n",
       "      <td>family</td>\n",
       "      <td>something</td>\n",
       "      <td>one</td>\n",
       "      <td>bit</td>\n",
       "      <td>fan</td>\n",
       "      <td>scene</td>\n",
       "    </tr>\n",
       "    <tr>\n",
       "      <th>3</th>\n",
       "      <td>director</td>\n",
       "      <td>wife</td>\n",
       "      <td>guy</td>\n",
       "      <td>point</td>\n",
       "      <td>person</td>\n",
       "      <td>course</td>\n",
       "      <td>girl</td>\n",
       "    </tr>\n",
       "    <tr>\n",
       "      <th>4</th>\n",
       "      <td>part</td>\n",
       "      <td>child</td>\n",
       "      <td>action</td>\n",
       "      <td>comedy</td>\n",
       "      <td>episode</td>\n",
       "      <td>star</td>\n",
       "      <td>people</td>\n",
       "    </tr>\n",
       "    <tr>\n",
       "      <th>5</th>\n",
       "      <td>thing</td>\n",
       "      <td>time</td>\n",
       "      <td>book</td>\n",
       "      <td>cast</td>\n",
       "      <td>piece</td>\n",
       "      <td>man</td>\n",
       "      <td>plot</td>\n",
       "    </tr>\n",
       "    <tr>\n",
       "      <th>6</th>\n",
       "      <td>nothing</td>\n",
       "      <td>woman</td>\n",
       "      <td>version</td>\n",
       "      <td>line</td>\n",
       "      <td>hand</td>\n",
       "      <td>problem</td>\n",
       "      <td>music</td>\n",
       "    </tr>\n",
       "    <tr>\n",
       "      <th>7</th>\n",
       "      <td>life</td>\n",
       "      <td>war</td>\n",
       "      <td>thing</td>\n",
       "      <td>tv</td>\n",
       "      <td>thing</td>\n",
       "      <td>character</td>\n",
       "      <td>love</td>\n",
       "    </tr>\n",
       "    <tr>\n",
       "      <th>8</th>\n",
       "      <td>character</td>\n",
       "      <td>mind</td>\n",
       "      <td>people</td>\n",
       "      <td>anything</td>\n",
       "      <td>story</td>\n",
       "      <td>script</td>\n",
       "      <td>character</td>\n",
       "    </tr>\n",
       "    <tr>\n",
       "      <th>9</th>\n",
       "      <td>minute</td>\n",
       "      <td>man</td>\n",
       "      <td>year</td>\n",
       "      <td>series</td>\n",
       "      <td>hour</td>\n",
       "      <td>day</td>\n",
       "      <td>name</td>\n",
       "    </tr>\n",
       "  </tbody>\n",
       "</table>"
      ],
      "text/plain": [
       "<IPython.core.display.HTML object>"
      ]
     },
     "metadata": {},
     "output_type": "display_data"
    }
   ],
   "source": [
    "def lda(terms):\n",
    "    dictionary = corpora.Dictionary(terms)\n",
    "    texts = terms\n",
    "    # Frecuencia de los términos en cada documento. El formato está en forma de tupla,\n",
    "    #(índice del término en el diccionario/vocabulario, frecuencia). Por ejemplo, [(0, 2), (1, 1), (2, 1), (3, 1)])\n",
    "    corpus = [dictionary.doc2bow(text) for text in texts]\n",
    "    #Creación del modelo.\n",
    "    ldamodel7 = gensim.models.ldamodel.LdaModel(corpus, # Frecuencia de los términos en cada documento\n",
    "                                               num_topics=7, #Número de temas\n",
    "                                               random_state=1, #Valor de inicio predefinido para conservar coherencia\n",
    "                                               id2word = dictionary, #El vocabulario\n",
    "                                               passes=50) # Cuantos más pases, más consistente el modelo\n",
    "    return ldamodel7\n",
    "\n",
    "# Aplicar el modelo LDA a tu conjunto\n",
    "ldamodel7 = lda(noun_and_collocation_stream)\n",
    "\n",
    "K = ldamodel7.num_topics\n",
    "topicWordProbMat = ldamodel7.print_topics(num_topics=K, num_words=10)\n",
    "\n",
    "columns = ['1','2','3', '4', '5','6','7']\n",
    "df = pd.DataFrame(columns = columns)\n",
    "pd.set_option('display.width', 2000)\n",
    "\n",
    "zz = np.zeros(shape=(1000,K))\n",
    "last_number = 0\n",
    "DC = {}\n",
    "\n",
    "for x in range(10):\n",
    "    data = pd.DataFrame({col: \"\" for col in columns}, index=[0])\n",
    "    df = pd.concat([df, data], ignore_index=True)\n",
    "\n",
    "\n",
    "for line in topicWordProbMat:\n",
    "    topic, word = line\n",
    "    probabilities = word.split(\"+\")\n",
    "    print(probabilities)\n",
    "    y = 0\n",
    "    for pr in probabilities:\n",
    "        a = pr.split(\"*\")\n",
    "        term = a[1].strip().strip('\"')  \n",
    "        df.iloc[y, topic] = term\n",
    "        if term in DC:\n",
    "            zz[DC[term]][topic] = float(a[0])\n",
    "        else:\n",
    "            zz[last_number][topic] = float(a[0])\n",
    "            DC[term] = last_number\n",
    "            last_number += 1\n",
    "        y += 1\n",
    "\n",
    "def natural_keys(text):\n",
    "    def atoi(text):\n",
    "        return int(text) if text.isdigit() else text\n",
    "    return [atoi(c) for c in re.split(r'(\\d+)', text)]\n",
    "\n",
    "df = df.reindex(columns=sorted(df.columns, key=natural_keys))\n",
    "\n",
    "display(HTML(df.to_html()))"
   ]
  },
  {
   "cell_type": "code",
   "execution_count": 62,
   "id": "5ef44daf",
   "metadata": {},
   "outputs": [
    {
     "name": "stdout",
     "output_type": "stream",
     "text": [
      "['0.047*\"film\" ', ' 0.039*\"director\" ', ' 0.028*\"guy\" ', ' 0.025*\"reason\" ', ' 0.020*\"money\" ', ' 0.018*\"end\" ', ' 0.017*\"men\" ', ' 0.015*\"place\" ', ' 0.014*\"piece\" ', ' 0.014*\"head\"']\n",
      "['0.076*\"scene\" ', ' 0.031*\"fact\" ', ' 0.027*\"day\" ', ' 0.026*\"man\" ', ' 0.025*\"woman\" ', ' 0.023*\"moment\" ', ' 0.021*\"love\" ', ' 0.021*\"wife\" ', ' 0.018*\"family\" ', ' 0.016*\"war\"']\n",
      "['0.082*\"thing\" ', ' 0.045*\"plot\" ', ' 0.027*\"book\" ', ' 0.024*\"someone\" ', ' 0.022*\"everything\" ', ' 0.020*\"sense\" ', ' 0.015*\"case\" ', ' 0.012*\"beginning\" ', ' 0.010*\"writer\" ', ' 0.010*\"filmmaker\"']\n",
      "['0.057*\"show\" ', ' 0.044*\"one\" ', ' 0.030*\"acting\" ', ' 0.029*\"line\" ', ' 0.025*\"series\" ', ' 0.020*\"name\" ', ' 0.020*\"audience\" ', ' 0.019*\"eye\" ', ' 0.019*\"tv\" ', ' 0.016*\"story\"']\n",
      "['0.214*\"film\" ', ' 0.082*\"time\" ', ' 0.035*\"story\" ', ' 0.026*\"something\" ', ' 0.018*\"year\" ', ' 0.014*\"viewer\" ', ' 0.013*\"fun\" ', ' 0.011*\"screen\" ', ' 0.011*\"hand\" ', ' 0.010*\"person\"']\n",
      "['0.032*\"idea\" ', ' 0.028*\"version\" ', ' 0.027*\"course\" ', ' 0.023*\"friend\" ', ' 0.019*\"episode\" ', ' 0.017*\"song\" ', ' 0.016*\"look\" ', ' 0.014*\"death\" ', ' 0.014*\"title\" ', ' 0.013*\"monster\"']\n",
      "['0.120*\"character\" ', ' 0.088*\"people\" ', ' 0.055*\"part\" ', ' 0.040*\"performance\" ', ' 0.030*\"work\" ', ' 0.027*\"world\" ', ' 0.027*\"life\" ', ' 0.022*\"music\" ', ' 0.016*\"story\" ', ' 0.015*\"picture\"']\n",
      "['0.059*\"actor\" ', ' 0.031*\"point\" ', ' 0.031*\"comedy\" ', ' 0.029*\"girl\" ', ' 0.027*\"bit\" ', ' 0.025*\"kid\" ', ' 0.025*\"fan\" ', ' 0.015*\"anything\" ', ' 0.013*\"boy\" ', ' 0.012*\"joke\"']\n",
      "['0.409*\"movie\" ', ' 0.019*\"star\" ', ' 0.018*\"child\" ', ' 0.014*\"everyone\" ', ' 0.013*\"game\" ', ' 0.012*\"anyone\" ', ' 0.011*\"review\" ', ' 0.011*\"stuff\" ', ' 0.011*\"ever_seen\" ', ' 0.010*\"story\"']\n",
      "['0.072*\"way\" ', ' 0.069*\"film\" ', ' 0.032*\"nothing\" ', ' 0.030*\"role\" ', ' 0.025*\"minute\" ', ' 0.024*\"cast\" ', ' 0.024*\"action\" ', ' 0.018*\"script\" ', ' 0.017*\"shot\" ', ' 0.017*\"problem\"']\n"
     ]
    },
    {
     "data": {
      "text/html": [
       "<table border=\"1\" class=\"dataframe\">\n",
       "  <thead>\n",
       "    <tr style=\"text-align: right;\">\n",
       "      <th></th>\n",
       "      <th>1</th>\n",
       "      <th>2</th>\n",
       "      <th>3</th>\n",
       "      <th>4</th>\n",
       "      <th>5</th>\n",
       "      <th>6</th>\n",
       "      <th>7</th>\n",
       "      <th>8</th>\n",
       "      <th>9</th>\n",
       "      <th>10</th>\n",
       "    </tr>\n",
       "  </thead>\n",
       "  <tbody>\n",
       "    <tr>\n",
       "      <th>0</th>\n",
       "      <td>film</td>\n",
       "      <td>scene</td>\n",
       "      <td>thing</td>\n",
       "      <td>show</td>\n",
       "      <td>film</td>\n",
       "      <td>idea</td>\n",
       "      <td>character</td>\n",
       "      <td>actor</td>\n",
       "      <td>movie</td>\n",
       "      <td>way</td>\n",
       "    </tr>\n",
       "    <tr>\n",
       "      <th>1</th>\n",
       "      <td>director</td>\n",
       "      <td>fact</td>\n",
       "      <td>plot</td>\n",
       "      <td>one</td>\n",
       "      <td>time</td>\n",
       "      <td>version</td>\n",
       "      <td>people</td>\n",
       "      <td>point</td>\n",
       "      <td>star</td>\n",
       "      <td>film</td>\n",
       "    </tr>\n",
       "    <tr>\n",
       "      <th>2</th>\n",
       "      <td>guy</td>\n",
       "      <td>day</td>\n",
       "      <td>book</td>\n",
       "      <td>acting</td>\n",
       "      <td>story</td>\n",
       "      <td>course</td>\n",
       "      <td>part</td>\n",
       "      <td>comedy</td>\n",
       "      <td>child</td>\n",
       "      <td>nothing</td>\n",
       "    </tr>\n",
       "    <tr>\n",
       "      <th>3</th>\n",
       "      <td>reason</td>\n",
       "      <td>man</td>\n",
       "      <td>someone</td>\n",
       "      <td>line</td>\n",
       "      <td>something</td>\n",
       "      <td>friend</td>\n",
       "      <td>performance</td>\n",
       "      <td>girl</td>\n",
       "      <td>everyone</td>\n",
       "      <td>role</td>\n",
       "    </tr>\n",
       "    <tr>\n",
       "      <th>4</th>\n",
       "      <td>money</td>\n",
       "      <td>woman</td>\n",
       "      <td>everything</td>\n",
       "      <td>series</td>\n",
       "      <td>year</td>\n",
       "      <td>episode</td>\n",
       "      <td>work</td>\n",
       "      <td>bit</td>\n",
       "      <td>game</td>\n",
       "      <td>minute</td>\n",
       "    </tr>\n",
       "    <tr>\n",
       "      <th>5</th>\n",
       "      <td>end</td>\n",
       "      <td>moment</td>\n",
       "      <td>sense</td>\n",
       "      <td>name</td>\n",
       "      <td>viewer</td>\n",
       "      <td>song</td>\n",
       "      <td>world</td>\n",
       "      <td>kid</td>\n",
       "      <td>anyone</td>\n",
       "      <td>cast</td>\n",
       "    </tr>\n",
       "    <tr>\n",
       "      <th>6</th>\n",
       "      <td>men</td>\n",
       "      <td>love</td>\n",
       "      <td>case</td>\n",
       "      <td>audience</td>\n",
       "      <td>fun</td>\n",
       "      <td>look</td>\n",
       "      <td>life</td>\n",
       "      <td>fan</td>\n",
       "      <td>review</td>\n",
       "      <td>action</td>\n",
       "    </tr>\n",
       "    <tr>\n",
       "      <th>7</th>\n",
       "      <td>place</td>\n",
       "      <td>wife</td>\n",
       "      <td>beginning</td>\n",
       "      <td>eye</td>\n",
       "      <td>screen</td>\n",
       "      <td>death</td>\n",
       "      <td>music</td>\n",
       "      <td>anything</td>\n",
       "      <td>stuff</td>\n",
       "      <td>script</td>\n",
       "    </tr>\n",
       "    <tr>\n",
       "      <th>8</th>\n",
       "      <td>piece</td>\n",
       "      <td>family</td>\n",
       "      <td>writer</td>\n",
       "      <td>tv</td>\n",
       "      <td>hand</td>\n",
       "      <td>title</td>\n",
       "      <td>story</td>\n",
       "      <td>boy</td>\n",
       "      <td>ever_seen</td>\n",
       "      <td>shot</td>\n",
       "    </tr>\n",
       "    <tr>\n",
       "      <th>9</th>\n",
       "      <td>head</td>\n",
       "      <td>war</td>\n",
       "      <td>filmmaker</td>\n",
       "      <td>story</td>\n",
       "      <td>person</td>\n",
       "      <td>monster</td>\n",
       "      <td>picture</td>\n",
       "      <td>joke</td>\n",
       "      <td>story</td>\n",
       "      <td>problem</td>\n",
       "    </tr>\n",
       "  </tbody>\n",
       "</table>"
      ],
      "text/plain": [
       "<IPython.core.display.HTML object>"
      ]
     },
     "metadata": {},
     "output_type": "display_data"
    }
   ],
   "source": [
    "def lda(terms):\n",
    "    dictionary = corpora.Dictionary(terms)\n",
    "    texts = terms\n",
    "    # Frecuencia de los términos en cada documento. El formato está en forma de tupla,\n",
    "    #(índice del término en el diccionario/vocabulario, frecuencia). Por ejemplo, [(0, 2), (1, 1), (2, 1), (3, 1)])\n",
    "    corpus = [dictionary.doc2bow(text) for text in texts]\n",
    "    #Creación del modelo.\n",
    "    ldamodel10 = gensim.models.ldamodel.LdaModel(corpus, # Frecuencia de los términos en cada documento\n",
    "                                               num_topics=10, #Número de temas\n",
    "                                               random_state=1, #Valor de inicio predefinido para conservar coherencia\n",
    "                                               id2word = dictionary, #El vocabulario\n",
    "                                               passes=50) # Cuantos más pases, más consistente el modelo\n",
    "    return ldamodel10\n",
    "\n",
    "# Aplicar el modelo LDA a tu conjunto\n",
    "ldamodel10 = lda(noun_and_collocation_stream)\n",
    "\n",
    "K = ldamodel10.num_topics\n",
    "topicWordProbMat = ldamodel10.print_topics(num_topics=K, num_words=10)\n",
    "\n",
    "columns = ['1','2','3', '4', '5','6','7','8','9','10']\n",
    "df = pd.DataFrame(columns = columns)\n",
    "pd.set_option('display.width', 2000)\n",
    "\n",
    "zz = np.zeros(shape=(1000,K))\n",
    "last_number = 0\n",
    "DC = {}\n",
    "\n",
    "for x in range(10):\n",
    "    data = pd.DataFrame({col: \"\" for col in columns}, index=[0])\n",
    "    df = pd.concat([df, data], ignore_index=True)\n",
    "\n",
    "for line in topicWordProbMat:\n",
    "    topic, word = line\n",
    "    probabilities = word.split(\"+\")\n",
    "    print(probabilities)\n",
    "    y = 0\n",
    "    for pr in probabilities:\n",
    "        a = pr.split(\"*\")\n",
    "        term = a[1].strip().strip('\"')  \n",
    "        df.iloc[y, topic] = term\n",
    "        if term in DC:\n",
    "            zz[DC[term]][topic] = float(a[0])\n",
    "        else:\n",
    "            zz[last_number][topic] = float(a[0])\n",
    "            DC[term] = last_number\n",
    "            last_number += 1\n",
    "        y += 1\n",
    "\n",
    "def natural_keys(text):\n",
    "    def atoi(text):\n",
    "        return int(text) if text.isdigit() else text\n",
    "    return [atoi(c) for c in re.split(r'(\\d+)', text)]\n",
    "\n",
    "df = df.reindex(columns=sorted(df.columns, key=natural_keys))\n",
    "\n",
    "display(HTML(df.to_html()))"
   ]
  },
  {
   "cell_type": "markdown",
   "id": "153c549e-7fbb-47b3-88a0-ed7ba24ce913",
   "metadata": {
    "id": "153c549e-7fbb-47b3-88a0-ed7ba24ce913"
   },
   "source": [
    "Usa la librería pyLDAvis para visualizar los tópicos del mejor modelo encontrado."
   ]
  },
  {
   "cell_type": "code",
   "execution_count": 63,
   "id": "4cd5532b-628f-4c13-b34d-f65d18c48e33",
   "metadata": {
    "id": "4cd5532b-628f-4c13-b34d-f65d18c48e33"
   },
   "outputs": [
    {
     "name": "stdout",
     "output_type": "stream",
     "text": [
      "Collecting pyLDAvis\n",
      "  Downloading pyLDAvis-3.4.1-py3-none-any.whl (2.6 MB)\n",
      "\u001b[K     |████████████████████████████████| 2.6 MB 1.5 MB/s eta 0:00:01\n",
      "\u001b[?25hRequirement already satisfied: numpy>=1.24.2 in /Users/noelia/opt/anaconda3/lib/python3.9/site-packages (from pyLDAvis) (1.26.4)\n",
      "Requirement already satisfied: numexpr in /Users/noelia/opt/anaconda3/lib/python3.9/site-packages (from pyLDAvis) (2.8.4)\n",
      "Requirement already satisfied: gensim in /Users/noelia/opt/anaconda3/lib/python3.9/site-packages (from pyLDAvis) (4.3.3)\n",
      "Requirement already satisfied: setuptools in /Users/noelia/opt/anaconda3/lib/python3.9/site-packages (from pyLDAvis) (61.2.0)\n",
      "Requirement already satisfied: pandas>=2.0.0 in /Users/noelia/opt/anaconda3/lib/python3.9/site-packages (from pyLDAvis) (2.2.3)\n",
      "Collecting funcy\n",
      "  Downloading funcy-2.0-py2.py3-none-any.whl (30 kB)\n",
      "Requirement already satisfied: jinja2 in /Users/noelia/opt/anaconda3/lib/python3.9/site-packages (from pyLDAvis) (2.11.3)\n",
      "Collecting joblib>=1.2.0\n",
      "  Downloading joblib-1.4.2-py3-none-any.whl (301 kB)\n",
      "\u001b[K     |████████████████████████████████| 301 kB 4.5 MB/s eta 0:00:01\n",
      "\u001b[?25hRequirement already satisfied: scikit-learn>=1.0.0 in /Users/noelia/opt/anaconda3/lib/python3.9/site-packages (from pyLDAvis) (1.0.2)\n",
      "Requirement already satisfied: scipy in /Users/noelia/opt/anaconda3/lib/python3.9/site-packages (from pyLDAvis) (1.13.1)\n",
      "Requirement already satisfied: python-dateutil>=2.8.2 in /Users/noelia/opt/anaconda3/lib/python3.9/site-packages (from pandas>=2.0.0->pyLDAvis) (2.8.2)\n",
      "Requirement already satisfied: tzdata>=2022.7 in /Users/noelia/opt/anaconda3/lib/python3.9/site-packages (from pandas>=2.0.0->pyLDAvis) (2024.2)\n",
      "Requirement already satisfied: pytz>=2020.1 in /Users/noelia/opt/anaconda3/lib/python3.9/site-packages (from pandas>=2.0.0->pyLDAvis) (2021.3)\n",
      "Requirement already satisfied: six>=1.5 in /Users/noelia/opt/anaconda3/lib/python3.9/site-packages (from python-dateutil>=2.8.2->pandas>=2.0.0->pyLDAvis) (1.16.0)\n",
      "Requirement already satisfied: threadpoolctl>=2.0.0 in /Users/noelia/opt/anaconda3/lib/python3.9/site-packages (from scikit-learn>=1.0.0->pyLDAvis) (2.2.0)\n",
      "Requirement already satisfied: smart-open>=1.8.1 in /Users/noelia/opt/anaconda3/lib/python3.9/site-packages (from gensim->pyLDAvis) (7.1.0)\n",
      "Requirement already satisfied: wrapt in /Users/noelia/opt/anaconda3/lib/python3.9/site-packages (from smart-open>=1.8.1->gensim->pyLDAvis) (1.12.1)\n",
      "Requirement already satisfied: MarkupSafe>=0.23 in /Users/noelia/opt/anaconda3/lib/python3.9/site-packages (from jinja2->pyLDAvis) (2.0.1)\n",
      "Installing collected packages: joblib, funcy, pyLDAvis\n",
      "  Attempting uninstall: joblib\n",
      "    Found existing installation: joblib 1.1.0\n",
      "    Uninstalling joblib-1.1.0:\n",
      "      Successfully uninstalled joblib-1.1.0\n",
      "Successfully installed funcy-2.0 joblib-1.4.2 pyLDAvis-3.4.1\n"
     ]
    }
   ],
   "source": [
    "!pip install pyLDAvis\n",
    "\n",
    "#Instalar la versión pandas 1.5.3 si usas Google Colab como entorno de ejecución.\n",
    "#!pip install pandas==1.5.3"
   ]
  },
  {
   "cell_type": "code",
   "execution_count": 85,
   "id": "bd0176bf-8795-49b8-9f7c-eda69c3b3842",
   "metadata": {
    "id": "bd0176bf-8795-49b8-9f7c-eda69c3b3842"
   },
   "outputs": [
    {
     "data": {
      "text/html": [
       "\n",
       "<link rel=\"stylesheet\" type=\"text/css\" href=\"https://cdn.jsdelivr.net/gh/bmabey/pyLDAvis@3.4.0/pyLDAvis/js/ldavis.v1.0.0.css\">\n",
       "\n",
       "\n",
       "<div id=\"ldavis_el693761405027073925768755664868\" style=\"background-color:white;\"></div>\n",
       "<script type=\"text/javascript\">\n",
       "\n",
       "var ldavis_el693761405027073925768755664868_data = {\"mdsDat\": {\"x\": [-0.0697693914487732, -0.053920472270073176, -0.21481791005778103, 0.33850777377662744], \"y\": [-0.3290596892598792, 0.1824628309314441, 0.1133943177461641, 0.03320254058227097], \"topics\": [1, 2, 3, 4], \"cluster\": [1, 1, 1, 1], \"Freq\": [25.91444302431866, 25.14219460753996, 24.705510128644697, 24.237852239496682]}, \"tinfo\": {\"Term\": [\"film\", \"movie\", \"character\", \"people\", \"thing\", \"show\", \"scene\", \"man\", \"role\", \"director\", \"woman\", \"performance\", \"one\", \"fact\", \"actor\", \"nothing\", \"comedy\", \"work\", \"part\", \"time\", \"plot\", \"acting\", \"moment\", \"friend\", \"reason\", \"fan\", \"music\", \"cast\", \"script\", \"minute\", \"film\", \"director\", \"nothing\", \"work\", \"minute\", \"fun\", \"production\", \"word\", \"piece\", \"sort\", \"writer\", \"cinema\", \"type\", \"review\", \"experience\", \"example\", \"actress\", \"sequence\", \"feeling\", \"violence\", \"low_budget\", \"number\", \"feel\", \"power\", \"filmmaker\", \"crap\", \"effort\", \"theater\", \"budget\", \"producer\", \"crime\", \"part\", \"story\", \"anyone\", \"viewer\", \"time\", \"way\", \"actor\", \"style\", \"life\", \"end\", \"idea\", \"something\", \"people\", \"thing\", \"reason\", \"book\", \"version\", \"someone\", \"everything\", \"sense\", \"eye\", \"mind\", \"screen\", \"hand\", \"boy\", \"face\", \"school\", \"level\", \"murder\", \"beginning\", \"country\", \"history\", \"novel\", \"matter\", \"team\", \"bunch\", \"start\", \"dream\", \"blood\", \"much_better\", \"lady\", \"half\", \"movie\", \"something\", \"end\", \"world\", \"plot\", \"kid\", \"guy\", \"day\", \"place\", \"time\", \"kind\", \"story\", \"way\", \"life\", \"lot\", \"year\", \"girl\", \"character\", \"show\", \"role\", \"performance\", \"one\", \"comedy\", \"acting\", \"cast\", \"fan\", \"script\", \"music\", \"line\", \"tv\", \"star\", \"series\", \"name\", \"episode\", \"dialogue\", \"song\", \"rest\", \"stuff\", \"flick\", \"genre\", \"effect\", \"drama\", \"direction\", \"message\", \"cinematography\", \"reality\", \"theme\", \"actor\", \"point\", \"bit\", \"movie\", \"way\", \"plot\", \"story\", \"scene\", \"action\", \"lot\", \"part\", \"man\", \"woman\", \"fact\", \"friend\", \"moment\", \"family\", \"wife\", \"child\", \"men\", \"person\", \"death\", \"couple\", \"game\", \"head\", \"case\", \"son\", \"look\", \"joke\", \"hero\", \"relationship\", \"night\", \"house\", \"comment\", \"home\", \"car\", \"side\", \"daughter\", \"brother\", \"killer\", \"play\", \"situation\", \"scene\", \"time\", \"life\", \"love\", \"girl\", \"idea\", \"course\", \"money\", \"guy\"], \"Freq\": [8561.0, 9500.0, 2314.0, 1653.0, 1443.0, 1008.0, 1714.0, 884.0, 827.0, 849.0, 775.0, 771.0, 768.0, 703.0, 1225.0, 681.0, 650.0, 585.0, 1059.0, 2320.0, 1069.0, 530.0, 522.0, 521.0, 533.0, 524.0, 522.0, 521.0, 517.0, 532.0, 8560.320715662783, 848.8047755636981, 680.4506149580103, 584.4566295995858, 531.6203824115034, 366.3088806252175, 323.1025843523564, 318.4051627858301, 313.64457510822757, 279.44027474569975, 276.7095239608629, 273.12166179986303, 272.97696135954317, 268.3017493763974, 259.55817995818904, 246.27165513801344, 241.22282981008212, 208.43775158262682, 204.4051431907279, 199.01742559020215, 196.9938917826102, 198.5102707005223, 188.78063365283165, 185.2764023408221, 182.13170387646102, 180.6946816124428, 177.3785960402771, 175.63604998247072, 167.13178138592428, 163.4955369595455, 168.58851093556095, 721.0969659386835, 949.5204480139745, 337.36005480797076, 274.3036390552187, 638.5987245452158, 444.50189843005353, 347.31598072896037, 216.6870292742461, 283.3852215603213, 241.23438095758942, 221.3664342968851, 213.50012989627515, 1652.4636498441207, 1442.298074482697, 532.5524604137914, 481.0869050505796, 463.68562252306964, 417.03817845547553, 395.65691558619426, 347.0159512978211, 332.12029555999635, 301.5693015998762, 299.0810757252784, 295.32951192046846, 262.4583697029746, 231.04286783627387, 221.13581561790932, 215.33041891830715, 209.44140334167878, 207.72453929878216, 200.0635567814805, 196.3209952600415, 191.01344057828976, 172.69168113752676, 170.5423925441331, 167.4897917410567, 156.90283091666512, 148.932385066339, 148.4639120137718, 144.65544747908336, 147.40143261020165, 141.51515971174317, 7132.177683834069, 628.6705486004405, 610.4281955979834, 451.4264547553609, 607.738953722399, 364.04530566891606, 451.16683205242833, 369.08779165998163, 245.30552919992482, 628.4392187881025, 313.63921145100124, 476.21622356956215, 418.81624752700526, 324.4075958433287, 282.6328016860605, 240.5457359032877, 234.83464009042598, 2314.107756664201, 1007.7883868151719, 826.7683406150528, 770.2804725612809, 767.5726390680736, 649.3243181888693, 529.3969218457543, 520.9333561022992, 523.5433428177889, 517.0066416369028, 521.3347496838478, 505.95511372939995, 481.13401163152525, 449.5135127075798, 446.25981076493423, 350.1861899676041, 323.3003248568559, 308.6353778597375, 292.64833881915285, 263.7251769101514, 266.0162718474448, 257.0932595185818, 250.88839663207926, 245.15603000666334, 238.22902488956825, 227.64235944077865, 209.56302669801806, 187.52074471846072, 189.8859339605465, 184.23000851835533, 877.6823981818926, 484.73273049359756, 410.9649254918782, 2367.510536964235, 659.8763994181229, 461.2963382505487, 580.855816267117, 503.92199489055366, 319.294048633616, 343.4910358077258, 338.2762203513228, 884.0614494318442, 774.3965928075226, 702.7652853475147, 520.8185642414991, 521.3648277020703, 505.07003409961277, 465.2084885249541, 432.8857329298206, 365.1154631763049, 355.11403452698556, 335.64565010195076, 306.0032795101767, 302.0103947034977, 298.55881422639067, 282.2724966896715, 275.12013940274954, 273.80518533561917, 263.40558401010674, 262.3363346426339, 258.3824650400402, 250.80645627633245, 249.78725364924912, 242.94337455182617, 230.23259046550436, 224.76557866763503, 225.6310988371218, 209.48471229015203, 206.9866386052338, 203.0560339054652, 206.09100942610925, 203.96247955653945, 1210.1220860782728, 1053.4671860848819, 645.253079272525, 346.922815200805, 372.6360359399148, 324.2266690375336, 294.0981770993977, 267.35897288061386, 280.6576923089131], \"Total\": [8561.0, 9500.0, 2314.0, 1653.0, 1443.0, 1008.0, 1714.0, 884.0, 827.0, 849.0, 775.0, 771.0, 768.0, 703.0, 1225.0, 681.0, 650.0, 585.0, 1059.0, 2320.0, 1069.0, 530.0, 522.0, 521.0, 533.0, 524.0, 522.0, 521.0, 517.0, 532.0, 8561.054214597987, 849.5365948385066, 681.1846773695572, 585.1930543733056, 532.3558822478326, 367.05030117262544, 323.8428226822238, 319.1379576794877, 314.3755021965737, 280.1845442798324, 277.44658123378673, 273.857004180506, 273.71981833991134, 269.03631043906256, 260.29752519360466, 247.01548318612114, 241.96509619428687, 209.17244044022877, 205.14635175642613, 199.75538637068044, 197.727004512329, 199.25181438325666, 189.52173475402574, 186.02000739117238, 182.86506004122498, 181.43107339029612, 178.11098711512707, 176.3710302753316, 167.86696645946867, 164.22619093111743, 169.34351212785404, 1059.8709722318683, 2006.8494177779614, 477.11385490071774, 389.40335346231495, 2320.757765854431, 1523.4546447343469, 1225.487687699754, 300.95511744621336, 1253.2943816480638, 852.1688321730198, 546.0877240138689, 842.670630460441, 1653.206945902431, 1443.040824348695, 533.2921558331078, 481.82752360922444, 464.4286045909211, 417.7851783741109, 396.39781539993373, 347.7612554688247, 332.86590568302125, 302.31601963241695, 299.828976850213, 296.0761281761714, 263.20555333359306, 231.79872616836664, 221.88495401597405, 216.0789129045678, 210.19371771977512, 208.47272120127204, 200.80267717688437, 197.0614085210536, 191.76216697660533, 173.43708788995005, 171.291504595761, 168.23715706464552, 157.65435784070513, 149.68701657847762, 149.22152933201076, 145.39427841802262, 148.1569423868752, 142.2613728284131, 9500.187789092635, 842.670630460441, 852.1688321730198, 687.7742874828965, 1069.5388083100913, 520.2504435158957, 732.322288588142, 605.5209383660131, 321.3807354742511, 2320.757765854431, 622.2382338924234, 2006.8494177779614, 1523.4546447343469, 1253.2943816480638, 793.1664015685309, 626.9075082103678, 607.9680428183253, 2314.843726674905, 1008.5254043076254, 827.5030559523999, 771.0092529333324, 768.3122700970019, 650.0559136262214, 530.1209678192478, 521.6631584927156, 524.2814393523915, 517.7358543924465, 522.0721994822796, 506.69601160943296, 481.8692453943812, 450.25164520865536, 446.99265338058143, 350.92983257907144, 324.0311742934274, 309.36685559677585, 293.3790785230821, 264.45900730158354, 266.7581659442924, 257.8314824441851, 251.63242072562247, 245.89267954700867, 238.96414478744998, 228.37164760213855, 210.3007744086522, 188.24746441916932, 190.62571049060088, 184.98341436893423, 1225.487687699754, 658.0660999753245, 556.3985791526476, 9500.187789092635, 1523.4546447343469, 1069.5388083100913, 2006.8494177779614, 1714.5408110885048, 500.73467545083037, 793.1664015685309, 1059.8709722318683, 884.7943587865861, 775.1247229269195, 703.5122016403051, 521.5490625991764, 522.1047396869715, 505.7979240435936, 465.9356663346182, 433.6177190418737, 365.8508146397742, 355.8520428104282, 336.37596003583855, 306.73355950943585, 302.736486207834, 299.2997589360882, 283.0068488180699, 275.8446703280263, 274.53936779177275, 264.1357337414928, 263.07159554919247, 259.110611910074, 251.53779283200808, 250.5203532205427, 243.67905133333497, 230.96181830224936, 225.49434853991596, 226.36514594459658, 210.2110440968789, 207.72491438707848, 203.78201950774405, 206.83172188504008, 204.7000170671051, 1714.5408110885048, 2320.757765854431, 1253.2943816480638, 469.1918279211795, 607.9680428183253, 546.0877240138689, 457.57225442147933, 437.730035240721, 732.322288588142], \"Category\": [\"Default\", \"Default\", \"Default\", \"Default\", \"Default\", \"Default\", \"Default\", \"Default\", \"Default\", \"Default\", \"Default\", \"Default\", \"Default\", \"Default\", \"Default\", \"Default\", \"Default\", \"Default\", \"Default\", \"Default\", \"Default\", \"Default\", \"Default\", \"Default\", \"Default\", \"Default\", \"Default\", \"Default\", \"Default\", \"Default\", \"Topic1\", \"Topic1\", \"Topic1\", \"Topic1\", \"Topic1\", \"Topic1\", \"Topic1\", \"Topic1\", \"Topic1\", \"Topic1\", \"Topic1\", \"Topic1\", \"Topic1\", \"Topic1\", \"Topic1\", \"Topic1\", \"Topic1\", \"Topic1\", \"Topic1\", \"Topic1\", \"Topic1\", \"Topic1\", \"Topic1\", \"Topic1\", \"Topic1\", \"Topic1\", \"Topic1\", \"Topic1\", \"Topic1\", \"Topic1\", \"Topic1\", \"Topic1\", \"Topic1\", \"Topic1\", \"Topic1\", \"Topic1\", \"Topic1\", \"Topic1\", \"Topic1\", \"Topic1\", \"Topic1\", \"Topic1\", \"Topic1\", \"Topic2\", \"Topic2\", \"Topic2\", \"Topic2\", \"Topic2\", \"Topic2\", \"Topic2\", \"Topic2\", \"Topic2\", \"Topic2\", \"Topic2\", \"Topic2\", \"Topic2\", \"Topic2\", \"Topic2\", \"Topic2\", \"Topic2\", \"Topic2\", \"Topic2\", \"Topic2\", \"Topic2\", \"Topic2\", \"Topic2\", \"Topic2\", \"Topic2\", \"Topic2\", \"Topic2\", \"Topic2\", \"Topic2\", \"Topic2\", \"Topic2\", \"Topic2\", \"Topic2\", \"Topic2\", \"Topic2\", \"Topic2\", \"Topic2\", \"Topic2\", \"Topic2\", \"Topic2\", \"Topic2\", \"Topic2\", \"Topic2\", \"Topic2\", \"Topic2\", \"Topic2\", \"Topic2\", \"Topic3\", \"Topic3\", \"Topic3\", \"Topic3\", \"Topic3\", \"Topic3\", \"Topic3\", \"Topic3\", \"Topic3\", \"Topic3\", \"Topic3\", \"Topic3\", \"Topic3\", \"Topic3\", \"Topic3\", \"Topic3\", \"Topic3\", \"Topic3\", \"Topic3\", \"Topic3\", \"Topic3\", \"Topic3\", \"Topic3\", \"Topic3\", \"Topic3\", \"Topic3\", \"Topic3\", \"Topic3\", \"Topic3\", \"Topic3\", \"Topic3\", \"Topic3\", \"Topic3\", \"Topic3\", \"Topic3\", \"Topic3\", \"Topic3\", \"Topic3\", \"Topic3\", \"Topic3\", \"Topic3\", \"Topic4\", \"Topic4\", \"Topic4\", \"Topic4\", \"Topic4\", \"Topic4\", \"Topic4\", \"Topic4\", \"Topic4\", \"Topic4\", \"Topic4\", \"Topic4\", \"Topic4\", \"Topic4\", \"Topic4\", \"Topic4\", \"Topic4\", \"Topic4\", \"Topic4\", \"Topic4\", \"Topic4\", \"Topic4\", \"Topic4\", \"Topic4\", \"Topic4\", \"Topic4\", \"Topic4\", \"Topic4\", \"Topic4\", \"Topic4\", \"Topic4\", \"Topic4\", \"Topic4\", \"Topic4\", \"Topic4\", \"Topic4\", \"Topic4\", \"Topic4\", \"Topic4\", \"Topic4\"], \"logprob\": [30.0, 29.0, 28.0, 27.0, 26.0, 25.0, 24.0, 23.0, 22.0, 21.0, 20.0, 19.0, 18.0, 17.0, 16.0, 15.0, 14.0, 13.0, 12.0, 11.0, 10.0, 9.0, 8.0, 7.0, 6.0, 5.0, 4.0, 3.0, 2.0, 1.0, -1.9149, -4.226, -4.4471, -4.5991, -4.6939, -5.0663, -5.1918, -5.2065, -5.2215, -5.337, -5.3468, -5.3599, -5.3604, -5.3777, -5.4108, -5.4634, -5.4841, -5.6302, -5.6497, -5.6764, -5.6866, -5.679, -5.7292, -5.748, -5.7651, -5.773, -5.7915, -5.8014, -5.851, -5.873, -5.8423, -4.389, -4.1139, -5.1487, -5.3556, -4.5105, -4.8729, -5.1196, -5.5914, -5.323, -5.484, -5.57, -5.6062, -3.5295, -3.6656, -4.6619, -4.7635, -4.8003, -4.9064, -4.959, -5.0902, -5.1341, -5.2306, -5.2388, -5.2515, -5.3695, -5.497, -5.5408, -5.5674, -5.5951, -5.6033, -5.6409, -5.6598, -5.6872, -5.788, -5.8006, -5.8186, -5.8839, -5.9361, -5.9392, -5.9652, -5.9464, -5.9871, -2.0672, -4.4959, -4.5254, -4.8271, -4.5298, -5.0423, -4.8277, -5.0285, -5.4371, -4.4963, -5.1913, -4.7737, -4.9021, -5.1576, -5.2954, -5.4566, -5.4807, -3.1753, -4.0065, -4.2045, -4.2753, -4.2788, -4.4461, -4.6503, -4.6664, -4.6614, -4.674, -4.6656, -4.6956, -4.7459, -4.8139, -4.8211, -5.0636, -5.1435, -5.1899, -5.2431, -5.3471, -5.3385, -5.3726, -5.397, -5.4201, -5.4488, -5.4943, -5.577, -5.6881, -5.6756, -5.7058, -4.1447, -4.7384, -4.9035, -3.1524, -4.43, -4.788, -4.5575, -4.6996, -5.1559, -5.0829, -5.0982, -4.1184, -4.2508, -4.3479, -4.6475, -4.6465, -4.6782, -4.7604, -4.8324, -5.0027, -5.0305, -5.0869, -5.1793, -5.1925, -5.204, -5.2601, -5.2857, -5.2905, -5.3292, -5.3333, -5.3485, -5.3782, -5.3823, -5.4101, -5.4638, -5.4879, -5.484, -5.5583, -5.5703, -5.5894, -5.5746, -5.585, -3.8044, -3.9431, -4.4333, -5.0538, -4.9823, -5.1215, -5.219, -5.3143, -5.2658], \"loglift\": [30.0, 29.0, 28.0, 27.0, 26.0, 25.0, 24.0, 23.0, 22.0, 21.0, 20.0, 19.0, 18.0, 17.0, 16.0, 15.0, 14.0, 13.0, 12.0, 11.0, 10.0, 9.0, 8.0, 7.0, 6.0, 5.0, 4.0, 3.0, 2.0, 1.0, 1.3503, 1.3495, 1.3493, 1.3491, 1.349, 1.3483, 1.3481, 1.3481, 1.348, 1.3477, 1.3477, 1.3477, 1.3477, 1.3476, 1.3475, 1.3474, 1.3473, 1.3469, 1.3468, 1.3467, 1.3467, 1.3466, 1.3465, 1.3464, 1.3464, 1.3463, 1.3462, 1.3462, 1.346, 1.3459, 1.3459, 0.9652, 0.602, 1.0038, 1.0, 0.06, 0.1186, 0.0895, 1.0219, -0.1364, 0.0884, 0.4474, -0.0226, 1.3802, 1.3801, 1.3792, 1.3791, 1.379, 1.3788, 1.3788, 1.3785, 1.3784, 1.3781, 1.3781, 1.3781, 1.3778, 1.3774, 1.3772, 1.3772, 1.377, 1.377, 1.3769, 1.3769, 1.3767, 1.3763, 1.3762, 1.3762, 1.3758, 1.3756, 1.3755, 1.3755, 1.3755, 1.3754, 1.0939, 1.0877, 1.047, 0.9596, 0.8154, 1.0236, 0.8962, 0.8856, 1.1105, 0.0742, 0.6955, -0.0578, 0.0893, 0.0291, 0.3487, 0.4227, 0.4294, 1.3978, 1.3974, 1.3973, 1.3972, 1.3972, 1.397, 1.3968, 1.3967, 1.3967, 1.3967, 1.3967, 1.3967, 1.3966, 1.3965, 1.3965, 1.396, 1.3959, 1.3958, 1.3956, 1.3954, 1.3954, 1.3953, 1.3952, 1.3951, 1.3951, 1.3949, 1.3946, 1.3943, 1.3943, 1.3941, 1.0643, 1.0924, 1.0952, 0.0087, 0.5615, 0.5572, 0.1583, 0.1737, 0.9482, 0.5613, 0.2561, 1.4164, 1.4163, 1.4162, 1.4159, 1.4158, 1.4158, 1.4157, 1.4156, 1.4152, 1.4152, 1.4151, 1.4149, 1.4149, 1.4148, 1.4147, 1.4146, 1.4146, 1.4145, 1.4145, 1.4144, 1.4143, 1.4143, 1.4142, 1.4141, 1.414, 1.414, 1.4138, 1.4137, 1.4137, 1.4137, 1.4136, 1.0688, 0.6274, 0.7534, 1.1153, 0.9277, 0.8959, 0.9752, 0.9242, 0.4582]}, \"token.table\": {\"Topic\": [3, 2, 3, 1, 3, 1, 1, 4, 2, 1, 3, 2, 2, 2, 4, 1, 2, 4, 4, 3, 3, 4, 1, 3, 3, 4, 2, 4, 1, 3, 4, 1, 1, 4, 2, 4, 4, 3, 3, 1, 3, 2, 3, 1, 1, 2, 3, 2, 1, 1, 2, 2, 4, 4, 3, 1, 1, 1, 1, 3, 4, 1, 4, 3, 2, 4, 2, 4, 2, 2, 4, 4, 2, 4, 4, 1, 4, 4, 2, 4, 4, 1, 2, 3, 2, 2, 1, 2, 4, 3, 4, 1, 2, 3, 2, 4, 1, 4, 2, 4, 3, 2, 1, 4, 2, 4, 2, 3, 2, 2, 3, 3, 4, 1, 2, 1, 3, 1, 3, 2, 3, 4, 1, 1, 2, 4, 2, 3, 3, 4, 1, 1, 1, 3, 2, 4, 3, 1, 3, 3, 4, 2, 2, 3, 2, 1, 3, 3, 4, 4, 2, 1, 2, 4, 3, 1, 3, 2, 1, 2, 3, 3, 1, 2, 2, 1, 3, 2, 1, 2, 4, 3, 1, 2, 1, 3, 1, 1, 2, 3, 4, 4, 1, 1, 2, 4, 1, 1, 2, 3, 4], \"Freq\": [0.9978854490063672, 0.3614688753820351, 0.6370639295407138, 0.2831525795671767, 0.7164494664552772, 0.9960114239224325, 0.7063303581283048, 0.2913350735306658, 0.9977324553613149, 0.2606045475903693, 0.7386790969630468, 0.9918139873148404, 0.9982825314688839, 0.9954197268320357, 0.9965102193484231, 0.9948353956841295, 0.9926463506265139, 0.9978077120641077, 0.9964423164235253, 0.9987287611135282, 0.9996355146288354, 0.9985754294283946, 0.9968706143446266, 0.9986854302663101, 0.9983756572256514, 0.9972133372580884, 0.9960026569955673, 0.9976084797809244, 0.14423951487933975, 0.2119883779287266, 0.6425214753716043, 0.9976240377007042, 0.9979715070064528, 0.9942389130786069, 0.6093926347051509, 0.38974705092253553, 0.9988823219239612, 0.998814172914328, 0.9983726193420208, 0.9993683675997399, 0.995965316100842, 0.995410312836869, 0.9963696375644318, 0.993762388648102, 0.28280780861869004, 0.7158205944290496, 0.9968176694860427, 0.998996423833637, 0.9958889897385258, 0.9988569803213329, 0.9973986351012896, 0.9965542253766033, 0.9992719363799081, 0.9984224450009312, 0.9994631903186594, 0.9972470980454939, 0.9944120295261832, 0.9998768592545308, 0.99526940772048, 0.9967750934203115, 0.9989472465036364, 0.9971385361372269, 0.9975672367177824, 0.9974867279669337, 0.38653347454024545, 0.6135190893766449, 0.6158490694984737, 0.383710839310579, 0.9981627280602139, 0.996365366627832, 0.9989984658285267, 0.9959266010952061, 0.9946138184588272, 0.9958355960767911, 0.9979229103988825, 0.40469688345235044, 0.5933112680477898, 0.9957001889694927, 0.6996630267915925, 0.29985558291068254, 0.9961624705180904, 0.3053492852913446, 0.5046298714814853, 0.18963797718094033, 0.9921911024334309, 0.9950068570316979, 0.2258048900114426, 0.25851867266327705, 0.5146436539130052, 0.9986263724334, 0.998035371771593, 0.2105485049161792, 0.3567977658160402, 0.4324439352470028, 0.2600215791066485, 0.7395695733607135, 0.9963231905822775, 0.9991022108372442, 0.9974798476192855, 0.9976744219071592, 0.9985697893433919, 0.9989546712317753, 0.9993314956034112, 0.9978840650103391, 0.3883672270889793, 0.6099649978397498, 0.7507220023785633, 0.249258230739265, 0.9972882122851559, 0.9943208687075674, 0.9979462620623298, 0.9973503746539931, 0.9978619799992948, 0.9982608572845004, 0.996025457009472, 0.9987362002999265, 0.9995935635689347, 0.6802714848220851, 0.3189067432314352, 0.999269936588748, 0.9986909976378459, 0.9976056261931251, 0.9988055615213336, 0.23647963804628575, 0.7623356752807896, 0.9959787508537865, 0.5684693208661229, 0.4310269028277675, 0.7370080300720339, 0.26289152412878736, 0.9945166791170615, 0.9925335238906458, 0.9973974328804228, 0.9967175965456573, 0.9994521655158205, 0.9957137536672583, 0.9982643536846522, 0.9961480647821429, 0.9993920796439586, 0.29395625740750214, 0.7057283163949952, 0.9960116537874383, 0.9972351676648413, 0.998578706909704, 0.9978109825150061, 0.9943948617812116, 0.9977792624261852, 0.9994790371116272, 0.9983869162230216, 0.9965802784135791, 0.9981206169707443, 0.2539545016337747, 0.7464363622787116, 0.9969378769326163, 0.9987078883573074, 0.9957722711547953, 0.9994411009680181, 0.9958494148232407, 0.4733788153631706, 0.23718770117144125, 0.289508517606318, 0.9971578529129237, 0.7210377475597576, 0.27911138615216424, 0.9982981958361044, 0.9978963082840057, 0.9946837700434434, 0.9992787284107747, 0.2753411016874224, 0.2706012705159644, 0.45373111123138615, 0.9981960969647071, 0.9973702366738478, 0.9990771356744949, 0.7036405761886093, 0.29532359949521925, 0.9962184430447413, 0.2920992768232999, 0.275032802222388, 0.43322589371545606, 0.9979918550945481, 0.9985489781274522, 0.9964342766126536, 0.997961263613111, 0.6557383842460314, 0.34313582856333347, 0.9983903884062986, 0.2871236947119134, 0.3844267245865063, 0.17705961173901327, 0.15153750554239875], \"Term\": [\"acting\", \"action\", \"action\", \"actor\", \"actor\", \"actress\", \"anyone\", \"anyone\", \"beginning\", \"bit\", \"bit\", \"blood\", \"book\", \"boy\", \"brother\", \"budget\", \"bunch\", \"car\", \"case\", \"cast\", \"character\", \"child\", \"cinema\", \"cinematography\", \"comedy\", \"comment\", \"country\", \"couple\", \"course\", \"course\", \"course\", \"crap\", \"crime\", \"daughter\", \"day\", \"day\", \"death\", \"dialogue\", \"direction\", \"director\", \"drama\", \"dream\", \"effect\", \"effort\", \"end\", \"end\", \"episode\", \"everything\", \"example\", \"experience\", \"eye\", \"face\", \"fact\", \"family\", \"fan\", \"feel\", \"feeling\", \"film\", \"filmmaker\", \"flick\", \"friend\", \"fun\", \"game\", \"genre\", \"girl\", \"girl\", \"guy\", \"guy\", \"half\", \"hand\", \"head\", \"hero\", \"history\", \"home\", \"house\", \"idea\", \"idea\", \"joke\", \"kid\", \"kid\", \"killer\", \"kind\", \"kind\", \"kind\", \"lady\", \"level\", \"life\", \"life\", \"life\", \"line\", \"look\", \"lot\", \"lot\", \"lot\", \"love\", \"love\", \"low_budget\", \"man\", \"matter\", \"men\", \"message\", \"mind\", \"minute\", \"moment\", \"money\", \"money\", \"movie\", \"movie\", \"much_better\", \"murder\", \"music\", \"name\", \"night\", \"nothing\", \"novel\", \"number\", \"one\", \"part\", \"part\", \"people\", \"performance\", \"person\", \"piece\", \"place\", \"place\", \"play\", \"plot\", \"plot\", \"point\", \"point\", \"power\", \"producer\", \"production\", \"reality\", \"reason\", \"relationship\", \"rest\", \"review\", \"role\", \"scene\", \"scene\", \"school\", \"screen\", \"script\", \"sense\", \"sequence\", \"series\", \"show\", \"side\", \"situation\", \"someone\", \"something\", \"something\", \"son\", \"song\", \"sort\", \"star\", \"start\", \"story\", \"story\", \"story\", \"stuff\", \"style\", \"style\", \"team\", \"theater\", \"theme\", \"thing\", \"time\", \"time\", \"time\", \"tv\", \"type\", \"version\", \"viewer\", \"viewer\", \"violence\", \"way\", \"way\", \"way\", \"wife\", \"woman\", \"word\", \"work\", \"world\", \"world\", \"writer\", \"year\", \"year\", \"year\", \"year\"]}, \"R\": 30, \"lambda.step\": 0.01, \"plot.opts\": {\"xlab\": \"PC1\", \"ylab\": \"PC2\"}, \"topic.order\": [1, 3, 4, 2]};\n",
       "\n",
       "function LDAvis_load_lib(url, callback){\n",
       "  var s = document.createElement('script');\n",
       "  s.src = url;\n",
       "  s.async = true;\n",
       "  s.onreadystatechange = s.onload = callback;\n",
       "  s.onerror = function(){console.warn(\"failed to load library \" + url);};\n",
       "  document.getElementsByTagName(\"head\")[0].appendChild(s);\n",
       "}\n",
       "\n",
       "if(typeof(LDAvis) !== \"undefined\"){\n",
       "   // already loaded: just create the visualization\n",
       "   !function(LDAvis){\n",
       "       new LDAvis(\"#\" + \"ldavis_el693761405027073925768755664868\", ldavis_el693761405027073925768755664868_data);\n",
       "   }(LDAvis);\n",
       "}else if(typeof define === \"function\" && define.amd){\n",
       "   // require.js is available: use it to load d3/LDAvis\n",
       "   require.config({paths: {d3: \"https://d3js.org/d3.v5\"}});\n",
       "   require([\"d3\"], function(d3){\n",
       "      window.d3 = d3;\n",
       "      LDAvis_load_lib(\"https://cdn.jsdelivr.net/gh/bmabey/pyLDAvis@3.4.0/pyLDAvis/js/ldavis.v3.0.0.js\", function(){\n",
       "        new LDAvis(\"#\" + \"ldavis_el693761405027073925768755664868\", ldavis_el693761405027073925768755664868_data);\n",
       "      });\n",
       "    });\n",
       "}else{\n",
       "    // require.js not available: dynamically load d3 & LDAvis\n",
       "    LDAvis_load_lib(\"https://d3js.org/d3.v5.js\", function(){\n",
       "         LDAvis_load_lib(\"https://cdn.jsdelivr.net/gh/bmabey/pyLDAvis@3.4.0/pyLDAvis/js/ldavis.v3.0.0.js\", function(){\n",
       "                 new LDAvis(\"#\" + \"ldavis_el693761405027073925768755664868\", ldavis_el693761405027073925768755664868_data);\n",
       "            })\n",
       "         });\n",
       "}\n",
       "</script>"
      ],
      "text/plain": [
       "PreparedData(topic_coordinates=              x         y  topics  cluster       Freq\n",
       "topic                                                \n",
       "0     -0.069769 -0.329060       1        1  25.914443\n",
       "2     -0.053920  0.182463       2        1  25.142195\n",
       "3     -0.214818  0.113394       3        1  24.705510\n",
       "1      0.338508  0.033203       4        1  24.237852, topic_info=          Term         Freq        Total Category  logprob  loglift\n",
       "86        film  8561.000000  8561.000000  Default  30.0000  30.0000\n",
       "88       movie  9500.000000  9500.000000  Default  29.0000  29.0000\n",
       "55   character  2314.000000  2314.000000  Default  28.0000  28.0000\n",
       "262     people  1653.000000  1653.000000  Default  27.0000  27.0000\n",
       "80       thing  1443.000000  1443.000000  Default  26.0000  26.0000\n",
       "..         ...          ...          ...      ...      ...      ...\n",
       "74        girl   372.636036   607.968043   Topic4  -4.9823   0.9277\n",
       "61        idea   324.226669   546.087724   Topic4  -5.1215   0.8959\n",
       "57      course   294.098177   457.572254   Topic4  -5.2190   0.9752\n",
       "37       money   267.358973   437.730035   Topic4  -5.3143   0.9242\n",
       "87         guy   280.657692   732.322289   Topic4  -5.2658   0.4582\n",
       "\n",
       "[201 rows x 6 columns], token_table=      Topic      Freq    Term\n",
       "term                         \n",
       "500       3  0.997885  acting\n",
       "91        2  0.361469  action\n",
       "91        3  0.637064  action\n",
       "176       1  0.283153   actor\n",
       "176       3  0.716449   actor\n",
       "...     ...       ...     ...\n",
       "318       1  0.998390  writer\n",
       "149       1  0.287124    year\n",
       "149       2  0.384427    year\n",
       "149       3  0.177060    year\n",
       "149       4  0.151538    year\n",
       "\n",
       "[191 rows x 3 columns], R=30, lambda_step=0.01, plot_opts={'xlab': 'PC1', 'ylab': 'PC2'}, topic_order=[1, 3, 4, 2])"
      ]
     },
     "execution_count": 85,
     "metadata": {},
     "output_type": "execute_result"
    }
   ],
   "source": [
    "import pyLDAvis.gensim_models  \n",
    "\n",
    "#Se procede a representar el model lda con num_topics igual a 4\n",
    "\n",
    "dictionary = ldamodel4.id2word\n",
    "corpus = [dictionary.doc2bow(text) for text in noun_and_collocation_stream]\n",
    "\n",
    "pyLDAvis.enable_notebook()\n",
    "\n",
    "pyLDAvis.gensim_models.prepare(ldamodel4, corpus, dictionary, n_jobs=1)\n"
   ]
  },
  {
   "cell_type": "markdown",
   "id": "YF6i9Y4Lodhq",
   "metadata": {
    "id": "YF6i9Y4Lodhq"
   },
   "source": [
    "<div style=\"background-color: #EDF7FF; border-color: #7C9DBF; border-left: 5px solid #7C9DBF; padding: 0.5em;\">\n",
    "\n",
    "<strong>Ejercicio Opcional:</strong> Tomando como base los resultados de cada modelo LDA, calcular las métricas de calidad denominadas perplejidad y coherencia, las cuales están definidas en el paquete gensim.\n",
    "<br>\n",
    "Tanto la perplejidad como la coherencia son métricas complementarias. Una perplejidad baja indica que el modelo puede generalizar bien a nuevos datos, mientras que una alta coherencia indica que los temas generados son interpretables y distintos entre sí. Cuando evaluamos el rendimiento de un modelo LDA, se sugiere elegir modelos que evidencien un equilibrio entre ambas métricas.\n",
    "<br>\n",
    "Como indica el enunciado este ejercicio es opcional, pero ha sido incorporado en la práctica por sí alguien quiere aprender un poco más el tema. Las métricas mencionadas nos puede ayudar a tener un criterio adicional para elegir el modelo de temas máas apropiado. Para una introducción básica de este tema podrían revisar el siguiente post (https://medium.com/@iqra.bismi/topic-modelling-using-lda-fe81a2a806e0)\n",
    "<br>\n",
    "<b>Salida esperada:</b>\n",
    "<br>\n",
    "- Valores de coherencia y perplejidad de cada modelo (puedes usar el valor absoluto calculado para una mejor interpretación) de cada uno de los 3 modelos de LDA.\n",
    "\n",
    "</div>"
   ]
  },
  {
   "cell_type": "code",
   "execution_count": 82,
   "id": "ggDQcxhpoexZ",
   "metadata": {
    "id": "ggDQcxhpoexZ"
   },
   "outputs": [
    {
     "name": "stdout",
     "output_type": "stream",
     "text": [
      "\n",
      "Perplexity ldamodel4:  -7.921677399644285\n",
      "\n",
      "Coherence Score ldamodel4:  0.36291650441904616\n",
      "\n",
      "Perplexity ldamodel7:  -8.151419291655545\n",
      "\n",
      "Coherence Score ldamodel7:  0.28195283322663006\n",
      "\n",
      "Perplexity ldamodel10:  -8.705833294575914\n",
      "\n",
      "Coherence Score ldamodel10:  0.2695082196919544\n"
     ]
    }
   ],
   "source": [
    "#me he basado en este notebook para realizar este ejercicio https://www.kaggle.com/code/furqanrustam118/topic-modeling-with-lda-and-nmf\n",
    "\n",
    "from gensim.models import CoherenceModel\n",
    "\n",
    "\n",
    "print('\\nPerplexity ldamodel4: ', ldamodel4.log_perplexity(corpus))  \n",
    "coherence_model_lda4 = CoherenceModel(model=ldamodel4, texts=noun_and_collocation_stream, dictionary=dictionary, coherence='c_v')\n",
    "coherence_lda4 = coherence_model_lda.get_coherence()\n",
    "print('\\nCoherence Score ldamodel4: ', coherence_lda4)\n",
    "\n",
    "print('\\nPerplexity ldamodel7: ', ldamodel7.log_perplexity(corpus))\n",
    "coherence_model_lda7 = CoherenceModel(model=ldamodel7, texts=noun_and_collocation_stream, dictionary=dictionary, coherence='c_v')\n",
    "coherence_lda7 = coherence_model_lda7.get_coherence()\n",
    "print('\\nCoherence Score ldamodel7: ', coherence_lda7)\n",
    "\n",
    "print('\\nPerplexity ldamodel10: ', ldamodel10.log_perplexity(corpus))\n",
    "coherence_model_lda10 = CoherenceModel(model=ldamodel10, texts=noun_and_collocation_stream, dictionary=dictionary, coherence='c_v')\n",
    "coherence_lda10 = coherence_model_lda10.get_coherence()\n",
    "print('\\nCoherence Score ldamodel10: ', coherence_lda10)\n",
    "\n",
    "\n"
   ]
  },
  {
   "cell_type": "markdown",
   "id": "1f6ed8c2",
   "metadata": {
    "id": "1f6ed8c2"
   },
   "source": [
    "# 4. Clasificación automática de opiniones positivas y negativas\n",
    "\n",
    "El objetivo de esta parte será crear un clasificador que permita, dado un texto, identificar la polaridad de su opinión.\n",
    "\n",
    "## 4.1 Clasificación binaria de sentimientos según Logistic Regression"
   ]
  },
  {
   "cell_type": "markdown",
   "id": "32290b6e",
   "metadata": {
    "id": "32290b6e"
   },
   "source": [
    "<div style=\"background-color: #EDF7FF; border-color: #7C9DBF; border-left: 5px solid #7C9DBF; padding: 0.5em;\">\n",
    "<strong>Ejercicio 4.1.1:</strong> Crear un clasificador automático de opiniones positivas y negativas.\n",
    "</div>\n",
    "<br>\n",
    "\n",
    "<b>Pasos a seguir:</b>\n",
    "\n",
    "1. Crear dos listas, una con los textos y otra con las etiquetas de valoración (0 y 1).\n",
    "2. Vectorizar las opiniones con un vectorizador tf.idf. Usad 'word' como analyzer\n",
    "3. Preparar el corpus de entrenamiento y evaluación y entrenar al clasificador con Logistic Regression.\n",
    "4. Utilizar el modelo entrenado para predecir la categoría 1 (positivo) o 0 (negativo) de las opiniones del conjunto de test y mostrar las palabras más informativas para cada categoría.ría."
   ]
  },
  {
   "cell_type": "markdown",
   "id": "3a45ae89",
   "metadata": {
    "id": "3a45ae89"
   },
   "source": [
    "<div style=\"background-color: #F8F7FF; border-color: #7C9DBF; border-left: 5px solid #7C9DBF; padding: 0.5em;\">\n",
    "\n",
    "<i>Primer paso</i>: Crear dos listas. Una con los textos y otra con las etiquetas de valoración (0 y 1).\n",
    "\n",
    "<b>Salida esperada:</b> Lista de las 3 primeras opiniones.\n",
    "</div>"
   ]
  },
  {
   "cell_type": "code",
   "execution_count": 34,
   "id": "ec874492",
   "metadata": {
    "id": "ec874492"
   },
   "outputs": [
    {
     "name": "stdout",
     "output_type": "stream",
     "text": [
      "0                                                                                                                                                                                                                                                                                                                                                                                                                                                                                                                                                                                                                                                                                                                                                                                                                                                                                                                              I really liked this Summerslam due to the look of the arena the curtains and just the look overall was interesting to me for some reason. Anyways this could have been one of the best Summerslam s ever if the WWF did not have Lex Luger in the main event against Yokozuna now for it is time it was ok to have a huge fat man vs a strong man but I am glad times have changed. It was a terrible main event just like every match Luger is in is terrible. Other matches on the card were Razor Ramon vs Ted Dibiase Steiner Brothers vs Heavenly Bodies Shawn Michaels vs Curt Hening this was the event where Shawn named his big monster of a body guard Diesel IRS vs Kid Bret Hart first takes on Doink then takes on Jerry Lawler and stuff with the Harts and Lawler was always very interesting then Ludvig Borga destroyed Marty Jannetty Undertaker took on Giant Gonzalez in another terrible match The Smoking Gunns and Tatanka took on Bam Bam Bigelow and the Headshrinkers and Yokozuna defended the world title against Lex Luger this match was boring and it has a terrible ending. However it deserves\n",
      "1    Not many television shows appeal to quite as many different kinds of fans like Farscape does. I know youngsters and years old fans both Male and Female in as many different countries as you can think of that just adore this T. V miniseries. It has elements that can be found in almost every other show on T. V character driven drama that could be from an Australian soap opera yet in the same episode it has science fact fiction that would give even the hardiest Trekkie a run for his money in the brainbender stakes Wormhole theory Time Travel in true equational form. Magnificent. It embraces cultures from all over the map as the possibilities are endless having multiple stars and therefore thousands of planets to choose from. With such a broad scope it would be expected that nothing would be able to keep up the illusion for long but here is where Farscape really comes into it is own element. It succeeds where all others have failed especially the likes of Star Trek a universe with practically zero Kaos element They ran out of ideas pretty quickly kept rehashing them Over the course of seasons they manage to keep the audience s attention using good continuity and constant character evolution with multiple threads to every episode with unique personal touches to camera that are specific to certain character groups within the whole. This structure allows for an extremely large area of subject matter as loyalties are forged and broken in many ways on many many issues. I happened to see the pilot Premiere in passing and just had to keep tuning in after that to see if Crichton would ever Get the girl after seeing them all on television I was delighted to see them available on DVD I have to admit that it was the only thing that kept me sane whilst I had to do a hour night shift and developed chronic insomnia. Farscape was the only thing to get me through those extremely long nights. Do yourself a favour Watch the pilot and see what I mean. Farscape Comet\n",
      "2                                                                                                                                                                                                                                                                                                                                                                                                                                                                                                                                                                                                                                                                                                                                                                                                                                                                                                                                                                                                                                                                                                                                                                                                                                                                                                                                                                                                          The film quickly gets to a major chase scene with ever increasing destruction. The first really bad thing is the guy hijacking Steven Seagal would have been beaten to pulp by Seagal s driving but that probably would have ended the whole premise for the movie. It seems like they decided to make all kinds of changes in the movie plot so just plan to enjoy the action and do not expect a coherent plot. Turn any sense of logic you may have it will reduce your chance of getting a headache. I does give me some hope that Steven Seagal is trying to move back towards the type of characters he portrayed in his more popular movies.\n",
      "Name: text, dtype: object\n"
     ]
    }
   ],
   "source": [
    "imdb_sentiment_texts = df['text']\n",
    "imdb_sentiment_labels = [1 if s == 'positive' else 0 for s in df['sentiment']]\n",
    "print(imdb_sentiment_texts[:3])\n"
   ]
  },
  {
   "cell_type": "markdown",
   "id": "9720bc32",
   "metadata": {
    "id": "9720bc32"
   },
   "source": [
    "\n",
    "\n",
    "<div style=\"background-color: #F8F7FF; border-color: #7C9DBF; border-left: 5px solid #7C9DBF; padding: 0.5em;\">\n",
    "\n",
    "<i>Segundo paso</i>: Vectorizar las opiniones con un vectorizador tf.idf. Usar 'word' como analyzer.\n",
    "<br>\n",
    "\n",
    "<b>Salida esperada:</b> Imprimir la matriz de los vectores correpsondientes a las primeras 5 opiniones.\n",
    "</div>"
   ]
  },
  {
   "cell_type": "code",
   "execution_count": 59,
   "id": "9fbcfdd4",
   "metadata": {
    "id": "9fbcfdd4"
   },
   "outputs": [
    {
     "name": "stdout",
     "output_type": "stream",
     "text": [
      "[[0. 0. 0. ... 0. 0. 0.]\n",
      " [0. 0. 0. ... 0. 0. 0.]\n",
      " [0. 0. 0. ... 0. 0. 0.]\n",
      " [0. 0. 0. ... 0. 0. 0.]\n",
      " [0. 0. 0. ... 0. 0. 0.]]\n"
     ]
    }
   ],
   "source": [
    "from sklearn.feature_extraction.text import TfidfVectorizer\n",
    "\n",
    "\n",
    "vectorizer = TfidfVectorizer(analyzer='word')\n",
    "X = vectorizer.fit_transform(imdb_sentiment_texts)\n",
    "M = X.toarray()\n",
    "print(M[:5])"
   ]
  },
  {
   "cell_type": "markdown",
   "id": "3122e026",
   "metadata": {
    "id": "3122e026"
   },
   "source": [
    "<div style=\"background-color: #F8F7FF; border-color: #7C9DBF; border-left: 5px solid #7C9DBF; padding: 0.5em;\">\n",
    "\n",
    "<i>Tercer paso</i>: Preparar el corpus de entrenamiento y evaluación, y entrenar al clasificador con Logistic Regression.\n",
    "<br>\n",
    "<b>Salida esperada:</b> Tiempo de ejecución que conlleva realizar el entrenamiento (fit()).\n",
    "</div>"
   ]
  },
  {
   "cell_type": "code",
   "execution_count": 36,
   "id": "0b251acc",
   "metadata": {
    "id": "0b251acc"
   },
   "outputs": [
    {
     "name": "stdout",
     "output_type": "stream",
     "text": [
      "Tiempo de ejecución): 0.3753 segundos\n"
     ]
    }
   ],
   "source": [
    "from sklearn.linear_model import LogisticRegression\n",
    "from sklearn.model_selection import train_test_split\n",
    "from sklearn import metrics\n",
    "import time\n",
    "\n",
    "X_train, X_test, y_train, y_test = train_test_split(\n",
    "    X, \n",
    "    imdb_sentiment_labels, \n",
    "    train_size=0.80, \n",
    "    random_state=1234\n",
    ")\n",
    "\n",
    "logreg_model = LogisticRegression()\n",
    "\n",
    "start_time = time.time()\n",
    "logreg_model.fit(X_train, y_train)\n",
    "end_time = time.time()\n",
    "\n",
    "y_pred = logreg_model.predict(X_test)\n",
    "\n",
    "print(f\"Tiempo de ejecución): {end_time - start_time:.4f} segundos\")\n",
    "\n"
   ]
  },
  {
   "cell_type": "markdown",
   "id": "8c78a34d",
   "metadata": {
    "id": "8c78a34d"
   },
   "source": [
    "<div style=\"background-color: #F8F7FF; border-color: #7C9DBF; border-left: 5px solid #7C9DBF; padding: 0.5em;\">\n",
    "\n",
    "<i>Cuarto paso</i>: Utilizar el modelo entrenado para predecir la categoría 1 (positivo) o 0 (negativo) de las opiniones del conjunto de test y mostrar las palabras más informativas para cada categoría.\n",
    "<br>\n",
    "<b>Salida esperada:</b> Lista de las 10 palabras más informativas de cada categoría.\n",
    "</div>"
   ]
  },
  {
   "cell_type": "code",
   "execution_count": 38,
   "id": "160fc014",
   "metadata": {
    "id": "160fc014"
   },
   "outputs": [
    {
     "name": "stdout",
     "output_type": "stream",
     "text": [
      "CLASES 1/0 DEL CORPUS DE TEST:\n",
      "===============\n",
      "[0 1]\n",
      "\n",
      "FEATURES MÁS INFORMATIVOS EN LAS OPINIONES POSITIVAS Y NEGATIVAS:\n",
      "===============\n",
      "0 -5.478635986412825 bad\n",
      "0 -3.809042362439507 worst\n",
      "0 -2.9427616616998424 no\n",
      "0 -2.698059651260353 awful\n",
      "0 -2.6485378595778326 not\n",
      "0 -2.610300228384925 waste\n",
      "0 -2.408828046940333 poor\n",
      "0 -2.3150657308257645 acting\n",
      "0 -2.2333636117961455 stupid\n",
      "0 -2.2174054998790105 boring\n",
      "1 4.140473468760596 great\n",
      "1 3.2898771024872624 best\n",
      "1 2.658679290374103 and\n",
      "1 2.603733804356409 excellent\n",
      "1 2.2751185300283847 love\n",
      "1 2.204596945239676 amazing\n",
      "1 2.122665622031521 loved\n",
      "1 1.934519732046183 fun\n",
      "1 1.918326673211904 well\n",
      "1 1.9069566671254705 it\n"
     ]
    }
   ],
   "source": [
    "import numpy as np\n",
    "feature_names = vectorizer.get_feature_names_out()\n",
    "coefs = logreg_model.coef_[0]\n",
    "top_neg_indices = np.argsort(coefs)[:10]    \n",
    "top_pos_indices = np.argsort(coefs)[-10:]  \n",
    "\n",
    "print(\"CLASES 1/0 DEL CORPUS DE TEST:\")\n",
    "print(\"===============\")\n",
    "print(np.unique(y_test, return_counts=False)) \n",
    "print(\"\\nFEATURES MÁS INFORMATIVOS EN LAS OPINIONES POSITIVAS Y NEGATIVAS:\")\n",
    "print(\"===============\")\n",
    "\n",
    "for idx in top_neg_indices:\n",
    "    print(f\"0 {coefs[idx]} {feature_names[idx]}\")\n",
    "\n",
    "for idx in reversed(top_pos_indices):  \n",
    "    print(f\"1 {coefs[idx]} {feature_names[idx]}\")\n"
   ]
  },
  {
   "cell_type": "markdown",
   "id": "4af23001",
   "metadata": {
    "id": "4af23001"
   },
   "source": [
    "<div style=\"background-color: #EDF7FF; border-color: #7C9DBF; border-left: 5px solid #7C9DBF; padding: 0.5em;\">\n",
    "    \n",
    "<strong>Ejercicio 4.1.2:</strong> Identificar sobre qué aspectos se hacen valoraciones negativas.\n",
    "</div>\n",
    "<br>\n",
    "\n",
    "<b>Pasos a seguir: </b>\n",
    "\n",
    "1. Elegir dos palabras más informativas de la categoría 0 y un conjunto de opiniones en las que aparezcan estas palabras. Preprocesar las opiniones quitando los caracteres de salto de línea.\n",
    "2. Utilizar el diccionario de opiniones (archivo AFINN-111) para extraer la polaridad de cada opinión como la media de los valores de las opinion words del texto.\n",
    "3. Seleccionar opiniones con polaridad negativa que ejemplifiquen los aspectos peor valorados. Comenta cuáles son estos aspectos.tos"
   ]
  },
  {
   "cell_type": "markdown",
   "id": "d8eb0943",
   "metadata": {
    "id": "d8eb0943"
   },
   "source": [
    "<div style=\"background-color: #F8F7FF; border-color: #7C9DBF; border-left: 5px solid #7C9DBF; padding: 0.5em;\">\n",
    "\n",
    "<i>Primer paso</i>: Elegir dos palabras más informativas de la categoría 0 y un conjunto de opiniones en las que aparezcan estas palabras. Preprocesar las opiniones quitando los caracteres de salto de línea.\n",
    "<br>\n",
    "<b>Salida esperada:</b> Lista de las 3 primeras opiniones en las que aparezcan los términos seleccionados.\n",
    "\n",
    "</div>"
   ]
  },
  {
   "cell_type": "code",
   "execution_count": 39,
   "id": "7eb6ab69",
   "metadata": {
    "id": "7eb6ab69"
   },
   "outputs": [
    {
     "name": "stdout",
     "output_type": "stream",
     "text": [
      "OPINIONES CON LAS PALABRAS INFORMATIVAS 'bad' o 'awful':\n",
      "===============\n",
      "The film quickly gets to a major chase scene with ever increasing destruction. The first really bad thing is the guy hijacking Steven Seagal would have been beaten to pulp by Seagal s driving but that probably would have ended the whole premise for the movie. It seems like they decided to make all kinds of changes in the movie plot so just plan to enjoy the action and do not expect a coherent plot. Turn any sense of logic you may have it will reduce your chance of getting a headache. I does give me some hope that Steven Seagal is trying to move back towards the type of characters he portrayed in his more popular movies. \n",
      "\n",
      "Expectations were somewhat high for me when I went to see this movie after all I thought Steve Carell could do no wrong coming off of great movies like Anchorman The Year Old Virgin and Little Miss Sunshine. Boy was I wrong. I will start with what is right with this movie at certain points Steve Carell is allowed to be Steve Carell. There are a handful of moments in the film that made me laugh and it is due almost entirely to him being given the wiggle room to do his thing. He is an undoubtedly talented individual and it is a shame that he signed on to what turned out to be in my opinion a total train wreck. With that out of the way I will discuss what went horrifyingly wrong. The film begins with Dan Burns a widower with three girls who is being considered for a nationally syndicated advice column. He prepares his girls for a family reunion where his extended relatives gather for some time with each other. The family is high atop the list of things that make this an awful movie. No family behaves like this. It is almost as if they have been transported from Pleasantville or Leave it to Beaver. They are a caricature of what we think a family is when we are. It reaches the point where they become obnoxious and simply frustrating. Touch football crossword puzzle competitions family bowling and talent shows ARE NOT HOW ACTUAL PEOPLE BEHAVE. It is almost sickening. Another big flaw is the woman Carell is supposed to be falling for. Observing her in her first scene with Steve Carell is like watching a stroke victim trying to be rehabilitated. What I imagine is supposed to be unique and original in this woman comes off as mildly retarded. It makes me think that this movie is taking place on another planet. I left the theater wondering what I just saw. After thinking further I do not think it was much. \n",
      "\n",
      "Great just great The West Coast got Dirty Harry Callahan the East Coast got Sharky. Burt Reynolds plays Sharky in Sharky s Machine and I enjoyed every minute of it. Playing a maverick narcotics cop in Atlanta GA is just what everyone wants. Instead of suspension he is sent to vice squad. Like in the Dirty Harry movies or any other cop movies the captain is always going to be the jerk. When I was a kid I was curious what that movie meant Sharky s Machine. Well I knew who played Sharky I wonder what his machine was. It was his GROUP of fellow cops. After uncovering the murder he goes all out to find the perp. When it turns out to be a big time mob boss Sharky does not play around. When he gets the other prostitute into safety Sharky fights back hard and good despite losing a finger to the thug. And I also like the part where the bad gets blown out of the building through a plate glass window. That was the BOMB Randy Crawford s Street Life really put the movie in the right mood and the movie itself is really a great hit to me ALWAYS Rating out of stars. \n",
      "\n"
     ]
    }
   ],
   "source": [
    "target = ['bad', 'awful']\n",
    "filtered_opinions = df['text'].astype(str).apply(lambda x: any(word in x.lower() for word in target))\n",
    "cleaned_opinions = df.loc[filtered_opinions, 'text'].str.replace('\\n', ' ', regex=True).str.strip()\n",
    "\n",
    "print(\"OPINIONES CON LAS PALABRAS INFORMATIVAS 'bad' o 'awful':\\n===============\")\n",
    "for op in cleaned_opinions.head(3):\n",
    "    print(op, \"\\n\")\n",
    "\n"
   ]
  },
  {
   "cell_type": "markdown",
   "id": "b5c24dbb",
   "metadata": {
    "id": "b5c24dbb"
   },
   "source": [
    "<div style=\"background-color: #F8F7FF; border-color: #7C9DBF; border-left: 5px solid #7C9DBF; padding: 0.5em;\">\n",
    "\n",
    "<i>Segundo paso</i>: Utilizar el diccionario de opiniones (archivo AFINN-111) para extraer la polaridad de cada opinión como la media de los valores de las opinion words del texto.\n",
    "<br>\n",
    "<b>Salida esperada:</b> Lista de las 3 primeras opioniones y el respectivo puntaje de polaridad.\n",
    "\n",
    "</div>"
   ]
  },
  {
   "cell_type": "code",
   "execution_count": 40,
   "id": "895f6b09",
   "metadata": {
    "id": "895f6b09"
   },
   "outputs": [
    {
     "name": "stdout",
     "output_type": "stream",
     "text": [
      "OPINIONES CON SU PUNTUAJE DE POLARIDAD (AFINN):\n",
      "===============\n",
      "Opinión: The film quickly gets to a major chase scene with ever increasing destruction. The first really bad thing is the guy hijacking Steven Seagal would have been beaten to pulp by Seagal s driving but that probably would have ended the whole premise for the movie. It seems like they decided to make all kinds of changes in the movie plot so just plan to enjoy the action and do not expect a coherent plot. Turn any sense of logic you may have it will reduce your chance of getting a headache. I does give me some hope that Steven Seagal is trying to move back towards the type of characters he portrayed in his more popular movies.\n",
      "Polaridad: 0.38\n",
      "\n",
      "Opinión: Expectations were somewhat high for me when I went to see this movie after all I thought Steve Carell could do no wrong coming off of great movies like Anchorman The Year Old Virgin and Little Miss Sunshine. Boy was I wrong. I will start with what is right with this movie at certain points Steve Carell is allowed to be Steve Carell. There are a handful of moments in the film that made me laugh and it is due almost entirely to him being given the wiggle room to do his thing. He is an undoubtedly talented individual and it is a shame that he signed on to what turned out to be in my opinion a total train wreck. With that out of the way I will discuss what went horrifyingly wrong. The film begins with Dan Burns a widower with three girls who is being considered for a nationally syndicated advice column. He prepares his girls for a family reunion where his extended relatives gather for some time with each other. The family is high atop the list of things that make this an awful movie. No family behaves like this. It is almost as if they have been transported from Pleasantville or Leave it to Beaver. They are a caricature of what we think a family is when we are. It reaches the point where they become obnoxious and simply frustrating. Touch football crossword puzzle competitions family bowling and talent shows ARE NOT HOW ACTUAL PEOPLE BEHAVE. It is almost sickening. Another big flaw is the woman Carell is supposed to be falling for. Observing her in her first scene with Steve Carell is like watching a stroke victim trying to be rehabilitated. What I imagine is supposed to be unique and original in this woman comes off as mildly retarded. It makes me think that this movie is taking place on another planet. I left the theater wondering what I just saw. After thinking further I do not think it was much.\n",
      "Polaridad: -0.58\n",
      "\n",
      "Opinión: Great just great The West Coast got Dirty Harry Callahan the East Coast got Sharky. Burt Reynolds plays Sharky in Sharky s Machine and I enjoyed every minute of it. Playing a maverick narcotics cop in Atlanta GA is just what everyone wants. Instead of suspension he is sent to vice squad. Like in the Dirty Harry movies or any other cop movies the captain is always going to be the jerk. When I was a kid I was curious what that movie meant Sharky s Machine. Well I knew who played Sharky I wonder what his machine was. It was his GROUP of fellow cops. After uncovering the murder he goes all out to find the perp. When it turns out to be a big time mob boss Sharky does not play around. When he gets the other prostitute into safety Sharky fights back hard and good despite losing a finger to the thug. And I also like the part where the bad gets blown out of the building through a plate glass window. That was the BOMB Randy Crawford s Street Life really put the movie in the right mood and the movie itself is really a great hit to me ALWAYS Rating out of stars.\n",
      "Polaridad: 0.12\n",
      "\n"
     ]
    }
   ],
   "source": [
    "afinn = {}\n",
    "with open(\"AFINN-111.txt\", \"r\", encoding=\"utf-8\") as f:\n",
    "    for line in f:\n",
    "        word, score = line.strip().split('\\t')\n",
    "        afinn[word] = int(score)\n",
    "\n",
    "def calculate_polarity(text):\n",
    "    tokens = word_tokenize(text.lower())\n",
    "    scores = [afinn[word] for word in tokens if word in afinn]\n",
    "    return sum(scores) / len(scores) if scores else 0  \n",
    "\n",
    "opinions_polarity = [\n",
    "    (opinion, calculate_polarity(opinion))\n",
    "    for opinion in cleaned_opinions\n",
    "]\n",
    "\n",
    "print(\"OPINIONES CON SU PUNTUAJE DE POLARIDAD (AFINN):\\n===============\")\n",
    "for op, score in opinions_polarity[:3]:\n",
    "    print(f\"Opinión: {op}\\nPolaridad: {score:.2f}\\n\")\n",
    "\n"
   ]
  },
  {
   "cell_type": "markdown",
   "id": "1561cfe1",
   "metadata": {
    "id": "1561cfe1"
   },
   "source": [
    "<div style=\"background-color: #F8F7FF; border-color: #7C9DBF; border-left: 5px solid #7C9DBF; padding: 0.5em;\">\n",
    "\n",
    "<i>Tercer paso:</i> Seleccionar opiniones con polaridad negativa que ejemplifiquen los aspectos peor valorados (utilizar un umbral para seleccionar las peores reseñas). Comenta cuáles son estos aspectos.\n",
    "<br>\n",
    "<b>Salida esperada: </b>\n",
    "<br>\n",
    "- Lista de las tres primeras opiniones negativas.\n",
    "<br>\n",
    "- Respuesta a la pregunta ¿Cuáles son los aspectos peor valorados por los clientes?\n",
    "\n",
    "</div>"
   ]
  },
  {
   "cell_type": "code",
   "execution_count": 41,
   "id": "412f2bf5",
   "metadata": {
    "id": "412f2bf5"
   },
   "outputs": [
    {
     "name": "stdout",
     "output_type": "stream",
     "text": [
      "Tres primeras opiniones con polaridad negativa (≤ -2.0):\n",
      "\n",
      "I do not know why but when I am asked about bad movies I have seen I often think of The Air Up There. I know that technically lots of movies are horrible compared to it and I have seen worse acting. it is just that it is so bland so predictable. In a word mediocre.\n",
      "\n",
      "This movie is so bad I knew how it ends right after this little girl killed the first person. Very bad acting very bad plot very bad moviedo yourself a favour and DO NOT watch it\n",
      "\n",
      "Well I do not know where to begin. Obviously this was a made for TV movie so my expectations were low. I was pleasantly surprised by the overall direction of the second hour but anything before or after that seemed to be a paint by the numbers sort of movie. And talk about bad chemistry between the tow lovebird detectives. I would go more in depth but this movie does not really deserve it. Grade D IMDB rating\n",
      "\n"
     ]
    }
   ],
   "source": [
    "th = -3.0\n",
    "\n",
    "worst_opinions = [op for op, score in opinions_polarity if score <= th]\n",
    "\n",
    "print(\"Tres primeras opiniones con polaridad negativa (≤ -2.0):\\n\")\n",
    "for op in worst_opinions[:3]:\n",
    "    print(f\"{op}\\n\")\n",
    "\n"
   ]
  },
  {
   "cell_type": "markdown",
   "id": "fd22b5d6-b863-4ff6-92a6-a4e35325fa38",
   "metadata": {
    "id": "fd22b5d6-b863-4ff6-92a6-a4e35325fa38"
   },
   "source": [
    "# 5. Evaluación: comparación de modelos y discusión de resultados"
   ]
  },
  {
   "cell_type": "markdown",
   "id": "b69d8d2f",
   "metadata": {
    "id": "b69d8d2f"
   },
   "source": [
    "<div style=\"background-color: #EDF7FF; border-color: #7C9DBF; border-left: 5px solid #7C9DBF; padding: 0.5em;\">\n",
    "\n",
    "<strong>Ejercicio 5.1:</strong> Obtén los resultados de las métricas de evaluación del clasificador basado en regresión logística.\n",
    "\n",
    "<b>Salida esperada: </b> Métricas de redimiento del modelo de regresión logística (por clase).\n",
    "</div>"
   ]
  },
  {
   "cell_type": "code",
   "execution_count": 42,
   "id": "afc6ad8f",
   "metadata": {
    "id": "afc6ad8f"
   },
   "outputs": [
    {
     "name": "stdout",
     "output_type": "stream",
     "text": [
      "\n",
      "Métricas de evaluación:\n",
      "              precision    recall  f1-score   support\n",
      "\n",
      "           0       0.87      0.79      0.83       474\n",
      "           1       0.83      0.89      0.86       525\n",
      "\n",
      "    accuracy                           0.84       999\n",
      "   macro avg       0.85      0.84      0.84       999\n",
      "weighted avg       0.85      0.84      0.84       999\n",
      "\n"
     ]
    }
   ],
   "source": [
    "bm = metrics.classification_report(y_test, y_pred, labels=[0,1])\n",
    "print(\"\\nMétricas de evaluación:\")\n",
    "print(bm)\n"
   ]
  },
  {
   "cell_type": "markdown",
   "id": "82c5988e-ce7e-4b4c-afca-023941c34fa7",
   "metadata": {
    "id": "82c5988e-ce7e-4b4c-afca-023941c34fa7"
   },
   "source": [
    "<div style=\"background-color: #EDF7FF; border-color: #7C9DBF; border-left: 5px solid #7C9DBF; padding: 0.5em;\">\n",
    "\n",
    "<strong>Ejercicio 5.2:</strong> Obtener también los resultados de las métricas de evaluación para un clasificador diferente. Por ejemplo, utilizar SVM.\n",
    "<br>\n",
    "<b>Salida esperada: </b>\n",
    "<br>\n",
    "- Tiempo de ejecución que conlleva realizar el entrenamiento (fit()).\n",
    "<br>\n",
    "- Métricas de redimiento del modelo SVM (por clase).\n",
    "<br>\n",
    "</div>"
   ]
  },
  {
   "cell_type": "code",
   "execution_count": 43,
   "id": "210a7df8",
   "metadata": {
    "id": "210a7df8"
   },
   "outputs": [
    {
     "name": "stdout",
     "output_type": "stream",
     "text": [
      "Tiempo de ejecución): 0.3753 segundos\n",
      "\n",
      "Métricas de evaluación:\n",
      "              precision    recall  f1-score   support\n",
      "\n",
      "           0       0.87      0.83      0.85       474\n",
      "           1       0.86      0.89      0.87       525\n",
      "\n",
      "    accuracy                           0.86       999\n",
      "   macro avg       0.86      0.86      0.86       999\n",
      "weighted avg       0.86      0.86      0.86       999\n",
      "\n"
     ]
    }
   ],
   "source": [
    "import sklearn.svm\n",
    "\n",
    "classifier = sklearn.svm.LinearSVC()\n",
    "\n",
    "start = time.time()\n",
    "svm_model = classifier.fit(X=X_train, y=y_train)\n",
    "end = time.time()\n",
    "\n",
    "print(f\"Tiempo de ejecución): {end_time - start_time:.4f} segundos\")\n",
    "\n",
    "y_pred_svm = svm_model.predict(X_test)\n",
    "svm = metrics.classification_report(y_test, y_pred_svm, labels=[0, 1])\n",
    "print(\"\\nMétricas de evaluación:\")\n",
    "print(svm)\n"
   ]
  }
 ],
 "metadata": {
  "colab": {
   "provenance": []
  },
  "kernelspec": {
   "display_name": "Python 3 (ipykernel)",
   "language": "python",
   "name": "python3"
  },
  "language_info": {
   "codemirror_mode": {
    "name": "ipython",
    "version": 3
   },
   "file_extension": ".py",
   "mimetype": "text/x-python",
   "name": "python",
   "nbconvert_exporter": "python",
   "pygments_lexer": "ipython3",
   "version": "3.9.7"
  }
 },
 "nbformat": 4,
 "nbformat_minor": 5
}
